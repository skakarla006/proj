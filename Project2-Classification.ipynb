{
 "cells": [
  {
   "cell_type": "markdown",
   "metadata": {},
   "source": [
    "# $$ CLASSIFICATION $$"
   ]
  },
  {
   "cell_type": "markdown",
   "metadata": {},
   "source": [
    "### Importing Libraries"
   ]
  },
  {
   "cell_type": "code",
   "execution_count": 1,
   "metadata": {},
   "outputs": [],
   "source": [
    "import numpy as np\n",
    "import pandas as pd\n",
    "import matplotlib.pyplot as plt\n",
    "import matplotlib.image as mpimg\n",
    "from datetime import datetime\n",
    "%matplotlib inline\n",
    "import warnings\n",
    "warnings.filterwarnings('ignore')\n",
    "import seaborn as sns\n",
    "import glob\n",
    "from sklearn.preprocessing import MinMaxScaler\n",
    "from sklearn.model_selection import train_test_split\n",
    "from pandas.plotting import scatter_matrix"
   ]
  },
  {
   "cell_type": "markdown",
   "metadata": {},
   "source": [
    "### Loading Data and print info"
   ]
  },
  {
   "cell_type": "code",
   "execution_count": 2,
   "metadata": {},
   "outputs": [
    {
     "name": "stdout",
     "output_type": "stream",
     "text": [
      "Frame shape: (32530, 15)\n",
      "<class 'pandas.core.frame.DataFrame'>\n",
      "RangeIndex: 32530 entries, 0 to 32529\n",
      "Data columns (total 15 columns):\n",
      " #   Column          Non-Null Count  Dtype  \n",
      "---  ------          --------------  -----  \n",
      " 0   Age             32530 non-null  int64  \n",
      " 1   Workclass       30695 non-null  object \n",
      " 2   fnlwgt          31306 non-null  float64\n",
      " 3   Education       32530 non-null  object \n",
      " 4   Education_Num   32530 non-null  int64  \n",
      " 5   Martial_Status  32530 non-null  object \n",
      " 6   Occupation      30688 non-null  object \n",
      " 7   Relationship    32530 non-null  object \n",
      " 8   Race            32530 non-null  object \n",
      " 9   Sex             32530 non-null  object \n",
      " 10  Capital_Gain    32530 non-null  int64  \n",
      " 11  Capital_Loss    32530 non-null  int64  \n",
      " 12  Hours_per_week  32530 non-null  int64  \n",
      " 13  Country         31948 non-null  object \n",
      " 14  Target          32530 non-null  object \n",
      "dtypes: float64(1), int64(5), object(9)\n",
      "memory usage: 3.7+ MB\n"
     ]
    }
   ],
   "source": [
    "frame = pd.read_csv(\"adult_train.csv\")\n",
    "print(\"Frame shape: \"+str(frame.shape))\n",
    "frame.info()"
   ]
  },
  {
   "cell_type": "code",
   "execution_count": 3,
   "metadata": {},
   "outputs": [
    {
     "data": {
      "text/html": [
       "<div>\n",
       "<style scoped>\n",
       "    .dataframe tbody tr th:only-of-type {\n",
       "        vertical-align: middle;\n",
       "    }\n",
       "\n",
       "    .dataframe tbody tr th {\n",
       "        vertical-align: top;\n",
       "    }\n",
       "\n",
       "    .dataframe thead th {\n",
       "        text-align: right;\n",
       "    }\n",
       "</style>\n",
       "<table border=\"1\" class=\"dataframe\">\n",
       "  <thead>\n",
       "    <tr style=\"text-align: right;\">\n",
       "      <th></th>\n",
       "      <th>Age</th>\n",
       "      <th>Workclass</th>\n",
       "      <th>fnlwgt</th>\n",
       "      <th>Education</th>\n",
       "      <th>Education_Num</th>\n",
       "      <th>Martial_Status</th>\n",
       "      <th>Occupation</th>\n",
       "      <th>Relationship</th>\n",
       "      <th>Race</th>\n",
       "      <th>Sex</th>\n",
       "      <th>Capital_Gain</th>\n",
       "      <th>Capital_Loss</th>\n",
       "      <th>Hours_per_week</th>\n",
       "      <th>Country</th>\n",
       "      <th>Target</th>\n",
       "    </tr>\n",
       "  </thead>\n",
       "  <tbody>\n",
       "    <tr>\n",
       "      <th>0</th>\n",
       "      <td>39</td>\n",
       "      <td>State-gov</td>\n",
       "      <td>77516.0</td>\n",
       "      <td>Bachelors</td>\n",
       "      <td>13</td>\n",
       "      <td>Never-married</td>\n",
       "      <td>Adm-clerical</td>\n",
       "      <td>Not-in-family</td>\n",
       "      <td>White</td>\n",
       "      <td>Male</td>\n",
       "      <td>2174</td>\n",
       "      <td>0</td>\n",
       "      <td>40</td>\n",
       "      <td>United-States</td>\n",
       "      <td>&lt;=50K</td>\n",
       "    </tr>\n",
       "    <tr>\n",
       "      <th>1</th>\n",
       "      <td>50</td>\n",
       "      <td>Self-emp-not-inc</td>\n",
       "      <td>83311.0</td>\n",
       "      <td>Bachelors</td>\n",
       "      <td>13</td>\n",
       "      <td>Married-civ-spouse</td>\n",
       "      <td>Exec-managerial</td>\n",
       "      <td>Husband</td>\n",
       "      <td>White</td>\n",
       "      <td>Male</td>\n",
       "      <td>0</td>\n",
       "      <td>0</td>\n",
       "      <td>13</td>\n",
       "      <td>United-States</td>\n",
       "      <td>&lt;=50K</td>\n",
       "    </tr>\n",
       "    <tr>\n",
       "      <th>2</th>\n",
       "      <td>38</td>\n",
       "      <td>Private</td>\n",
       "      <td>215646.0</td>\n",
       "      <td>HS-grad</td>\n",
       "      <td>9</td>\n",
       "      <td>Divorced</td>\n",
       "      <td>Handlers-cleaners</td>\n",
       "      <td>Not-in-family</td>\n",
       "      <td>White</td>\n",
       "      <td>Male</td>\n",
       "      <td>0</td>\n",
       "      <td>0</td>\n",
       "      <td>40</td>\n",
       "      <td>United-States</td>\n",
       "      <td>&lt;=50K</td>\n",
       "    </tr>\n",
       "    <tr>\n",
       "      <th>3</th>\n",
       "      <td>53</td>\n",
       "      <td>Private</td>\n",
       "      <td>NaN</td>\n",
       "      <td>11th</td>\n",
       "      <td>7</td>\n",
       "      <td>Married-civ-spouse</td>\n",
       "      <td>Handlers-cleaners</td>\n",
       "      <td>Husband</td>\n",
       "      <td>Black</td>\n",
       "      <td>Male</td>\n",
       "      <td>0</td>\n",
       "      <td>0</td>\n",
       "      <td>40</td>\n",
       "      <td>United-States</td>\n",
       "      <td>&lt;=50K</td>\n",
       "    </tr>\n",
       "    <tr>\n",
       "      <th>4</th>\n",
       "      <td>28</td>\n",
       "      <td>Private</td>\n",
       "      <td>338409.0</td>\n",
       "      <td>Bachelors</td>\n",
       "      <td>13</td>\n",
       "      <td>Married-civ-spouse</td>\n",
       "      <td>Prof-specialty</td>\n",
       "      <td>Wife</td>\n",
       "      <td>Black</td>\n",
       "      <td>Female</td>\n",
       "      <td>0</td>\n",
       "      <td>0</td>\n",
       "      <td>40</td>\n",
       "      <td>Cuba</td>\n",
       "      <td>&lt;=50K</td>\n",
       "    </tr>\n",
       "  </tbody>\n",
       "</table>\n",
       "</div>"
      ],
      "text/plain": [
       "   Age          Workclass    fnlwgt   Education  Education_Num  \\\n",
       "0   39          State-gov   77516.0   Bachelors             13   \n",
       "1   50   Self-emp-not-inc   83311.0   Bachelors             13   \n",
       "2   38            Private  215646.0     HS-grad              9   \n",
       "3   53            Private       NaN        11th              7   \n",
       "4   28            Private  338409.0   Bachelors             13   \n",
       "\n",
       "        Martial_Status          Occupation    Relationship    Race      Sex  \\\n",
       "0        Never-married        Adm-clerical   Not-in-family   White     Male   \n",
       "1   Married-civ-spouse     Exec-managerial         Husband   White     Male   \n",
       "2             Divorced   Handlers-cleaners   Not-in-family   White     Male   \n",
       "3   Married-civ-spouse   Handlers-cleaners         Husband   Black     Male   \n",
       "4   Married-civ-spouse      Prof-specialty            Wife   Black   Female   \n",
       "\n",
       "   Capital_Gain  Capital_Loss  Hours_per_week         Country  Target  \n",
       "0          2174             0              40   United-States   <=50K  \n",
       "1             0             0              13   United-States   <=50K  \n",
       "2             0             0              40   United-States   <=50K  \n",
       "3             0             0              40   United-States   <=50K  \n",
       "4             0             0              40            Cuba   <=50K  "
      ]
     },
     "execution_count": 3,
     "metadata": {},
     "output_type": "execute_result"
    }
   ],
   "source": [
    "frame.head()"
   ]
  },
  {
   "cell_type": "markdown",
   "metadata": {},
   "source": [
    "### Duplicates doesn't exist in the dataset"
   ]
  },
  {
   "cell_type": "code",
   "execution_count": 4,
   "metadata": {},
   "outputs": [
    {
     "data": {
      "text/plain": [
       "(32530, 15)"
      ]
     },
     "execution_count": 4,
     "metadata": {},
     "output_type": "execute_result"
    }
   ],
   "source": [
    "frame.duplicated().sum()\n",
    "frame.drop_duplicates(inplace=True)\n",
    "frame.shape"
   ]
  },
  {
   "cell_type": "markdown",
   "metadata": {},
   "source": [
    "### Display nulls per column"
   ]
  },
  {
   "cell_type": "code",
   "execution_count": 5,
   "metadata": {},
   "outputs": [
    {
     "data": {
      "text/plain": [
       "Age               0.000000\n",
       "Workclass         0.056409\n",
       "fnlwgt            0.037627\n",
       "Education         0.000000\n",
       "Education_Num     0.000000\n",
       "Martial_Status    0.000000\n",
       "Occupation        0.056625\n",
       "Relationship      0.000000\n",
       "Race              0.000000\n",
       "Sex               0.000000\n",
       "Capital_Gain      0.000000\n",
       "Capital_Loss      0.000000\n",
       "Hours_per_week    0.000000\n",
       "Country           0.017891\n",
       "Target            0.000000\n",
       "dtype: float64"
      ]
     },
     "execution_count": 5,
     "metadata": {},
     "output_type": "execute_result"
    }
   ],
   "source": [
    "frame.isnull().sum()/len(frame)"
   ]
  },
  {
   "cell_type": "markdown",
   "metadata": {},
   "source": [
    "## Data Exploration"
   ]
  },
  {
   "cell_type": "code",
   "execution_count": 6,
   "metadata": {},
   "outputs": [
    {
     "data": {
      "image/png": "[encoded data removed]",
      "text/plain": [
       "<Figure size 2160x2160 with 8 Axes>"
      ]
     },
     "metadata": {
      "needs_background": "light"
     },
     "output_type": "display_data"
    }
   ],
   "source": [
    "f, axes = plt.subplots(4, 2)\n",
    "fig = plt.gcf()\n",
    "fig.set_size_inches(30,30)\n",
    "\n",
    "sns.countplot(x='Workclass', data=frame, ax=axes[0,0])\n",
    "sns.countplot(x='Education', data=frame, ax=axes[1,0])\n",
    "sns.countplot(x='Martial_Status', data=frame, ax=axes[2,0])\n",
    "occupation = sns.countplot(x='Occupation', data=frame, ax=axes[3,0])\n",
    "occupation.set_xticklabels(occupation.get_xticklabels(), rotation=40, ha=\"right\")\n",
    "\n",
    "\n",
    "sns.countplot(x='Relationship', data=frame, ax=axes[0,1])\n",
    "sns.countplot(x='Race', data=frame, ax=axes[1,1])\n",
    "sns.countplot(x='Sex', data=frame, ax=axes[2,1])\n",
    "country = sns.countplot(x='Country', data=frame, ax=axes[3,1])\n",
    "country.set_xticklabels(country.get_xticklabels(), rotation=50, ha=\"right\")\n",
    "plt.show()"
   ]
  },
  {
   "cell_type": "code",
   "execution_count": 7,
   "metadata": {},
   "outputs": [
    {
     "data": {
      "text/plain": [
       "Index(['Age', 'Workclass', 'fnlwgt', 'Education', 'Education_Num',\n",
       "       'Martial_Status', 'Occupation', 'Relationship', 'Race', 'Sex',\n",
       "       'Capital_Gain', 'Capital_Loss', 'Hours_per_week', 'Country', 'Target'],\n",
       "      dtype='object')"
      ]
     },
     "execution_count": 7,
     "metadata": {},
     "output_type": "execute_result"
    },
    {
     "data": {
      "image/png": "[encoded data removed]",
      "text/plain": [
       "<Figure size 1440x1080 with 2 Axes>"
      ]
     },
     "metadata": {
      "needs_background": "light"
     },
     "output_type": "display_data"
    }
   ],
   "source": [
    "corr = frame[[\"Age\",\"fnlwgt\",\"Capital_Gain\",\"Capital_Loss\",\"Hours_per_week\"]].corr(method='kendall')\n",
    "plt.figure(figsize=(20,15))\n",
    "sns.heatmap(corr, annot=True)\n",
    "frame.columns"
   ]
  },
  {
   "cell_type": "markdown",
   "metadata": {},
   "source": [
    "# Handling Missing data\n",
    "\n",
    "Columns with missing data are Workclass, fnlwgt, occupation, country. Rows which doesn't have occupation also have workclass missing. It is hard to fill the missing values. So dropping all the rows which doesn't have occupation. "
   ]
  },
  {
   "cell_type": "code",
   "execution_count": 8,
   "metadata": {},
   "outputs": [
    {
     "data": {
      "text/plain": [
       "Age                  0\n",
       "Workclass            0\n",
       "fnlwgt            1152\n",
       "Education            0\n",
       "Education_Num        0\n",
       "Martial_Status       0\n",
       "Occupation           0\n",
       "Relationship         0\n",
       "Race                 0\n",
       "Sex                  0\n",
       "Capital_Gain         0\n",
       "Capital_Loss         0\n",
       "Hours_per_week       0\n",
       "Country            555\n",
       "Target               0\n",
       "dtype: int64"
      ]
     },
     "execution_count": 8,
     "metadata": {},
     "output_type": "execute_result"
    }
   ],
   "source": [
    "frame = frame[~frame['Occupation'].isnull()]\n",
    "frame.isnull().sum()"
   ]
  },
  {
   "cell_type": "markdown",
   "metadata": {},
   "source": [
    "## Logic implemented behind the update Functions\n",
    "\n",
    "\n",
    "### Update final weight column\n",
    "Usually occupation and the yearly wage are directly related to each other. Using this logic we are imputing the fnlwgt column. \n",
    "\n",
    " - Step 1: We created a data frame with occupation, mean(fnlwgt)\n",
    " - Step 2: We imputed the missing fnlwgt column. by joining the data frame (with missing values) with the data frame generated in Step 1.\n",
    " - Step 3: Built the final data frame with union (missed df, non-missed df)\n",
    "\n",
    "### Update Country column function\n",
    "Usually fnlwgt (amount of yearly wage) depends on the country they are from. We generated a new column by rounding the fnlwgt column to closest (10000's)\n",
    "\n",
    " - Step 1: Generated a DF by grouping fnlwgt10, country, count. \n",
    " - Step 2: Joined dataframe with missing country column with the dataframe generated in step 1 \n",
    " - Step 3: If we have multiple rows with same fnlwgt10, country, max_count, count then pick a row randomly \n",
    " - Step 4: Built the final data frame with union (missed df, non-missed df)"
   ]
  },
  {
   "cell_type": "code",
   "execution_count": 9,
   "metadata": {},
   "outputs": [
    {
     "name": "stdout",
     "output_type": "stream",
     "text": [
      "<class 'pandas.core.frame.DataFrame'>\n",
      "Int64Index: 30688 entries, 0 to 554\n",
      "Data columns (total 97 columns):\n",
      " #   Column                                 Non-Null Count  Dtype  \n",
      "---  ------                                 --------------  -----  \n",
      " 0   Age                                    30688 non-null  int64  \n",
      " 1   fnlwgt                                 30688 non-null  float64\n",
      " 2   Education_Num                          30688 non-null  int64  \n",
      " 3   Capital_Gain                           30688 non-null  int64  \n",
      " 4   Capital_Loss                           30688 non-null  int64  \n",
      " 5   Hours_per_week                         30688 non-null  int64  \n",
      " 6   Target                                 30688 non-null  object \n",
      " 7   Workclass_ Local-gov                   30688 non-null  uint8  \n",
      " 8   Workclass_ Private                     30688 non-null  uint8  \n",
      " 9   Workclass_ Self-emp-inc                30688 non-null  uint8  \n",
      " 10  Workclass_ Self-emp-not-inc            30688 non-null  uint8  \n",
      " 11  Workclass_ State-gov                   30688 non-null  uint8  \n",
      " 12  Workclass_ Without-pay                 30688 non-null  uint8  \n",
      " 13  Education_ 11th                        30688 non-null  uint8  \n",
      " 14  Education_ 12th                        30688 non-null  uint8  \n",
      " 15  Education_ 1st-4th                     30688 non-null  uint8  \n",
      " 16  Education_ 5th-6th                     30688 non-null  uint8  \n",
      " 17  Education_ 7th-8th                     30688 non-null  uint8  \n",
      " 18  Education_ 9th                         30688 non-null  uint8  \n",
      " 19  Education_ Assoc-acdm                  30688 non-null  uint8  \n",
      " 20  Education_ Assoc-voc                   30688 non-null  uint8  \n",
      " 21  Education_ Bachelors                   30688 non-null  uint8  \n",
      " 22  Education_ Doctorate                   30688 non-null  uint8  \n",
      " 23  Education_ HS-grad                     30688 non-null  uint8  \n",
      " 24  Education_ Masters                     30688 non-null  uint8  \n",
      " 25  Education_ Preschool                   30688 non-null  uint8  \n",
      " 26  Education_ Prof-school                 30688 non-null  uint8  \n",
      " 27  Education_ Some-college                30688 non-null  uint8  \n",
      " 28  Martial_Status_ Married-AF-spouse      30688 non-null  uint8  \n",
      " 29  Martial_Status_ Married-civ-spouse     30688 non-null  uint8  \n",
      " 30  Martial_Status_ Married-spouse-absent  30688 non-null  uint8  \n",
      " 31  Martial_Status_ Never-married          30688 non-null  uint8  \n",
      " 32  Martial_Status_ Separated              30688 non-null  uint8  \n",
      " 33  Martial_Status_ Widowed                30688 non-null  uint8  \n",
      " 34  Occupation_ Armed-Forces               30688 non-null  uint8  \n",
      " 35  Occupation_ Craft-repair               30688 non-null  uint8  \n",
      " 36  Occupation_ Exec-managerial            30688 non-null  uint8  \n",
      " 37  Occupation_ Farming-fishing            30688 non-null  uint8  \n",
      " 38  Occupation_ Handlers-cleaners          30688 non-null  uint8  \n",
      " 39  Occupation_ Machine-op-inspct          30688 non-null  uint8  \n",
      " 40  Occupation_ Other-service              30688 non-null  uint8  \n",
      " 41  Occupation_ Priv-house-serv            30688 non-null  uint8  \n",
      " 42  Occupation_ Prof-specialty             30688 non-null  uint8  \n",
      " 43  Occupation_ Protective-serv            30688 non-null  uint8  \n",
      " 44  Occupation_ Sales                      30688 non-null  uint8  \n",
      " 45  Occupation_ Tech-support               30688 non-null  uint8  \n",
      " 46  Occupation_ Transport-moving           30688 non-null  uint8  \n",
      " 47  Relationship_ Not-in-family            30688 non-null  uint8  \n",
      " 48  Relationship_ Other-relative           30688 non-null  uint8  \n",
      " 49  Relationship_ Own-child                30688 non-null  uint8  \n",
      " 50  Relationship_ Unmarried                30688 non-null  uint8  \n",
      " 51  Relationship_ Wife                     30688 non-null  uint8  \n",
      " 52  Race_ Asian-Pac-Islander               30688 non-null  uint8  \n",
      " 53  Race_ Black                            30688 non-null  uint8  \n",
      " 54  Race_ Other                            30688 non-null  uint8  \n",
      " 55  Race_ White                            30688 non-null  uint8  \n",
      " 56  Sex_ Male                              30688 non-null  uint8  \n",
      " 57  Country_ Canada                        30688 non-null  uint8  \n",
      " 58  Country_ China                         30688 non-null  uint8  \n",
      " 59  Country_ Columbia                      30688 non-null  uint8  \n",
      " 60  Country_ Cuba                          30688 non-null  uint8  \n",
      " 61  Country_ Dominican-Republic            30688 non-null  uint8  \n",
      " 62  Country_ Ecuador                       30688 non-null  uint8  \n",
      " 63  Country_ El-Salvador                   30688 non-null  uint8  \n",
      " 64  Country_ England                       30688 non-null  uint8  \n",
      " 65  Country_ France                        30688 non-null  uint8  \n",
      " 66  Country_ Germany                       30688 non-null  uint8  \n",
      " 67  Country_ Greece                        30688 non-null  uint8  \n",
      " 68  Country_ Guatemala                     30688 non-null  uint8  \n",
      " 69  Country_ Haiti                         30688 non-null  uint8  \n",
      " 70  Country_ Holand-Netherlands            30688 non-null  uint8  \n",
      " 71  Country_ Honduras                      30688 non-null  uint8  \n",
      " 72  Country_ Hong                          30688 non-null  uint8  \n",
      " 73  Country_ Hungary                       30688 non-null  uint8  \n",
      " 74  Country_ India                         30688 non-null  uint8  \n",
      " 75  Country_ Iran                          30688 non-null  uint8  \n",
      " 76  Country_ Ireland                       30688 non-null  uint8  \n",
      " 77  Country_ Italy                         30688 non-null  uint8  \n",
      " 78  Country_ Jamaica                       30688 non-null  uint8  \n",
      " 79  Country_ Japan                         30688 non-null  uint8  \n",
      " 80  Country_ Laos                          30688 non-null  uint8  \n",
      " 81  Country_ Mexico                        30688 non-null  uint8  \n",
      " 82  Country_ Nicaragua                     30688 non-null  uint8  \n",
      " 83  Country_ Outlying-US(Guam-USVI-etc)    30688 non-null  uint8  \n",
      " 84  Country_ Peru                          30688 non-null  uint8  \n",
      " 85  Country_ Philippines                   30688 non-null  uint8  \n",
      " 86  Country_ Poland                        30688 non-null  uint8  \n",
      " 87  Country_ Portugal                      30688 non-null  uint8  \n",
      " 88  Country_ Puerto-Rico                   30688 non-null  uint8  \n",
      " 89  Country_ Scotland                      30688 non-null  uint8  \n",
      " 90  Country_ South                         30688 non-null  uint8  \n",
      " 91  Country_ Taiwan                        30688 non-null  uint8  \n",
      " 92  Country_ Thailand                      30688 non-null  uint8  \n",
      " 93  Country_ Trinadad&Tobago               30688 non-null  uint8  \n",
      " 94  Country_ United-States                 30688 non-null  uint8  \n",
      " 95  Country_ Vietnam                       30688 non-null  uint8  \n",
      " 96  Country_ Yugoslavia                    30688 non-null  uint8  \n",
      "dtypes: float64(1), int64(5), object(1), uint8(90)\n",
      "memory usage: 4.5+ MB\n"
     ]
    }
   ],
   "source": [
    "#function to handle missing values in fnlwgt column\n",
    "def update_fnlwgt(frame, column_name):\n",
    "    not_missing = frame[~frame[column_name].isnull()]\n",
    "    missing = frame[frame[column_name].isnull()]\n",
    "    missing.drop([column_name], axis=1, inplace=True)\n",
    "    \n",
    "    new_df = pd.merge(missing, not_missing.groupby(['Occupation'])[column_name].mean(), how='left', left_on=['Occupation'], right_on = ['Occupation'])\n",
    "    frames= [not_missing[['Age', 'Workclass', 'fnlwgt', 'Education', 'Education_Num', \\\n",
    "       'Martial_Status', 'Occupation', 'Relationship', 'Race', 'Sex', \\\n",
    "       'Capital_Gain', 'Capital_Loss', 'Hours_per_week', 'Country', 'Target']], \\\n",
    "             new_df[['Age', 'Workclass', 'fnlwgt', 'Education', 'Education_Num', \\\n",
    "       'Martial_Status', 'Occupation', 'Relationship', 'Race', 'Sex', \\\n",
    "       'Capital_Gain', 'Capital_Loss', 'Hours_per_week', 'Country', 'Target']]]\n",
    "    \n",
    "    return pd.concat(frames)\n",
    "\n",
    "#function to handle missing values in Country column\n",
    "def update_country(frame,column_name):\n",
    "    frame['fnlwgt10']=round(frame['fnlwgt']/10000)\n",
    "    not_missing = frame[~frame[column_name].isnull()]\n",
    "    missing = frame[frame[column_name].isnull()]\n",
    "    \n",
    "    missing.drop([column_name], axis=1, inplace=True)\n",
    "    \n",
    "    \n",
    "    df1=not_missing.groupby(['fnlwgt10','Country']).size().reset_index(name='counts')\n",
    "    max_cnt_df = df1.groupby(['fnlwgt10'])['counts'].max().reset_index(name='max_counts')\n",
    "    wd_df = pd.merge(df1, max_cnt_df, how='inner', left_on=['fnlwgt10','counts'], \\\n",
    "                     right_on = ['fnlwgt10','max_counts'])\n",
    "    fn = lambda obj: obj.loc[np.random.choice(obj.index, 1, True),:]\n",
    "    wd_df=wd_df.groupby(['fnlwgt10','Country','max_counts','counts'], as_index=False).apply(fn)\n",
    "    \n",
    "    \n",
    "    new_df = pd.merge(missing,wd_df , how='left', left_on=['fnlwgt10'], right_on = ['fnlwgt10'])\n",
    "    \n",
    "    frames= [not_missing[['Age', 'Workclass', 'fnlwgt', 'Education', 'Education_Num', \\\n",
    "       'Martial_Status', 'Occupation', 'Relationship', 'Race', 'Sex', \\\n",
    "       'Capital_Gain', 'Capital_Loss', 'Hours_per_week', 'Country', 'Target']], \\\n",
    "             new_df[['Age', 'Workclass', 'fnlwgt', 'Education', 'Education_Num', \\\n",
    "       'Martial_Status', 'Occupation', 'Relationship', 'Race', 'Sex', \\\n",
    "       'Capital_Gain', 'Capital_Loss', 'Hours_per_week', 'Country', 'Target']]]\n",
    "    \n",
    "    return pd.concat(frames)\n",
    "\n",
    "frame=update_fnlwgt(frame, \"fnlwgt\")\n",
    "frame=update_country(frame, \"Country\")\n",
    "\n",
    "#function to convert the datatype of columns to category type and performs one hot encoding and drops the original column\n",
    "def update_col(frame,column_names):\n",
    "    for column_name in column_names:\n",
    "        frame[column_name] = frame[column_name].astype('category')\n",
    "        frame = pd.concat([frame,pd.get_dummies(frame[column_name], prefix=column_name, drop_first=True)],axis=1)\n",
    "        frame.drop([column_name], axis=1, inplace=True)\n",
    "    \n",
    "    return frame\n",
    "    \n",
    "\n",
    "frame = update_col(frame, ['Workclass','Education','Martial_Status','Occupation','Relationship','Race','Sex','Country'])\n",
    "\n",
    "frame.info()"
   ]
  },
  {
   "cell_type": "markdown",
   "metadata": {},
   "source": [
    "## TRAIN AND TEST DATA SPLITTING"
   ]
  },
  {
   "cell_type": "code",
   "execution_count": 10,
   "metadata": {},
   "outputs": [
    {
     "name": "stdout",
     "output_type": "stream",
     "text": [
      "Training dataset size: 24550\n",
      "Test dataset size: 6138\n"
     ]
    }
   ],
   "source": [
    "from sklearn.preprocessing import MinMaxScaler\n",
    "from sklearn.model_selection import train_test_split\n",
    "from sklearn.model_selection import cross_val_score\n",
    "\n",
    "X = frame.loc[:, frame.columns != 'Target']\n",
    "y = np.where(frame.Target==\" <=50K\", 0, 1)\n",
    "\n",
    "X_train_org, X_test_org, y_train, y_test = train_test_split(X, y, random_state = 0, test_size = 0.2)\n",
    "\n",
    "scaler = MinMaxScaler()\n",
    "X_train = scaler.fit_transform(X_train_org)\n",
    "X_test = scaler.transform(X_test_org)\n",
    "\n",
    "print(\"Training dataset size: \"+str(len(X_train)))\n",
    "print(\"Test dataset size: \"+str(len(X_test)))"
   ]
  },
  {
   "cell_type": "markdown",
   "metadata": {},
   "source": [
    "# Models"
   ]
  },
  {
   "cell_type": "markdown",
   "metadata": {},
   "source": [
    "### Importing modules from sklearn library"
   ]
  },
  {
   "cell_type": "code",
   "execution_count": 11,
   "metadata": {},
   "outputs": [],
   "source": [
    "import sklearn\n",
    "from sklearn import metrics\n",
    "from sklearn import model_selection\n",
    "from sklearn.model_selection import GridSearchCV\n",
    "from sklearn.model_selection import KFold\n",
    "from sklearn.metrics import roc_auc_score\n",
    "from sklearn.metrics import classification_report\n",
    "from sklearn.metrics import confusion_matrix\n",
    "from sklearn.metrics import accuracy_score\n",
    "from sklearn.linear_model import LogisticRegression\n",
    "from sklearn.tree import DecisionTreeClassifier\n",
    "from sklearn.neighbors import KNeighborsClassifier\n",
    "from sklearn.svm import SVC\n",
    "from sklearn.svm import LinearSVC"
   ]
  },
  {
   "cell_type": "code",
   "execution_count": null,
   "metadata": {},
   "outputs": [
    {
     "name": "stdout",
     "output_type": "stream",
     "text": [
      "LR: 0.845784 (0.004659)\n"
     ]
    }
   ],
   "source": [
    "# Building and evaluating classification models basic models\n",
    "models =[]\n",
    "models.append(('LR', LogisticRegression()))\n",
    "models.append(('KNN', KNeighborsClassifier()))\n",
    "models.append(('LSVC', LinearSVC()))\n",
    "models.append(('SVM_linear', SVC(kernel='linear')))\n",
    "models.append(('SVM_rbf', SVC(kernel='rbf')))\n",
    "models.append(('SVM_poly', SVC(kernel='poly')))\n",
    "models.append(('CART', DecisionTreeClassifier()))\n",
    "\n",
    "results = []\n",
    "names = []\n",
    "for name, model in models:\n",
    "    kfold = KFold(n_splits=10, random_state=7)\n",
    "    cv_results = model_selection.cross_val_score(model, X_train, y_train, cv=kfold, scoring = 'accuracy')\n",
    "    results.append(cv_results)\n",
    "    names.append(name)\n",
    "    msg = \"%s: %f (%f)\" % (name, cv_results.mean(), cv_results.std())\n",
    "    print(msg)"
   ]
  },
  {
   "cell_type": "markdown",
   "metadata": {},
   "source": [
    "### Logistic Regression"
   ]
  },
  {
   "cell_type": "code",
   "execution_count": null,
   "metadata": {},
   "outputs": [],
   "source": [
    "lr = LogisticRegression()\n",
    "lr.fit(X_train, y_train)\n",
    "predictions = lr.predict(X_test)\n",
    "print(\"Accuracy: \"+ str(accuracy_score(y_test, predictions)))\n",
    "print(\"AUC: \"+ str(roc_auc_score(y_test, lr.predict_proba(X_test)[:,1])))\n",
    "print(\"Confusion Matrix: \"+ str(confusion_matrix(y_test, predictions)))\n",
    "print(classification_report(y_test, predictions))"
   ]
  },
  {
   "cell_type": "code",
   "execution_count": null,
   "metadata": {},
   "outputs": [],
   "source": [
    "import matplotlib.pyplot as plt\n",
    "%matplotlib inline\n",
    "\n",
    "c_range = [0.001,0.003,0.005,0.01,0.03,0.05,0.1,0.3,0.5,1,2,3,3,4,5,10,20,100,1000]\n",
    "train_score_l1 = []\n",
    "train_score_l2 = []\n",
    "test_score_l1 = []\n",
    "test_score_l2 = []\n",
    "\n",
    "for c in c_range:\n",
    "    log_l1 = LogisticRegression(penalty = 'l1', C = c)\n",
    "    log_l2 = LogisticRegression(penalty = 'l2', C = c)\n",
    "    log_l1.fit(X_train, y_train)\n",
    "    log_l2.fit(X_train, y_train)\n",
    "    train_score_l1.append(log_l1.score(X_train, y_train))\n",
    "    train_score_l2.append(log_l2.score(X_train, y_train))\n",
    "    test_score_l1.append(log_l1.score(X_test, y_test))\n",
    "    test_score_l2.append(log_l2.score(X_test, y_test))\n",
    "    \n",
    "    \n",
    "plt.plot(c_range, train_score_l1, label = 'Train score, penalty = l1')\n",
    "plt.plot(c_range, test_score_l1, label = 'Test score, penalty = l1')\n",
    "plt.plot(c_range, train_score_l2, label = 'Train score, penalty = l2')\n",
    "plt.plot(c_range, test_score_l2, label = 'Test score, penalty = l2')\n",
    "plt.legend()\n",
    "plt.xlabel('Regularization parameter: C')\n",
    "plt.ylabel('Accuracy')\n",
    "plt.xscale('log')"
   ]
  },
  {
   "cell_type": "code",
   "execution_count": null,
   "metadata": {},
   "outputs": [],
   "source": [
    "logreg = LogisticRegression(class_weight='balanced')\n",
    "param1 = {'C':[0.001,0.003,0.005,0.01,0.03,0.05,0.1,0.3,0.5,1,2,3,3,4,5,10,20,100,1000]}\n",
    "clf1 = GridSearchCV(logreg,param1,scoring='roc_auc',refit=True,cv=5)\n",
    "clf1.fit(X_train,y_train)\n",
    "print('Best roc_auc: {:.4}, with best C: {}'.format(clf1.best_score_, clf1.best_params_))"
   ]
  },
  {
   "cell_type": "code",
   "execution_count": null,
   "metadata": {},
   "outputs": [],
   "source": [
    "y_pred = clf1.predict(X_test)\n",
    "print(accuracy_score(y_test, y_pred))\n",
    "print(confusion_matrix(y_test, y_pred))\n",
    "print(classification_report(y_test, y_pred))"
   ]
  },
  {
   "cell_type": "markdown",
   "metadata": {},
   "source": [
    "### K Nearest Neighbors Classifier"
   ]
  },
  {
   "cell_type": "code",
   "execution_count": null,
   "metadata": {},
   "outputs": [],
   "source": [
    "knn = KNeighborsClassifier()\n",
    "knn.fit(X_train, y_train)\n",
    "predictions = knn.predict(X_test)\n",
    "print(\"Accuracy: \"+ str(accuracy_score(y_test, predictions)))\n",
    "print(\"AUC: \"+ str(roc_auc_score(y_test, knn.predict_proba(X_test)[:,1])))\n",
    "print(\"Confusion Matrix: \"+ str(confusion_matrix(y_test, predictions)))\n",
    "print(classification_report(y_test, predictions))"
   ]
  },
  {
   "cell_type": "code",
   "execution_count": null,
   "metadata": {},
   "outputs": [],
   "source": [
    "k_range = list(range(1, 11))\n",
    "train_score_knn = []\n",
    "test_score_knn = []\n",
    "\n",
    "for k in k_range:\n",
    "    neigh = KNeighborsClassifier(n_neighbors=k)\n",
    "    neigh.fit(X_train, y_train)\n",
    "    train_score_knn.append(neigh.score(X_train, y_train))\n",
    "    test_score_knn.append(neigh.score(X_test, y_test))\n",
    "    \n",
    "plt.plot(k_range, train_score_knn, label = 'Train score')\n",
    "plt.plot(k_range, test_score_knn, label = 'Test score')\n",
    "plt.legend()\n",
    "plt.xlabel('k nearest neighbours: K')\n",
    "plt.ylabel('Accuracy')"
   ]
  },
  {
   "cell_type": "code",
   "execution_count": null,
   "metadata": {},
   "outputs": [],
   "source": [
    "k_range = list(range(1, 11))\n",
    "knn = KNeighborsClassifier()\n",
    "param2 = dict(n_neighbors=k_range)\n",
    "clf2 = GridSearchCV(knn, param2,'roc_auc',refit=True,cv=3)\n",
    "clf2.fit(X_train,y_train)\n",
    "print('Best roc_auc: {:.4}, with best C: {}'.format(clf2.best_score_, clf2.best_params_))"
   ]
  },
  {
   "cell_type": "code",
   "execution_count": null,
   "metadata": {},
   "outputs": [],
   "source": [
    "y_pred = clf2.predict(X_test)\n",
    "print(accuracy_score(y_test, y_pred))\n",
    "print(confusion_matrix(y_test, y_pred))\n",
    "print(classification_report(y_test, y_pred))"
   ]
  },
  {
   "cell_type": "markdown",
   "metadata": {},
   "source": [
    "### Linear SVM "
   ]
  },
  {
   "cell_type": "code",
   "execution_count": null,
   "metadata": {},
   "outputs": [],
   "source": [
    "lsvc = LinearSVC()\n",
    "lsvc.fit(X_train, y_train)\n",
    "predictions = lsvc.predict(X_test)\n",
    "print(\"Accuracy: \"+ str(accuracy_score(y_test, predictions)))\n",
    "print(\"Confusion Matrix: \"+ str(confusion_matrix(y_test, predictions)))\n",
    "print(classification_report(y_test, predictions))"
   ]
  },
  {
   "cell_type": "code",
   "execution_count": null,
   "metadata": {},
   "outputs": [],
   "source": [
    "param4 = {\"C\": [0.01, 0.1, 1.0]}\n",
    "lsvc = LinearSVC()\n",
    "clf4 = GridSearchCV(lsvc, param4,'roc_auc',refit=True,cv=3)\n",
    "clf4.fit(X_train,y_train)\n",
    "print('Best roc_auc: {:.4}, with best C: {}'.format(clf4.best_score_, clf4.best_params_))"
   ]
  },
  {
   "cell_type": "code",
   "execution_count": null,
   "metadata": {},
   "outputs": [],
   "source": [
    "y_pred = clf4.predict(X_test)\n",
    "print(accuracy_score(y_test, y_pred))\n",
    "print(confusion_matrix(y_test, y_pred))\n",
    "print(classification_report(y_test, y_pred))"
   ]
  },
  {
   "cell_type": "markdown",
   "metadata": {},
   "source": [
    "### SVM with Linear Kernel"
   ]
  },
  {
   "cell_type": "code",
   "execution_count": null,
   "metadata": {},
   "outputs": [],
   "source": [
    "SVC_linear = SVC(kernel='linear', probability=True)\n",
    "SVC_linear.fit(X_train, y_train)\n",
    "predictions = SVC_linear.predict(X_test)\n",
    "print(\"Accuracy: \"+ str(accuracy_score(y_test, predictions)))\n",
    "print(\"AUC: \"+ str(roc_auc_score(y_test, SVC_linear.predict_proba(X_test)[:,1])))\n",
    "print(\"Confusion Matrix: \"+ str(confusion_matrix(y_test, predictions)))\n",
    "print(classification_report(y_test, predictions))"
   ]
  },
  {
   "cell_type": "code",
   "execution_count": null,
   "metadata": {},
   "outputs": [],
   "source": [
    "param3 = {'C':[0.1, 1, 10],'gamma':[0.1, 1, 10], 'kernel':['linear']}\n",
    "svc = SVC()\n",
    "clf3 = GridSearchCV(svc, param3,'roc_auc',refit=True,cv=3)\n",
    "clf3.fit(X_train,y_train)\n",
    "print('Best roc_auc: {:.4}, with best C: {}'.format(clf3.best_score_, clf3.best_params_))"
   ]
  },
  {
   "cell_type": "code",
   "execution_count": null,
   "metadata": {},
   "outputs": [],
   "source": [
    "y_pred = clf3.predict(X_test)\n",
    "print(accuracy_score(y_test, y_pred))\n",
    "print(confusion_matrix(y_test, y_pred))\n",
    "print(classification_report(y_test, y_pred))"
   ]
  },
  {
   "cell_type": "markdown",
   "metadata": {},
   "source": [
    "### SVM with RBF Kernel"
   ]
  },
  {
   "cell_type": "code",
   "execution_count": null,
   "metadata": {},
   "outputs": [],
   "source": [
    "SVC_rbf = SVC(kernel='rbf', probability=True)\n",
    "SVC_rbf.fit(X_train, y_train)\n",
    "predictions = SVC_rbf.predict(X_test)\n",
    "print(\"Accuracy: \"+ str(accuracy_score(y_test, predictions)))\n",
    "print(\"AUC: \"+ str(roc_auc_score(y_test, SVC_rbf.predict_proba(X_test)[:,1])))\n",
    "print(\"Confusion Matrix: \"+ str(confusion_matrix(y_test, predictions)))\n",
    "print(classification_report(y_test, predictions))"
   ]
  },
  {
   "cell_type": "code",
   "execution_count": null,
   "metadata": {},
   "outputs": [],
   "source": [
    "param_rbf = {'C':[0.1, 1, 10],'gamma':[0.1, 1, 10], 'kernel':['rbf']}\n",
    "svc = SVC()\n",
    "clf_rbf = GridSearchCV(svc, param_rbf,'roc_auc',refit=True,cv=3)\n",
    "clf_rbf.fit(X_train,y_train)\n",
    "print('Best roc_auc: {:.4}, with best C: {}'.format(clf_rbf.best_score_, clf_rbf.best_params_))"
   ]
  },
  {
   "cell_type": "code",
   "execution_count": null,
   "metadata": {},
   "outputs": [],
   "source": [
    "y_pred = clf_rbf.predict(X_test)\n",
    "print(accuracy_score(y_test, y_pred))\n",
    "print(confusion_matrix(y_test, y_pred))\n",
    "print(classification_report(y_test, y_pred))"
   ]
  },
  {
   "cell_type": "markdown",
   "metadata": {},
   "source": [
    "### SVM with Poly Kernel"
   ]
  },
  {
   "cell_type": "code",
   "execution_count": null,
   "metadata": {},
   "outputs": [],
   "source": [
    "SVC_poly = SVC(kernel='poly', probability=True)\n",
    "SVC_poly.fit(X_train, y_train)\n",
    "predictions = SVC_poly.predict(X_test)\n",
    "print(\"Accuracy: \"+ str(accuracy_score(y_test, predictions)))\n",
    "print(\"AUC: \"+ str(roc_auc_score(y_test, SVC_poly.predict_proba(X_test)[:,1])))\n",
    "print(\"Confusion Matrix: \"+ str(confusion_matrix(y_test, predictions)))\n",
    "print(classification_report(y_test, predictions))"
   ]
  },
  {
   "cell_type": "code",
   "execution_count": null,
   "metadata": {},
   "outputs": [],
   "source": [
    "param_poly = {'C':[1],'gamma':[0.1, 1], 'kernel':['poly']}\n",
    "svc = SVC()\n",
    "clf_poly = GridSearchCV(svc, param_poly,'roc_auc',refit=True,cv=3)\n",
    "clf_poly.fit(X_train,y_train)\n",
    "print('Best roc_auc: {:.4}, with best C: {}'.format(clf_poly.best_score_, clf_poly.best_params_))"
   ]
  },
  {
   "cell_type": "code",
   "execution_count": null,
   "metadata": {},
   "outputs": [],
   "source": [
    "y_pred = clf_poly.predict(X_test)\n",
    "print(accuracy_score(y_test, y_pred))\n",
    "print(confusion_matrix(y_test, y_pred))\n",
    "print(classification_report(y_test, y_pred))"
   ]
  },
  {
   "cell_type": "markdown",
   "metadata": {},
   "source": [
    "### Decision Tree Classifier"
   ]
  },
  {
   "cell_type": "code",
   "execution_count": 20,
   "metadata": {},
   "outputs": [
    {
     "name": "stdout",
     "output_type": "stream",
     "text": [
      "Accuracy: 0.8085695666340827\n",
      "AUC: 0.7446716233588686\n",
      "Confusion Matrix: [[4040  611]\n",
      " [ 564  923]]\n",
      "              precision    recall  f1-score   support\n",
      "\n",
      "           0       0.88      0.87      0.87      4651\n",
      "           1       0.60      0.62      0.61      1487\n",
      "\n",
      "    accuracy                           0.81      6138\n",
      "   macro avg       0.74      0.74      0.74      6138\n",
      "weighted avg       0.81      0.81      0.81      6138\n",
      "\n"
     ]
    }
   ],
   "source": [
    "cart = DecisionTreeClassifier()\n",
    "cart.fit(X_train, y_train)\n",
    "predictions = cart.predict(X_test)\n",
    "print(\"Accuracy: \"+ str(accuracy_score(y_test, predictions)))\n",
    "print(\"AUC: \"+ str(roc_auc_score(y_test, cart.predict_proba(X_test)[:,1])))\n",
    "print(\"Confusion Matrix: \"+ str(confusion_matrix(y_test, predictions)))\n",
    "print(classification_report(y_test, predictions))"
   ]
  },
  {
   "cell_type": "code",
   "execution_count": 21,
   "metadata": {},
   "outputs": [
    {
     "name": "stdout",
     "output_type": "stream",
     "text": [
      "Best roc_auc: 0.896, with best C: {'max_depth': 7}\n"
     ]
    }
   ],
   "source": [
    "param5 = {'max_depth': [1,3, 5, 7, 10]}\n",
    "clf5 = GridSearchCV(DecisionTreeClassifier(), param5,'roc_auc',refit=True,cv=3)\n",
    "clf5.fit(X_train,y_train)\n",
    "print('Best roc_auc: {:.4}, with best C: {}'.format(clf5.best_score_, clf5.best_params_))"
   ]
  },
  {
   "cell_type": "code",
   "execution_count": 22,
   "metadata": {},
   "outputs": [
    {
     "data": {
      "text/plain": [
       "'Decision tree.pdf'"
      ]
     },
     "execution_count": 22,
     "metadata": {},
     "output_type": "execute_result"
    }
   ],
   "source": [
    "import graphviz \n",
    "from sklearn import tree\n",
    "cart1=DecisionTreeClassifier(max_depth=7)\n",
    "cart1.fit(X=X_train, y=y_train)\n",
    "dot_data = tree.export_graphviz(cart1, out_file=None) \n",
    "graph = graphviz.Source(dot_data) \n",
    "graph.render(\"Decision tree\") "
   ]
  },
  {
   "cell_type": "code",
   "execution_count": 23,
   "metadata": {},
   "outputs": [
    {
     "name": "stdout",
     "output_type": "stream",
     "text": [
      "0.8520690778755294\n",
      "[[4438  213]\n",
      " [ 695  792]]\n",
      "              precision    recall  f1-score   support\n",
      "\n",
      "           0       0.86      0.95      0.91      4651\n",
      "           1       0.79      0.53      0.64      1487\n",
      "\n",
      "    accuracy                           0.85      6138\n",
      "   macro avg       0.83      0.74      0.77      6138\n",
      "weighted avg       0.85      0.85      0.84      6138\n",
      "\n"
     ]
    }
   ],
   "source": [
    "# Testing dataset\n",
    "y_pred = clf5.predict(X_test)\n",
    "print(accuracy_score(y_test, y_pred))\n",
    "print(confusion_matrix(y_test, y_pred))\n",
    "print(classification_report(y_test, y_pred))"
   ]
  },
  {
   "cell_type": "markdown",
   "metadata": {},
   "source": [
    "# Conclusion\n",
    "Evaluation Strategy - AUC has been used for model evaluation as it considers all possible thresholds unlike models that depends on the threshold chosen. In case of our data both the cases have the same importance or weightage ( both the classes are being treated equally). Hence AUC seems like a better evalution strategy\n",
    "\n",
    "After comparing the performance of all models in training and testing datasets, we see that basic Logistic regression model gave better performance w.r.t all the other models as it has the highest AUC value. \n",
    "\n",
    "Logistic regularization with Inverse regularization parameter (C = 20) improved the results for predicting the people with salary (>50K). \n",
    "\n",
    "Overall for this dataset the models that took less time for building, predicting and model which is easy to explain (Logistic regression and cross validated Decision tree) performed far more superior compared to the complex models (SVM with kernels). \n",
    "    \n",
    "### Best Parameters for every model \n",
    "| Model | Params |\n",
    "| --- | --- |\n",
    "| Logistic regression | C = 20 |\n",
    "| KNN Classification | k = 10 |\n",
    "| Linear SVC | C = 1.0 | \n",
    "| SVM Linear Kernel | C = 10, gamma = 0.1 |\n",
    "| SVM RBF Kernel | C = 1, gamma = 0.1 |\n",
    "| SVM Poly Kernel | C = 1, gamma = 0.1 |\n",
    "| Decision Tree | max_depth = 7 |\n",
    "\n",
    "\n",
    "### Performance in testing Dataset\n",
    "| Model | Logistic Regression | Logistic Regression | KNN Classification | KNN | Linear SVC| Linear SVC | SVM Linear | SVM Linear | SVM RBF | SVM RBF | SVM Poly | SVM Poly | Decision tree | Decision Tree |\n",
    "| --- | --- | --- | --- | --- | --- | --- | --- | --- | --- | --- | --- | --- | --- | --- |\n",
    "| Params | default | C = 20 | default | k=10 | default | C = 1.0 | default | C=10, gamma=0.1 | default | C=1,gamma=0.1 | default | C=1, gamma=0.1| default | max_depth = 7 |\n",
    "| Accuracy | 0.85 | 0.80 | 0.83| 0.83 | 0.85 | 0.85 | 0.85 | 0.85 | 0.84 | 0.84 | 0.84| 0.83 | 0.81 | 0.85 |\n",
    "|F1-score(0)|0.90| 0.86 | 0.89| 0.89 | 0.90 | 0.90 | 0.90 | 0.90 | 0.89 | 0.89 | 0.90 | 0.89 | 0.88 | 0.91 |\n",
    "|F1-score(1)|0.67| 0.68 | 0.63| 0.61 | 0.66 | 0.66 | 0.66 | 0.66 | 0.62 | 0.62 | 0.63 | 0.62 | 0.62 | 0.65 |\n",
    "| AUC | 0.91 | 0.90 | 0.85 | 0.86 | -- | 0.90 | 0.90 | 0.90 | 0.89 | 0.89 | 0.87 | 0.88 | 0.74  | 0.89 |\n"
   ]
  },
  {
   "cell_type": "markdown",
   "metadata": {},
   "source": [
    "## Logistic Regression with default parameters"
   ]
  },
  {
   "cell_type": "code",
   "execution_count": null,
   "metadata": {},
   "outputs": [],
   "source": [
    "lr = LogisticRegression()\n",
    "lr.fit(X_train, y_train)\n",
    "predictions = lr.predict(X_test)\n",
    "print(\"Accuracy: \"+ str(accuracy_score(y_test, predictions)))\n",
    "print(\"AUC: \", (roc_auc_score(y_test, lr.predict_proba(X_test)[:,1])))\n",
    "print(\"Confusion Matrix: \", confusion_matrix(y_test, predictions), sep = '\\n')\n",
    "print(classification_report(y_test, predictions))"
   ]
  },
  {
   "cell_type": "markdown",
   "metadata": {},
   "source": [
    "# PROJECT - II"
   ]
  },
  {
   "cell_type": "code",
   "execution_count": 11,
   "metadata": {},
   "outputs": [],
   "source": [
    "import numpy as np\n",
    "import pandas as pd\n",
    "import matplotlib.pyplot as plt\n",
    "import matplotlib.image as mpimg\n",
    "from datetime import datetime\n",
    "%matplotlib inline\n",
    "import warnings\n",
    "warnings.filterwarnings('ignore')\n",
    "import seaborn as sns\n",
    "import glob\n",
    "\n",
    "import sklearn\n",
    "from sklearn import metrics\n",
    "from sklearn import model_selection\n",
    "from sklearn.model_selection import GridSearchCV\n",
    "from sklearn.model_selection import KFold\n",
    "from sklearn.metrics import roc_auc_score\n",
    "from sklearn.metrics import classification_report\n",
    "from sklearn.metrics import confusion_matrix\n",
    "from sklearn.metrics import accuracy_score\n",
    "from sklearn.linear_model import LogisticRegression\n",
    "from sklearn.tree import DecisionTreeClassifier\n",
    "from sklearn.neighbors import KNeighborsClassifier\n",
    "from sklearn.svm import SVC\n",
    "from sklearn.svm import LinearSVC\n",
    "from sklearn.preprocessing import MinMaxScaler\n",
    "from sklearn.model_selection import train_test_split\n",
    "from pandas.plotting import scatter_matrix\n",
    "from sklearn.ensemble import VotingClassifier\n",
    "from sklearn.decomposition import PCA\n",
    "from sklearn.ensemble import BaggingClassifier\n",
    "from sklearn.ensemble import AdaBoostClassifier\n",
    "from sklearn.ensemble import GradientBoostingClassifier"
   ]
  },
  {
   "cell_type": "markdown",
   "metadata": {},
   "source": [
    "## Voting Classifier"
   ]
  },
  {
   "cell_type": "code",
   "execution_count": 19,
   "metadata": {},
   "outputs": [
    {
     "data": {
      "text/plain": [
       "DecisionTreeClassifier(class_weight=None, criterion='gini', max_depth=7,\n",
       "                       max_features=None, max_leaf_nodes=None,\n",
       "                       min_impurity_decrease=0.0, min_impurity_split=None,\n",
       "                       min_samples_leaf=1, min_samples_split=2,\n",
       "                       min_weight_fraction_leaf=0.0, presort=False,\n",
       "                       random_state=None, splitter='best')"
      ]
     },
     "execution_count": 19,
     "metadata": {},
     "output_type": "execute_result"
    }
   ],
   "source": [
    "log_clf = LogisticRegression(C=20)\n",
    "log_clf.fit(X_train, y_train)\n",
    "\n",
    "knn_clf = KNeighborsClassifier(n_neighbors=10)\n",
    "knn_clf.fit(X_train, y_train)\n",
    "\n",
    "lsvc = LinearSVC(C=1)\n",
    "lsvc.fit(X_train, y_train)\n",
    "\n",
    "svm_linear_clf = SVC(C = 10, kernel = 'linear', gamma=0.1, probability = True)\n",
    "svm_linear_clf.fit(X_train, y_train)\n",
    "\n",
    "svm_rbf_clf = SVC(C = 1, kernel = 'rbf', gamma=0.1, probability = True)\n",
    "svm_rbf_clf.fit(X_train, y_train)\n",
    "\n",
    "svm_poly_clf = SVC(C = 1, kernel = 'poly', gamma=0.1, probability = True)\n",
    "svm_poly_clf.fit(X_train, y_train)\n",
    "\n",
    "dt_clf = DecisionTreeClassifier(max_depth = 7)\n",
    "dt_clf.fit(X_train, y_train)"
   ]
  },
  {
   "cell_type": "markdown",
   "metadata": {},
   "source": [
    "### Hard Voting"
   ]
  },
  {
   "cell_type": "code",
   "execution_count": 22,
   "metadata": {},
   "outputs": [
    {
     "name": "stdout",
     "output_type": "stream",
     "text": [
      "Accuracy Score 0.8520690778755294\n",
      "Confusion Matrix [[4368  283]\n",
      " [ 625  862]]\n",
      "Classification Report               precision    recall  f1-score   support\n",
      "\n",
      "           0       0.87      0.94      0.91      4651\n",
      "           1       0.75      0.58      0.66      1487\n",
      "\n",
      "    accuracy                           0.85      6138\n",
      "   macro avg       0.81      0.76      0.78      6138\n",
      "weighted avg       0.85      0.85      0.85      6138\n",
      "\n",
      "ROC AUC score 0.7594217613352848\n"
     ]
    }
   ],
   "source": [
    "voting_hard_clf = VotingClassifier(estimators=[('log_clf', log_clf), \n",
    "                                               ('knn_clf',knn_clf),\n",
    "                                               ('lsvc',lsvc),\n",
    "                                               ('svm_linear_clf',svm_linear_clf),\n",
    "                                               ('svm_rbf_clf',svm_rbf_clf),\n",
    "                                               ('svm_poly_clf',svm_poly_clf),\n",
    "                                               ('dt_clf', dt_clf)], \n",
    "                                   voting='hard')\n",
    "voting_hard_clf.fit(X_train, y_train)\n",
    "\n",
    "y_pred = voting_hard_clf.predict(X_test)\n",
    "print('Accuracy Score',accuracy_score(y_test, y_pred))\n",
    "print('Confusion Matrix',confusion_matrix(y_test, y_pred))\n",
    "print('Classification Report',classification_report(y_test, y_pred))\n",
    "print('ROC AUC score',roc_auc_score(y_test, y_pred))"
   ]
  },
  {
   "cell_type": "markdown",
   "metadata": {},
   "source": [
    "### Soft Voting"
   ]
  },
  {
   "cell_type": "code",
   "execution_count": 23,
   "metadata": {},
   "outputs": [
    {
     "name": "stdout",
     "output_type": "stream",
     "text": [
      "Accuracy Score 0.8514173998044966\n",
      "Confusion Matrix [[4378  273]\n",
      " [ 639  848]]\n",
      "Classification Report               precision    recall  f1-score   support\n",
      "\n",
      "           0       0.87      0.94      0.91      4651\n",
      "           1       0.76      0.57      0.65      1487\n",
      "\n",
      "    accuracy                           0.85      6138\n",
      "   macro avg       0.81      0.76      0.78      6138\n",
      "weighted avg       0.84      0.85      0.84      6138\n",
      "\n",
      "ROC AUC Score: 0.755789334267587\n"
     ]
    }
   ],
   "source": [
    "voting_soft_clf = VotingClassifier(estimators=[('log_clf', log_clf), \n",
    "                                               ('knn_clf',knn_clf),\n",
    "                                               ('svm_linear_clf',svm_linear_clf),\n",
    "                                               ('svm_rbf_clf',svm_rbf_clf),\n",
    "                                               ('svm_poly_clf',svm_poly_clf),\n",
    "                                               ('dt_clf', dt_clf)], \n",
    "                                   voting='soft')\n",
    "voting_soft_clf.fit(X_train, y_train)\n",
    "\n",
    "y_pred_soft = voting_soft_clf.predict(X_test)\n",
    "print('Accuracy Score',accuracy_score(y_test, y_pred_soft))\n",
    "print('Confusion Matrix',confusion_matrix(y_test, y_pred_soft))\n",
    "print('Classification Report',classification_report(y_test, y_pred_soft))\n",
    "print('ROC AUC Score:',roc_auc_score(y_test, y_pred_soft))"
   ]
  },
  {
   "cell_type": "markdown",
   "metadata": {},
   "source": [
    "## Bagging for Decision tree classifier"
   ]
  },
  {
   "cell_type": "code",
   "execution_count": 28,
   "metadata": {},
   "outputs": [
    {
     "data": {
      "image/png": "[encoded data removed]",
      "text/plain": [
       "<Figure size 432x288 with 1 Axes>"
      ]
     },
     "metadata": {
      "needs_background": "light"
     },
     "output_type": "display_data"
    }
   ],
   "source": [
    "n_estimators = [1,20,40,80,100,200]\n",
    "max_features = [1,4,8,12,20]\n",
    "params=[]\n",
    "accuracy = []\n",
    "\n",
    "for estimator in n_estimators:\n",
    "    for features in max_features:\n",
    "        clf = BaggingClassifier(DecisionTreeClassifier(random_state=0, max_depth = 7), \\\n",
    "                                max_samples=0.5, \\\n",
    "                                max_features=features, \\\n",
    "                                n_estimators=estimator, \\\n",
    "                               bootstrap=True, random_state=0, oob_score=True)\n",
    "        clf.fit(X, y)\n",
    "        acc = clf.score(X_test, y_test)\n",
    "        params.append(\"n_estimator: \"+str(estimator)+\" max_features: \"+str(features))\n",
    "        accuracy.append(acc)\n",
    "    \n",
    "plt.plot(params, accuracy)\n",
    "plt.xlabel(\"Number of estimators\")\n",
    "plt.xticks(rotation=90)\n",
    "plt.ylabel(\"Accuracy\")\n",
    "plt.show()"
   ]
  },
  {
   "cell_type": "code",
   "execution_count": 24,
   "metadata": {},
   "outputs": [
    {
     "name": "stdout",
     "output_type": "stream",
     "text": [
      "Best roc_auc: 0.8069, with best estimators {'max_features': 20, 'max_samples': 0.5, 'n_estimators': 80}\n",
      "0.8090583251873574\n",
      "[[4624   27]\n",
      " [1145  342]]\n",
      "              precision    recall  f1-score   support\n",
      "\n",
      "           0       0.80      0.99      0.89      4651\n",
      "           1       0.93      0.23      0.37      1487\n",
      "\n",
      "    accuracy                           0.81      6138\n",
      "   macro avg       0.86      0.61      0.63      6138\n",
      "weighted avg       0.83      0.81      0.76      6138\n",
      "\n"
     ]
    }
   ],
   "source": [
    "tuned_parameters = {\"n_estimators\": [1,20,40,80,100,200],\n",
    "                    \"max_features\":[1,4,8,12,20],\n",
    "                    \"max_samples\": [0.5,0.1],\n",
    "                    }\n",
    "dt = DecisionTreeClassifier(random_state=0, max_depth = 7)\n",
    "dt_bag_grid = GridSearchCV(BaggingClassifier(dt, bootstrap=True, random_state=0, oob_score=True),tuned_parameters)\n",
    "dt_bag_grid_model = dt_bag_grid.fit(X_train,y_train)\n",
    "\n",
    "print('Best roc_auc: {:.4}, with best estimators {}'.format(dt_bag_grid_model.best_score_, dt_bag_grid_model.best_params_))\n",
    "\n",
    "y_pred = dt_bag_grid_model.predict(X_test)\n",
    "print(accuracy_score(y_test, y_pred))\n",
    "print(confusion_matrix(y_test, y_pred))\n",
    "print(classification_report(y_test, y_pred))"
   ]
  },
  {
   "cell_type": "markdown",
   "metadata": {},
   "source": [
    "## Bagging for Logistic Regression"
   ]
  },
  {
   "cell_type": "code",
   "execution_count": 29,
   "metadata": {},
   "outputs": [
    {
     "data": {
      "image/png": "[encoded data removed]",
      "text/plain": [
       "<Figure size 432x288 with 1 Axes>"
      ]
     },
     "metadata": {
      "needs_background": "light"
     },
     "output_type": "display_data"
    }
   ],
   "source": [
    "n_estimators = [1,20,40,80,100,200]\n",
    "max_features = [1,4,8,12,20]\n",
    "params=[]\n",
    "accuracy = []\n",
    "\n",
    "for estimator in n_estimators:\n",
    "    for features in max_features:\n",
    "        clf = BaggingClassifier(LogisticRegression(random_state=0, C=20), \\\n",
    "                                max_samples=0.5, \\\n",
    "                                max_features=features, \\\n",
    "                                n_estimators=estimator, \\\n",
    "                               bootstrap=True, random_state=0, oob_score=True)\n",
    "        clf.fit(X, y)\n",
    "        acc = clf.score(X_test, y_test)\n",
    "        params.append(\"n_estimator: \"+str(estimator)+\" max_features: \"+str(features))\n",
    "        accuracy.append(acc)\n",
    "    \n",
    "plt.plot(params, accuracy)\n",
    "plt.xlabel(\"Number of estimators\")\n",
    "plt.xticks(rotation=90)\n",
    "plt.ylabel(\"Accuracy\")\n",
    "plt.show()"
   ]
  },
  {
   "cell_type": "code",
   "execution_count": 30,
   "metadata": {},
   "outputs": [
    {
     "name": "stdout",
     "output_type": "stream",
     "text": [
      "Best roc_auc: 0.7962, with best estimators {'max_features': 20, 'max_samples': 0.5, 'n_estimators': 40}\n",
      "0.7989573150863474\n",
      "[[4610   41]\n",
      " [1193  294]]\n",
      "              precision    recall  f1-score   support\n",
      "\n",
      "           0       0.79      0.99      0.88      4651\n",
      "           1       0.88      0.20      0.32      1487\n",
      "\n",
      "    accuracy                           0.80      6138\n",
      "   macro avg       0.84      0.59      0.60      6138\n",
      "weighted avg       0.81      0.80      0.75      6138\n",
      "\n"
     ]
    }
   ],
   "source": [
    "tuned_parameters = {\"n_estimators\": [1,20,40,80,100,200],\n",
    "                    \"max_features\":[1,4,8,12,20],\n",
    "                    \"max_samples\": [0.5,0.1],\n",
    "                    }\n",
    "log_reg = LogisticRegression(random_state=0, C=20)\n",
    "log_reg_bag_grid = GridSearchCV(BaggingClassifier(log_reg, bootstrap=True, random_state=0, oob_score=True),tuned_parameters)\n",
    "log_reg_bag_grid_model = log_reg_bag_grid.fit(X_train,y_train)\n",
    "\n",
    "print('Best roc_auc: {:.4}, with best estimators {}'.format(log_reg_bag_grid_model.best_score_, log_reg_bag_grid_model.best_params_))\n",
    "\n",
    "y_pred = log_reg_bag_grid_model.predict(X_test)\n",
    "print(accuracy_score(y_test, y_pred))\n",
    "print(confusion_matrix(y_test, y_pred))\n",
    "print(classification_report(y_test, y_pred))"
   ]
  },
  {
   "cell_type": "markdown",
   "metadata": {},
   "source": [
    "## Pasting for Decision tree classifier"
   ]
  },
  {
   "cell_type": "code",
   "execution_count": 31,
   "metadata": {},
   "outputs": [
    {
     "data": {
      "image/png": "[encoded data removed]",
      "text/plain": [
       "<Figure size 432x288 with 1 Axes>"
      ]
     },
     "metadata": {
      "needs_background": "light"
     },
     "output_type": "display_data"
    }
   ],
   "source": [
    "n_estimators = [1,20,40,80,100,200]\n",
    "max_features = [1,4,8,12,20]\n",
    "params=[]\n",
    "accuracy = []\n",
    "\n",
    "for estimator in n_estimators:\n",
    "    for features in max_features:\n",
    "        clf = BaggingClassifier(DecisionTreeClassifier(random_state=0, max_depth = 7), \\\n",
    "                                bootstrap=False, random_state=0, \\\n",
    "                                max_samples=0.5, \\\n",
    "                                max_features=features, \\\n",
    "                                n_estimators=estimator)\n",
    "        clf.fit(X, y)\n",
    "        acc = clf.score(X_test, y_test)\n",
    "        params.append(\"n_estimator: \"+str(estimator)+\" max_features: \"+str(features))\n",
    "        accuracy.append(acc)\n",
    "    \n",
    "plt.plot(params, accuracy)\n",
    "plt.xlabel(\"Number of estimators\")\n",
    "plt.xticks(rotation=90)\n",
    "plt.ylabel(\"Accuracy\")\n",
    "plt.show()"
   ]
  },
  {
   "cell_type": "code",
   "execution_count": 26,
   "metadata": {},
   "outputs": [
    {
     "name": "stdout",
     "output_type": "stream",
     "text": [
      "Best roc_auc: 0.7493, with best estimators {'max_features': 8, 'max_samples': 0.1, 'n_estimators': 50}\n",
      "0.7577386770935158\n",
      "[[4651    0]\n",
      " [1487    0]]\n",
      "              precision    recall  f1-score   support\n",
      "\n",
      "           0       0.76      1.00      0.86      4651\n",
      "           1       0.00      0.00      0.00      1487\n",
      "\n",
      "    accuracy                           0.76      6138\n",
      "   macro avg       0.38      0.50      0.43      6138\n",
      "weighted avg       0.57      0.76      0.65      6138\n",
      "\n"
     ]
    }
   ],
   "source": [
    "tuned_parameters = {\"n_estimators\": [50,100,200,500],\n",
    "                    \"max_features\":[1,2,4,6,8],\n",
    "                    \"max_samples\": [0.5,0.1],\n",
    "                    }\n",
    "dt = DecisionTreeClassifier(random_state=0, max_depth = 7)\n",
    "dt_paste_grid = GridSearchCV(BaggingClassifier(dt, bootstrap=False, random_state=0),tuned_parameters)\n",
    "dt_paste_grid_model = dt_paste_grid.fit(X_train,y_train)\n",
    "\n",
    "print('Best roc_auc: {:.4}, with best estimators {}'.format(dt_paste_grid_model.best_score_, dt_paste_grid_model.best_params_))\n",
    "\n",
    "y_pred = dt_paste_grid_model.predict(X_test)\n",
    "print(accuracy_score(y_test, y_pred))\n",
    "print(confusion_matrix(y_test, y_pred))\n",
    "print(classification_report(y_test, y_pred))"
   ]
  },
  {
   "cell_type": "markdown",
   "metadata": {},
   "source": [
    "## Pasting for Logistic Regression"
   ]
  },
  {
   "cell_type": "code",
   "execution_count": 32,
   "metadata": {},
   "outputs": [
    {
     "data": {
      "image/png": "[encoded data removed]",
      "text/plain": [
       "<Figure size 432x288 with 1 Axes>"
      ]
     },
     "metadata": {
      "needs_background": "light"
     },
     "output_type": "display_data"
    }
   ],
   "source": [
    "n_estimators = [1,20,40,80,100,200]\n",
    "max_features = [1,4,8,12,20]\n",
    "params=[]\n",
    "accuracy = []\n",
    "\n",
    "for estimator in n_estimators:\n",
    "    for features in max_features:\n",
    "        clf = BaggingClassifier(LogisticRegression(random_state=0, C=20), \\\n",
    "                                bootstrap=False, random_state=0, \\\n",
    "                                max_samples=0.5, \\\n",
    "                                max_features=features, \\\n",
    "                                n_estimators=estimator)\n",
    "        clf.fit(X, y)\n",
    "        acc = clf.score(X_test, y_test)\n",
    "        params.append(\"n_estimator: \"+str(estimator)+\" max_features: \"+str(features))\n",
    "        accuracy.append(acc)\n",
    "    \n",
    "plt.plot(params, accuracy)\n",
    "plt.xlabel(\"Number of estimators\")\n",
    "plt.xticks(rotation=90)\n",
    "plt.ylabel(\"Accuracy\")\n",
    "plt.show()"
   ]
  },
  {
   "cell_type": "code",
   "execution_count": 27,
   "metadata": {},
   "outputs": [
    {
     "name": "stdout",
     "output_type": "stream",
     "text": [
      "Best roc_auc: 0.7491, with best estimators {'max_features': 8, 'max_samples': 0.5, 'n_estimators': 100}\n",
      "0.7577386770935158\n",
      "[[4651    0]\n",
      " [1487    0]]\n",
      "              precision    recall  f1-score   support\n",
      "\n",
      "           0       0.76      1.00      0.86      4651\n",
      "           1       0.00      0.00      0.00      1487\n",
      "\n",
      "    accuracy                           0.76      6138\n",
      "   macro avg       0.38      0.50      0.43      6138\n",
      "weighted avg       0.57      0.76      0.65      6138\n",
      "\n"
     ]
    }
   ],
   "source": [
    "tuned_parameters = {\"n_estimators\": [1,20,40,80,100,200],\n",
    "                    \"max_features\": [1,4,8,12,20],\n",
    "                    \"max_samples\": [0.5,0.1],\n",
    "                    }\n",
    "log_reg = LogisticRegression(random_state=0, C=20)\n",
    "log_reg_paste_grid = GridSearchCV(BaggingClassifier(log_reg, bootstrap=False, random_state=0),tuned_parameters)\n",
    "log_reg_paste_grid_model = log_reg_paste_grid.fit(X_train,y_train)\n",
    "\n",
    "print('Best roc_auc: {:.4}, with best estimators {}'.format(log_reg_paste_grid_model.best_score_, log_reg_paste_grid_model.best_params_))\n",
    "\n",
    "y_pred = log_reg_paste_grid_model.predict(X_test)\n",
    "print(accuracy_score(y_test, y_pred))\n",
    "print(confusion_matrix(y_test, y_pred))\n",
    "print(classification_report(y_test, y_pred))"
   ]
  },
  {
   "cell_type": "markdown",
   "metadata": {},
   "source": [
    "## Adaboosting for Decision tree classifier"
   ]
  },
  {
   "cell_type": "code",
   "execution_count": 33,
   "metadata": {},
   "outputs": [
    {
     "data": {
      "image/png": "[encoded data removed]",
      "text/plain": [
       "<Figure size 432x288 with 1 Axes>"
      ]
     },
     "metadata": {
      "needs_background": "light"
     },
     "output_type": "display_data"
    }
   ],
   "source": [
    "n_estimators = [1,20,40,80,100,200]\n",
    "learning_rate = [0.1,0.2,0.3,0.4,0.8]\n",
    "params=[]\n",
    "accuracy = []\n",
    "\n",
    "for estimator in n_estimators:\n",
    "    for l_rate in learning_rate:\n",
    "        clf = AdaBoostClassifier(DecisionTreeClassifier(random_state=0, max_depth = 7), \\\n",
    "                                 random_state=0, \\\n",
    "                                 n_estimators = estimator, \\\n",
    "                                 learning_rate = l_rate, \\\n",
    "                                 algorithm = \"SAMME\"\n",
    "                                )\n",
    "        clf.fit(X, y)\n",
    "        acc = clf.score(X_test, y_test)\n",
    "        params.append(\"n_estimator: \"+str(estimator)+\" learning_rate: \"+str(l_rate))\n",
    "        accuracy.append(acc)\n",
    "    \n",
    "plt.plot(params, accuracy)\n",
    "plt.xlabel(\"Number of estimators\")\n",
    "plt.xticks(rotation=90)\n",
    "plt.ylabel(\"Accuracy\")\n",
    "plt.show()"
   ]
  },
  {
   "cell_type": "code",
   "execution_count": 29,
   "metadata": {},
   "outputs": [
    {
     "name": "stdout",
     "output_type": "stream",
     "text": [
      "Best roc_auc: 0.8652, with best estimators {'algorithm': 'SAMME', 'learning_rate': 0.4, 'n_estimators': 500}\n",
      "Accuracy Score 0.8690127077223851\n",
      "Confusion Matrix [[4341  310]\n",
      " [ 494  993]]\n",
      "Classification Matrix               precision    recall  f1-score   support\n",
      "\n",
      "           0       0.90      0.93      0.92      4651\n",
      "           1       0.76      0.67      0.71      1487\n",
      "\n",
      "    accuracy                           0.87      6138\n",
      "   macro avg       0.83      0.80      0.81      6138\n",
      "weighted avg       0.86      0.87      0.87      6138\n",
      "\n"
     ]
    }
   ],
   "source": [
    "tuned_parameters = {\"n_estimators\": [50,100,200,500],\n",
    "                    \"learning_rate\":[0.4,0.5,0.6,0.7,0.8,0.9],\n",
    "                    \"algorithm\":[\"SAMME.R\",\"SAMME\"],\n",
    "                    }\n",
    "dt = DecisionTreeClassifier(random_state=0, max_depth = 7)\n",
    "dt_ada_grid = GridSearchCV(AdaBoostClassifier(dt, random_state=0),tuned_parameters)\n",
    "dt_ada_grid_model = dt_ada_grid.fit(X_train,y_train)\n",
    "\n",
    "print('Best roc_auc: {:.4}, with best estimators {}'.format(dt_ada_grid_model.best_score_, dt_ada_grid_model.best_params_))\n",
    "\n",
    "y_pred = dt_ada_grid_model.predict(X_test)\n",
    "print('Accuracy Score', accuracy_score(y_test, y_pred))\n",
    "print('Confusion Matrix', confusion_matrix(y_test, y_pred))\n",
    "print('Classification Matrix', classification_report(y_test, y_pred))"
   ]
  },
  {
   "cell_type": "markdown",
   "metadata": {},
   "source": [
    "## Adaboosting for Logistic Regression"
   ]
  },
  {
   "cell_type": "code",
   "execution_count": 34,
   "metadata": {},
   "outputs": [
    {
     "data": {
      "image/png": "[encoded data removed]",
      "text/plain": [
       "<Figure size 432x288 with 1 Axes>"
      ]
     },
     "metadata": {
      "needs_background": "light"
     },
     "output_type": "display_data"
    }
   ],
   "source": [
    "n_estimators = [1,20,40,80,100,200]\n",
    "learning_rate = [0.1,0.2,0.3,0.4,0.8]\n",
    "params=[]\n",
    "accuracy = []\n",
    "\n",
    "for estimator in n_estimators:\n",
    "    for l_rate in learning_rate:\n",
    "        clf = AdaBoostClassifier(LogisticRegression(random_state=0, C=20), \\\n",
    "                                 random_state=0, \\\n",
    "                                 n_estimators = estimator, \\\n",
    "                                 learning_rate = l_rate, \\\n",
    "                                 algorithm = \"SAMME.R\"\n",
    "                                )\n",
    "        clf.fit(X, y)\n",
    "        acc = clf.score(X_test, y_test)\n",
    "        params.append(\"n_estimator: \"+str(estimator)+\" learning_rate: \"+str(l_rate))\n",
    "        accuracy.append(acc)\n",
    "    \n",
    "plt.plot(params, accuracy)\n",
    "plt.xlabel(\"Number of estimators\")\n",
    "plt.xticks(rotation=90)\n",
    "plt.ylabel(\"Accuracy\")\n",
    "plt.show()"
   ]
  },
  {
   "cell_type": "code",
   "execution_count": 30,
   "metadata": {
    "scrolled": true
   },
   "outputs": [
    {
     "name": "stdout",
     "output_type": "stream",
     "text": [
      "Best roc_auc: 0.8445, with best estimators {'algorithm': 'SAMME.R', 'learning_rate': 0.8, 'n_estimators': 500}\n",
      "Accuracy Score 0.849625285109156\n",
      "Confusion Matrix [[4318  333]\n",
      " [ 590  897]]\n",
      "Classification Report               precision    recall  f1-score   support\n",
      "\n",
      "           0       0.88      0.93      0.90      4651\n",
      "           1       0.73      0.60      0.66      1487\n",
      "\n",
      "    accuracy                           0.85      6138\n",
      "   macro avg       0.80      0.77      0.78      6138\n",
      "weighted avg       0.84      0.85      0.84      6138\n",
      "\n"
     ]
    }
   ],
   "source": [
    "tuned_parameters = {\"n_estimators\": [50,100,200,500],\n",
    "                    \"learning_rate\":[0.4,0.5,0.6,0.7,0.8,0.9],\n",
    "                    \"algorithm\":[\"SAMME.R\",\"SAMME\"],\n",
    "                    }\n",
    "log_reg = LogisticRegression(random_state=0, C=20)\n",
    "log_reg_ada_grid = GridSearchCV(AdaBoostClassifier(log_reg, random_state=0),tuned_parameters)\n",
    "log_reg_ada_grid_model = log_reg_ada_grid.fit(X_train,y_train)\n",
    "\n",
    "print('Best roc_auc: {:.4}, with best estimators {}'.format(log_reg_ada_grid_model.best_score_, log_reg_ada_grid_model.best_params_))\n",
    "\n",
    "y_pred = log_reg_ada_grid_model.predict(X_test)\n",
    "print('Accuracy Score', accuracy_score(y_test, y_pred))\n",
    "print('Confusion Matrix', confusion_matrix(y_test, y_pred))\n",
    "print('Classification Report', classification_report(y_test, y_pred))"
   ]
  },
  {
   "cell_type": "markdown",
   "metadata": {},
   "source": [
    "## Gradient Boosting"
   ]
  },
  {
   "cell_type": "code",
   "execution_count": 32,
   "metadata": {},
   "outputs": [
    {
     "name": "stdout",
     "output_type": "stream",
     "text": [
      "Best roc_auc: 0.8675, with best estimators {'learning_rate': 0.1, 'max_depth': 5, 'max_features': 'auto', 'n_estimators': 200}\n",
      "Accuracy Score 0.8743890518084066\n",
      "Confusion Matrix [[4379  272]\n",
      " [ 499  988]]\n",
      "Classification Report               precision    recall  f1-score   support\n",
      "\n",
      "           0       0.90      0.94      0.92      4651\n",
      "           1       0.78      0.66      0.72      1487\n",
      "\n",
      "    accuracy                           0.87      6138\n",
      "   macro avg       0.84      0.80      0.82      6138\n",
      "weighted avg       0.87      0.87      0.87      6138\n",
      "\n"
     ]
    }
   ],
   "source": [
    "tuned_parameters = {\"max_depth\": [3,5,6,7],\n",
    "                    \"max_features\":['auto', 'sqrt', 'log2'],\n",
    "                    \"learning_rate\":[0.05,0.1,0.2,0.6,0.8,1],\n",
    "                    \"n_estimators\": range(100,1001,100)}\n",
    "\n",
    "grad_boost_grid = GridSearchCV(GradientBoostingClassifier(random_state=0),tuned_parameters)\n",
    "grad_boost_grid_model = grad_boost_grid.fit(X_train,y_train)\n",
    "\n",
    "print('Best roc_auc: {:.4}, with best estimators {}'.format(grad_boost_grid_model.best_score_, grad_boost_grid_model.best_params_))\n",
    "\n",
    "y_pred = grad_boost_grid_model.predict(X_test)\n",
    "print('Accuracy Score', accuracy_score(y_test, y_pred))\n",
    "print('Confusion Matrix', confusion_matrix(y_test, y_pred))\n",
    "print('Classification Report',classification_report(y_test, y_pred))"
   ]
  },
  {
   "cell_type": "markdown",
   "metadata": {},
   "source": [
    "# KernelPCA Linear "
   ]
  },
  {
   "cell_type": "code",
   "execution_count": 12,
   "metadata": {},
   "outputs": [],
   "source": [
    "from sklearn.decomposition import KernelPCA\n",
    "\n",
    "transformer = KernelPCA(n_components=8, kernel='linear')\n",
    "X_transformed_train = transformer.fit_transform(X_train)\n",
    "X_transformed_test = transformer.fit_transform(X_test)"
   ]
  },
  {
   "cell_type": "code",
   "execution_count": 13,
   "metadata": {},
   "outputs": [
    {
     "name": "stdout",
     "output_type": "stream",
     "text": [
      "Accuracy: 0.8163897034864777\n",
      "AUC: 0.8444033772520303\n",
      "Confusion Matrix: [[4293  358]\n",
      " [ 769  718]]\n",
      "              precision    recall  f1-score   support\n",
      "\n",
      "           0       0.85      0.92      0.88      4651\n",
      "           1       0.67      0.48      0.56      1487\n",
      "\n",
      "    accuracy                           0.82      6138\n",
      "   macro avg       0.76      0.70      0.72      6138\n",
      "weighted avg       0.80      0.82      0.81      6138\n",
      "\n"
     ]
    }
   ],
   "source": [
    "lr = LogisticRegression()\n",
    "lr.fit(X_transformed_train, y_train)\n",
    "predictions = lr.predict(X_transformed_test)\n",
    "print(\"Accuracy: \"+ str(accuracy_score(y_test, predictions)))\n",
    "print(\"AUC: \"+ str(roc_auc_score(y_test, lr.predict_proba(X_transformed_test)[:,1])))\n",
    "print(\"Confusion Matrix: \"+ str(confusion_matrix(y_test, predictions)))\n",
    "print(classification_report(y_test, predictions))"
   ]
  },
  {
   "cell_type": "code",
   "execution_count": 14,
   "metadata": {},
   "outputs": [
    {
     "name": "stdout",
     "output_type": "stream",
     "text": [
      "Accuracy: 0.7373737373737373\n",
      "AUC: 0.6560611228655948\n",
      "Confusion Matrix: [[3785  866]\n",
      " [ 746  741]]\n",
      "              precision    recall  f1-score   support\n",
      "\n",
      "           0       0.84      0.81      0.82      4651\n",
      "           1       0.46      0.50      0.48      1487\n",
      "\n",
      "    accuracy                           0.74      6138\n",
      "   macro avg       0.65      0.66      0.65      6138\n",
      "weighted avg       0.74      0.74      0.74      6138\n",
      "\n"
     ]
    }
   ],
   "source": [
    "cart = DecisionTreeClassifier()\n",
    "cart.fit(X_transformed_train, y_train)\n",
    "predictions = cart.predict(X_transformed_test)\n",
    "print(\"Accuracy: \"+ str(accuracy_score(y_test, predictions)))\n",
    "print(\"AUC: \"+ str(roc_auc_score(y_test, cart.predict_proba(X_transformed_test)[:,1])))\n",
    "print(\"Confusion Matrix: \"+ str(confusion_matrix(y_test, predictions)))\n",
    "print(classification_report(y_test, predictions))"
   ]
  },
  {
   "cell_type": "markdown",
   "metadata": {},
   "source": [
    "# KernelPCA sigmoid "
   ]
  },
  {
   "cell_type": "code",
   "execution_count": 15,
   "metadata": {},
   "outputs": [],
   "source": [
    "from sklearn.decomposition import KernelPCA\n",
    "\n",
    "transformer = KernelPCA(n_components=8, kernel='sigmoid')\n",
    "X_transformed_train = transformer.fit_transform(X_train)\n",
    "X_transformed_test = transformer.fit_transform(X_test)"
   ]
  },
  {
   "cell_type": "code",
   "execution_count": 16,
   "metadata": {},
   "outputs": [
    {
     "name": "stdout",
     "output_type": "stream",
     "text": [
      "Accuracy: 0.8152492668621701\n",
      "AUC: 0.8431719639440911\n",
      "Confusion Matrix: [[4378  273]\n",
      " [ 861  626]]\n",
      "              precision    recall  f1-score   support\n",
      "\n",
      "           0       0.84      0.94      0.89      4651\n",
      "           1       0.70      0.42      0.52      1487\n",
      "\n",
      "    accuracy                           0.82      6138\n",
      "   macro avg       0.77      0.68      0.71      6138\n",
      "weighted avg       0.80      0.82      0.80      6138\n",
      "\n"
     ]
    }
   ],
   "source": [
    "lr = LogisticRegression()\n",
    "lr.fit(X_transformed_train, y_train)\n",
    "predictions = lr.predict(X_transformed_test)\n",
    "print(\"Accuracy: \"+ str(accuracy_score(y_test, predictions)))\n",
    "print(\"AUC: \"+ str(roc_auc_score(y_test, lr.predict_proba(X_transformed_test)[:,1])))\n",
    "print(\"Confusion Matrix: \"+ str(confusion_matrix(y_test, predictions)))\n",
    "print(classification_report(y_test, predictions))"
   ]
  },
  {
   "cell_type": "code",
   "execution_count": 17,
   "metadata": {},
   "outputs": [
    {
     "name": "stdout",
     "output_type": "stream",
     "text": [
      "Accuracy: 0.7178233952427501\n",
      "AUC: 0.6340109227293029\n",
      "Confusion Matrix: [[3705  946]\n",
      " [ 786  701]]\n",
      "              precision    recall  f1-score   support\n",
      "\n",
      "           0       0.82      0.80      0.81      4651\n",
      "           1       0.43      0.47      0.45      1487\n",
      "\n",
      "    accuracy                           0.72      6138\n",
      "   macro avg       0.63      0.63      0.63      6138\n",
      "weighted avg       0.73      0.72      0.72      6138\n",
      "\n"
     ]
    }
   ],
   "source": [
    "cart = DecisionTreeClassifier()\n",
    "cart.fit(X_transformed_train, y_train)\n",
    "predictions = cart.predict(X_transformed_test)\n",
    "print(\"Accuracy: \"+ str(accuracy_score(y_test, predictions)))\n",
    "print(\"AUC: \"+ str(roc_auc_score(y_test, cart.predict_proba(X_transformed_test)[:,1])))\n",
    "print(\"Confusion Matrix: \"+ str(confusion_matrix(y_test, predictions)))\n",
    "print(classification_report(y_test, predictions))"
   ]
  },
  {
   "cell_type": "markdown",
   "metadata": {},
   "source": [
    "# KernelPCA rbf "
   ]
  },
  {
   "cell_type": "code",
   "execution_count": 18,
   "metadata": {},
   "outputs": [],
   "source": [
    "from sklearn.decomposition import KernelPCA\n",
    "\n",
    "transformer = KernelPCA(n_components=8, kernel='rbf')\n",
    "X_transformed_train = transformer.fit_transform(X_train)\n",
    "X_transformed_test = transformer.fit_transform(X_test)"
   ]
  },
  {
   "cell_type": "code",
   "execution_count": 19,
   "metadata": {},
   "outputs": [
    {
     "name": "stdout",
     "output_type": "stream",
     "text": [
      "Accuracy: 0.8168784620397523\n",
      "AUC: 0.8447026816079788\n",
      "Confusion Matrix: [[4318  333]\n",
      " [ 791  696]]\n",
      "              precision    recall  f1-score   support\n",
      "\n",
      "           0       0.85      0.93      0.88      4651\n",
      "           1       0.68      0.47      0.55      1487\n",
      "\n",
      "    accuracy                           0.82      6138\n",
      "   macro avg       0.76      0.70      0.72      6138\n",
      "weighted avg       0.80      0.82      0.80      6138\n",
      "\n"
     ]
    }
   ],
   "source": [
    "lr = LogisticRegression()\n",
    "lr.fit(X_transformed_train, y_train)\n",
    "predictions = lr.predict(X_transformed_test)\n",
    "print(\"Accuracy: \"+ str(accuracy_score(y_test, predictions)))\n",
    "print(\"AUC: \"+ str(roc_auc_score(y_test, lr.predict_proba(X_transformed_test)[:,1])))\n",
    "print(\"Confusion Matrix: \"+ str(confusion_matrix(y_test, predictions)))\n",
    "print(classification_report(y_test, predictions))"
   ]
  },
  {
   "cell_type": "code",
   "execution_count": 20,
   "metadata": {},
   "outputs": [
    {
     "name": "stdout",
     "output_type": "stream",
     "text": [
      "Accuracy: 0.7104920169436298\n",
      "AUC: 0.6259708413937056\n",
      "Confusion Matrix: [[3674  977]\n",
      " [ 800  687]]\n",
      "              precision    recall  f1-score   support\n",
      "\n",
      "           0       0.82      0.79      0.81      4651\n",
      "           1       0.41      0.46      0.44      1487\n",
      "\n",
      "    accuracy                           0.71      6138\n",
      "   macro avg       0.62      0.63      0.62      6138\n",
      "weighted avg       0.72      0.71      0.72      6138\n",
      "\n"
     ]
    }
   ],
   "source": [
    "cart = DecisionTreeClassifier()\n",
    "cart.fit(X_transformed_train, y_train)\n",
    "predictions = cart.predict(X_transformed_test)\n",
    "print(\"Accuracy: \"+ str(accuracy_score(y_test, predictions)))\n",
    "print(\"AUC: \"+ str(roc_auc_score(y_test, cart.predict_proba(X_transformed_test)[:,1])))\n",
    "print(\"Confusion Matrix: \"+ str(confusion_matrix(y_test, predictions)))\n",
    "print(classification_report(y_test, predictions))"
   ]
  },
  {
   "cell_type": "markdown",
   "metadata": {},
   "source": [
    "# KernelPCA poly "
   ]
  },
  {
   "cell_type": "code",
   "execution_count": 21,
   "metadata": {},
   "outputs": [],
   "source": [
    "from sklearn.decomposition import KernelPCA\n",
    "\n",
    "transformer = KernelPCA(n_components=8, kernel='poly')\n",
    "X_transformed_train = transformer.fit_transform(X_train)\n",
    "X_transformed_test = transformer.fit_transform(X_test)"
   ]
  },
  {
   "cell_type": "code",
   "execution_count": 22,
   "metadata": {},
   "outputs": [
    {
     "name": "stdout",
     "output_type": "stream",
     "text": [
      "Accuracy: 0.8165526230042359\n",
      "AUC: 0.8449374981654956\n",
      "Confusion Matrix: [[4310  341]\n",
      " [ 785  702]]\n",
      "              precision    recall  f1-score   support\n",
      "\n",
      "           0       0.85      0.93      0.88      4651\n",
      "           1       0.67      0.47      0.55      1487\n",
      "\n",
      "    accuracy                           0.82      6138\n",
      "   macro avg       0.76      0.70      0.72      6138\n",
      "weighted avg       0.80      0.82      0.80      6138\n",
      "\n"
     ]
    }
   ],
   "source": [
    "lr = LogisticRegression()\n",
    "lr.fit(X_transformed_train, y_train)\n",
    "predictions = lr.predict(X_transformed_test)\n",
    "print(\"Accuracy: \"+ str(accuracy_score(y_test, predictions)))\n",
    "print(\"AUC: \"+ str(roc_auc_score(y_test, lr.predict_proba(X_transformed_test)[:,1])))\n",
    "print(\"Confusion Matrix: \"+ str(confusion_matrix(y_test, predictions)))\n",
    "print(classification_report(y_test, predictions))"
   ]
  },
  {
   "cell_type": "code",
   "execution_count": 23,
   "metadata": {},
   "outputs": [
    {
     "name": "stdout",
     "output_type": "stream",
     "text": [
      "Accuracy: 0.7205930270446399\n",
      "AUC: 0.6276037129356017\n",
      "Confusion Matrix: [[3758  893]\n",
      " [ 822  665]]\n",
      "              precision    recall  f1-score   support\n",
      "\n",
      "           0       0.82      0.81      0.81      4651\n",
      "           1       0.43      0.45      0.44      1487\n",
      "\n",
      "    accuracy                           0.72      6138\n",
      "   macro avg       0.62      0.63      0.63      6138\n",
      "weighted avg       0.73      0.72      0.72      6138\n",
      "\n"
     ]
    }
   ],
   "source": [
    "cart = DecisionTreeClassifier()\n",
    "cart.fit(X_transformed_train, y_train)\n",
    "predictions = cart.predict(X_transformed_test)\n",
    "print(\"Accuracy: \"+ str(accuracy_score(y_test, predictions)))\n",
    "print(\"AUC: \"+ str(roc_auc_score(y_test, cart.predict_proba(X_transformed_test)[:,1])))\n",
    "print(\"Confusion Matrix: \"+ str(confusion_matrix(y_test, predictions)))\n",
    "print(classification_report(y_test, predictions))"
   ]
  },
  {
   "cell_type": "markdown",
   "metadata": {},
   "source": [
    "# KernelPCA cosine "
   ]
  },
  {
   "cell_type": "code",
   "execution_count": 24,
   "metadata": {},
   "outputs": [],
   "source": [
    "from sklearn.decomposition import KernelPCA\n",
    "\n",
    "transformer = KernelPCA(n_components=8, kernel='cosine')\n",
    "X_transformed_train = transformer.fit_transform(X_train)\n",
    "X_transformed_test = transformer.fit_transform(X_test)"
   ]
  },
  {
   "cell_type": "code",
   "execution_count": 25,
   "metadata": {},
   "outputs": [
    {
     "name": "stdout",
     "output_type": "stream",
     "text": [
      "Accuracy: 0.7994460736396221\n",
      "AUC: 0.8358311269878977\n",
      "Confusion Matrix: [[4212  439]\n",
      " [ 792  695]]\n",
      "              precision    recall  f1-score   support\n",
      "\n",
      "           0       0.84      0.91      0.87      4651\n",
      "           1       0.61      0.47      0.53      1487\n",
      "\n",
      "    accuracy                           0.80      6138\n",
      "   macro avg       0.73      0.69      0.70      6138\n",
      "weighted avg       0.79      0.80      0.79      6138\n",
      "\n"
     ]
    }
   ],
   "source": [
    "lr = LogisticRegression()\n",
    "lr.fit(X_transformed_train, y_train)\n",
    "predictions = lr.predict(X_transformed_test)\n",
    "print(\"Accuracy: \"+ str(accuracy_score(y_test, predictions)))\n",
    "print(\"AUC: \"+ str(roc_auc_score(y_test, lr.predict_proba(X_transformed_test)[:,1])))\n",
    "print(\"Confusion Matrix: \"+ str(confusion_matrix(y_test, predictions)))\n",
    "print(classification_report(y_test, predictions))"
   ]
  },
  {
   "cell_type": "code",
   "execution_count": 26,
   "metadata": {},
   "outputs": [
    {
     "name": "stdout",
     "output_type": "stream",
     "text": [
      "Accuracy: 0.6935483870967742\n",
      "AUC: 0.5939747719683974\n",
      "Confusion Matrix: [[3661  990]\n",
      " [ 891  596]]\n",
      "              precision    recall  f1-score   support\n",
      "\n",
      "           0       0.80      0.79      0.80      4651\n",
      "           1       0.38      0.40      0.39      1487\n",
      "\n",
      "    accuracy                           0.69      6138\n",
      "   macro avg       0.59      0.59      0.59      6138\n",
      "weighted avg       0.70      0.69      0.70      6138\n",
      "\n"
     ]
    }
   ],
   "source": [
    "cart = DecisionTreeClassifier()\n",
    "cart.fit(X_transformed_train, y_train)\n",
    "predictions = cart.predict(X_transformed_test)\n",
    "print(\"Accuracy: \"+ str(accuracy_score(y_test, predictions)))\n",
    "print(\"AUC: \"+ str(roc_auc_score(y_test, cart.predict_proba(X_transformed_test)[:,1])))\n",
    "print(\"Confusion Matrix: \"+ str(confusion_matrix(y_test, predictions)))\n",
    "print(classification_report(y_test, predictions))"
   ]
  },
  {
   "cell_type": "markdown",
   "metadata": {},
   "source": [
    "# Principle Component Analysis"
   ]
  },
  {
   "cell_type": "code",
   "execution_count": 12,
   "metadata": {},
   "outputs": [
    {
     "data": {
      "text/plain": [
       "28"
      ]
     },
     "execution_count": 12,
     "metadata": {},
     "output_type": "execute_result"
    }
   ],
   "source": [
    "pca90 = PCA(.90,random_state=0)\n",
    "pca90.fit(X_train)\n",
    "pca90.n_components_"
   ]
  },
  {
   "cell_type": "code",
   "execution_count": 13,
   "metadata": {},
   "outputs": [
    {
     "data": {
      "text/plain": [
       "37"
      ]
     },
     "execution_count": 13,
     "metadata": {},
     "output_type": "execute_result"
    }
   ],
   "source": [
    "pca95 = PCA(.95,random_state=0)\n",
    "pca95.fit(X_train)\n",
    "pca95.n_components_"
   ]
  },
  {
   "cell_type": "code",
   "execution_count": 14,
   "metadata": {},
   "outputs": [
    {
     "data": {
      "text/plain": [
       "60"
      ]
     },
     "execution_count": 14,
     "metadata": {},
     "output_type": "execute_result"
    }
   ],
   "source": [
    "pca99 = PCA(.99,random_state=0)\n",
    "pca99.fit(X_train)\n",
    "pca99.n_components_"
   ]
  },
  {
   "cell_type": "code",
   "execution_count": 15,
   "metadata": {},
   "outputs": [],
   "source": [
    "X_train_without_PCA= X_train\n",
    "X_test_without_PCA= X_test\n",
    "X_train = pca95.transform(X_train)\n",
    "X_test = pca95.transform(X_test)"
   ]
  },
  {
   "cell_type": "markdown",
   "metadata": {},
   "source": [
    "### Logistic Regression"
   ]
  },
  {
   "cell_type": "code",
   "execution_count": 88,
   "metadata": {},
   "outputs": [
    {
     "name": "stdout",
     "output_type": "stream",
     "text": [
      "Accuracy: 0.8325187357445422\n",
      "AUC: 0.8859141441840177\n",
      "Confusion Matrix: [[4303  348]\n",
      " [ 680  807]]\n",
      "              precision    recall  f1-score   support\n",
      "\n",
      "           0       0.86      0.93      0.89      4651\n",
      "           1       0.70      0.54      0.61      1487\n",
      "\n",
      "    accuracy                           0.83      6138\n",
      "   macro avg       0.78      0.73      0.75      6138\n",
      "weighted avg       0.82      0.83      0.82      6138\n",
      "\n"
     ]
    }
   ],
   "source": [
    "lr = LogisticRegression()\n",
    "lr.fit(X_train, y_train)\n",
    "predictions = lr.predict(X_test)\n",
    "print(\"Accuracy: \"+ str(accuracy_score(y_test, predictions)))\n",
    "print(\"AUC: \"+ str(roc_auc_score(y_test, lr.predict_proba(X_test)[:,1])))\n",
    "print(\"Confusion Matrix: \"+ str(confusion_matrix(y_test, predictions)))\n",
    "print(classification_report(y_test, predictions))"
   ]
  },
  {
   "cell_type": "code",
   "execution_count": 89,
   "metadata": {},
   "outputs": [
    {
     "data": {
      "image/png": "[encoded data removed]",
      "text/plain": [
       "<Figure size 432x288 with 1 Axes>"
      ]
     },
     "metadata": {
      "needs_background": "light"
     },
     "output_type": "display_data"
    }
   ],
   "source": [
    "import matplotlib.pyplot as plt\n",
    "%matplotlib inline\n",
    "\n",
    "c_range = [0.001,0.003,0.005,0.01,0.03,0.05,0.1,0.3,0.5,1,2,3,3,4,5,10,20,100,1000]\n",
    "train_score_l1 = []\n",
    "train_score_l2 = []\n",
    "test_score_l1 = []\n",
    "test_score_l2 = []\n",
    "\n",
    "for c in c_range:\n",
    "    log_l1 = LogisticRegression(penalty = 'l1', C = c)\n",
    "    log_l2 = LogisticRegression(penalty = 'l2', C = c)\n",
    "    log_l1.fit(X_train, y_train)\n",
    "    log_l2.fit(X_train, y_train)\n",
    "    train_score_l1.append(log_l1.score(X_train, y_train))\n",
    "    train_score_l2.append(log_l2.score(X_train, y_train))\n",
    "    test_score_l1.append(log_l1.score(X_test, y_test))\n",
    "    test_score_l2.append(log_l2.score(X_test, y_test))\n",
    "    \n",
    "    \n",
    "plt.plot(c_range, train_score_l1, label = 'Train score, penalty = l1')\n",
    "plt.plot(c_range, test_score_l1, label = 'Test score, penalty = l1')\n",
    "plt.plot(c_range, train_score_l2, label = 'Train score, penalty = l2')\n",
    "plt.plot(c_range, test_score_l2, label = 'Test score, penalty = l2')\n",
    "plt.legend()\n",
    "plt.xlabel('Regularization parameter: C')\n",
    "plt.ylabel('Accuracy')\n",
    "plt.xscale('log')"
   ]
  },
  {
   "cell_type": "code",
   "execution_count": 90,
   "metadata": {},
   "outputs": [
    {
     "name": "stdout",
     "output_type": "stream",
     "text": [
      "Best roc_auc: 0.8801, with best C: {'C': 20}\n"
     ]
    }
   ],
   "source": [
    "logreg = LogisticRegression(class_weight='balanced')\n",
    "param1 = {'C':[0.001,0.003,0.005,0.01,0.03,0.05,0.1,0.3,0.5,1,2,3,3,4,5,10,20,100,1000]}\n",
    "clf1 = GridSearchCV(logreg,param1,scoring='roc_auc',refit=True,cv=5)\n",
    "clf1.fit(X_train,y_train)\n",
    "print('Best roc_auc: {:.4}, with best C: {}'.format(clf1.best_score_, clf1.best_params_))"
   ]
  },
  {
   "cell_type": "code",
   "execution_count": 91,
   "metadata": {},
   "outputs": [
    {
     "name": "stdout",
     "output_type": "stream",
     "text": [
      "0.7877158683610297\n",
      "[[3578 1073]\n",
      " [ 230 1257]]\n",
      "              precision    recall  f1-score   support\n",
      "\n",
      "           0       0.94      0.77      0.85      4651\n",
      "           1       0.54      0.85      0.66      1487\n",
      "\n",
      "    accuracy                           0.79      6138\n",
      "   macro avg       0.74      0.81      0.75      6138\n",
      "weighted avg       0.84      0.79      0.80      6138\n",
      "\n"
     ]
    }
   ],
   "source": [
    "y_pred = clf1.predict(X_test)\n",
    "print(accuracy_score(y_test, y_pred))\n",
    "print(confusion_matrix(y_test, y_pred))\n",
    "print(classification_report(y_test, y_pred))"
   ]
  },
  {
   "cell_type": "markdown",
   "metadata": {},
   "source": [
    "### K Nearest Neighbors Classifier"
   ]
  },
  {
   "cell_type": "code",
   "execution_count": 92,
   "metadata": {},
   "outputs": [
    {
     "name": "stdout",
     "output_type": "stream",
     "text": [
      "Accuracy: 0.8209514499837081\n",
      "AUC: 0.8343504379748112\n",
      "Confusion Matrix: [[4175  476]\n",
      " [ 623  864]]\n",
      "              precision    recall  f1-score   support\n",
      "\n",
      "           0       0.87      0.90      0.88      4651\n",
      "           1       0.64      0.58      0.61      1487\n",
      "\n",
      "    accuracy                           0.82      6138\n",
      "   macro avg       0.76      0.74      0.75      6138\n",
      "weighted avg       0.82      0.82      0.82      6138\n",
      "\n"
     ]
    }
   ],
   "source": [
    "knn = KNeighborsClassifier()\n",
    "knn.fit(X_train, y_train)\n",
    "predictions = knn.predict(X_test)\n",
    "print(\"Accuracy: \"+ str(accuracy_score(y_test, predictions)))\n",
    "print(\"AUC: \"+ str(roc_auc_score(y_test, knn.predict_proba(X_test)[:,1])))\n",
    "print(\"Confusion Matrix: \"+ str(confusion_matrix(y_test, predictions)))\n",
    "print(classification_report(y_test, predictions))"
   ]
  },
  {
   "cell_type": "code",
   "execution_count": 93,
   "metadata": {},
   "outputs": [
    {
     "data": {
      "text/plain": [
       "Text(0, 0.5, 'Accuracy')"
      ]
     },
     "execution_count": 93,
     "metadata": {},
     "output_type": "execute_result"
    },
    {
     "data": {
      "image/png": "[encoded data removed]",
      "text/plain": [
       "<Figure size 432x288 with 1 Axes>"
      ]
     },
     "metadata": {
      "needs_background": "light"
     },
     "output_type": "display_data"
    }
   ],
   "source": [
    "k_range = list(range(1, 11))\n",
    "train_score_knn = []\n",
    "test_score_knn = []\n",
    "\n",
    "for k in k_range:\n",
    "    neigh = KNeighborsClassifier(n_neighbors=k)\n",
    "    neigh.fit(X_train, y_train)\n",
    "    train_score_knn.append(neigh.score(X_train, y_train))\n",
    "    test_score_knn.append(neigh.score(X_test, y_test))\n",
    "    \n",
    "plt.plot(k_range, train_score_knn, label = 'Train score')\n",
    "plt.plot(k_range, test_score_knn, label = 'Test score')\n",
    "plt.legend()\n",
    "plt.xlabel('k nearest neighbours: K')\n",
    "plt.ylabel('Accuracy')"
   ]
  },
  {
   "cell_type": "code",
   "execution_count": 94,
   "metadata": {},
   "outputs": [
    {
     "name": "stdout",
     "output_type": "stream",
     "text": [
      "Best roc_auc: 0.8581, with best C: {'n_neighbors': 10}\n"
     ]
    }
   ],
   "source": [
    "k_range = list(range(1, 11))\n",
    "knn = KNeighborsClassifier()\n",
    "param2 = dict(n_neighbors=k_range)\n",
    "clf2 = GridSearchCV(knn, param2,'roc_auc',refit=True,cv=3)\n",
    "clf2.fit(X_train,y_train)\n",
    "print('Best roc_auc: {:.4}, with best C: {}'.format(clf2.best_score_, clf2.best_params_))"
   ]
  },
  {
   "cell_type": "code",
   "execution_count": 95,
   "metadata": {},
   "outputs": [
    {
     "name": "stdout",
     "output_type": "stream",
     "text": [
      "0.8277940697295536\n",
      "[[4293  358]\n",
      " [ 699  788]]\n",
      "              precision    recall  f1-score   support\n",
      "\n",
      "           0       0.86      0.92      0.89      4651\n",
      "           1       0.69      0.53      0.60      1487\n",
      "\n",
      "    accuracy                           0.83      6138\n",
      "   macro avg       0.77      0.73      0.74      6138\n",
      "weighted avg       0.82      0.83      0.82      6138\n",
      "\n"
     ]
    }
   ],
   "source": [
    "y_pred = clf2.predict(X_test)\n",
    "print(accuracy_score(y_test, y_pred))\n",
    "print(confusion_matrix(y_test, y_pred))\n",
    "print(classification_report(y_test, y_pred))"
   ]
  },
  {
   "cell_type": "markdown",
   "metadata": {},
   "source": [
    "### Linear SVM "
   ]
  },
  {
   "cell_type": "code",
   "execution_count": 96,
   "metadata": {},
   "outputs": [
    {
     "name": "stdout",
     "output_type": "stream",
     "text": [
      "Accuracy: 0.8333333333333334\n",
      "Confusion Matrix: [[4317  334]\n",
      " [ 689  798]]\n",
      "              precision    recall  f1-score   support\n",
      "\n",
      "           0       0.86      0.93      0.89      4651\n",
      "           1       0.70      0.54      0.61      1487\n",
      "\n",
      "    accuracy                           0.83      6138\n",
      "   macro avg       0.78      0.73      0.75      6138\n",
      "weighted avg       0.82      0.83      0.83      6138\n",
      "\n"
     ]
    }
   ],
   "source": [
    "lsvc = LinearSVC()\n",
    "lsvc.fit(X_train, y_train)\n",
    "predictions = lsvc.predict(X_test)\n",
    "print(\"Accuracy: \"+ str(accuracy_score(y_test, predictions)))\n",
    "print(\"Confusion Matrix: \"+ str(confusion_matrix(y_test, predictions)))\n",
    "print(classification_report(y_test, predictions))"
   ]
  },
  {
   "cell_type": "code",
   "execution_count": 97,
   "metadata": {},
   "outputs": [
    {
     "name": "stdout",
     "output_type": "stream",
     "text": [
      "Best roc_auc: 0.8797, with best C: {'C': 1.0}\n"
     ]
    }
   ],
   "source": [
    "param4 = {\"C\": [0.01, 0.1, 1.0]}\n",
    "lsvc = LinearSVC()\n",
    "clf4 = GridSearchCV(lsvc, param4,'roc_auc',refit=True,cv=3)\n",
    "clf4.fit(X_train,y_train)\n",
    "print('Best roc_auc: {:.4}, with best C: {}'.format(clf4.best_score_, clf4.best_params_))"
   ]
  },
  {
   "cell_type": "code",
   "execution_count": 98,
   "metadata": {},
   "outputs": [
    {
     "name": "stdout",
     "output_type": "stream",
     "text": [
      "0.8333333333333334\n",
      "[[4317  334]\n",
      " [ 689  798]]\n",
      "              precision    recall  f1-score   support\n",
      "\n",
      "           0       0.86      0.93      0.89      4651\n",
      "           1       0.70      0.54      0.61      1487\n",
      "\n",
      "    accuracy                           0.83      6138\n",
      "   macro avg       0.78      0.73      0.75      6138\n",
      "weighted avg       0.82      0.83      0.83      6138\n",
      "\n"
     ]
    }
   ],
   "source": [
    "y_pred = clf4.predict(X_test)\n",
    "print(accuracy_score(y_test, y_pred))\n",
    "print(confusion_matrix(y_test, y_pred))\n",
    "print(classification_report(y_test, y_pred))"
   ]
  },
  {
   "cell_type": "markdown",
   "metadata": {},
   "source": [
    "### SVM with Linear Kernel"
   ]
  },
  {
   "cell_type": "code",
   "execution_count": 99,
   "metadata": {},
   "outputs": [
    {
     "name": "stdout",
     "output_type": "stream",
     "text": [
      "Accuracy: 0.830237862495927\n",
      "AUC: 0.8767675765760075\n",
      "Confusion Matrix: [[4318  333]\n",
      " [ 709  778]]\n",
      "              precision    recall  f1-score   support\n",
      "\n",
      "           0       0.86      0.93      0.89      4651\n",
      "           1       0.70      0.52      0.60      1487\n",
      "\n",
      "    accuracy                           0.83      6138\n",
      "   macro avg       0.78      0.73      0.75      6138\n",
      "weighted avg       0.82      0.83      0.82      6138\n",
      "\n"
     ]
    }
   ],
   "source": [
    "SVC_linear = SVC(kernel='linear', probability=True)\n",
    "SVC_linear.fit(X_train, y_train)\n",
    "predictions = SVC_linear.predict(X_test)\n",
    "print(\"Accuracy: \"+ str(accuracy_score(y_test, predictions)))\n",
    "print(\"AUC: \"+ str(roc_auc_score(y_test, SVC_linear.predict_proba(X_test)[:,1])))\n",
    "print(\"Confusion Matrix: \"+ str(confusion_matrix(y_test, predictions)))\n",
    "print(classification_report(y_test, predictions))"
   ]
  },
  {
   "cell_type": "code",
   "execution_count": 100,
   "metadata": {},
   "outputs": [
    {
     "name": "stdout",
     "output_type": "stream",
     "text": [
      "Best roc_auc: 0.8745, with best C: {'C': 10, 'gamma': 0.1, 'kernel': 'linear'}\n"
     ]
    }
   ],
   "source": [
    "param3 = {'C':[0.1, 1, 10],'gamma':[0.1, 1, 10], 'kernel':['linear']}\n",
    "svc = SVC()\n",
    "clf3 = GridSearchCV(svc, param3,'roc_auc',refit=True,cv=3)\n",
    "clf3.fit(X_train,y_train)\n",
    "print('Best roc_auc: {:.4}, with best C: {}'.format(clf3.best_score_, clf3.best_params_))"
   ]
  },
  {
   "cell_type": "code",
   "execution_count": 101,
   "metadata": {},
   "outputs": [
    {
     "name": "stdout",
     "output_type": "stream",
     "text": [
      "0.8300749429781688\n",
      "[[4317  334]\n",
      " [ 709  778]]\n",
      "              precision    recall  f1-score   support\n",
      "\n",
      "           0       0.86      0.93      0.89      4651\n",
      "           1       0.70      0.52      0.60      1487\n",
      "\n",
      "    accuracy                           0.83      6138\n",
      "   macro avg       0.78      0.73      0.75      6138\n",
      "weighted avg       0.82      0.83      0.82      6138\n",
      "\n"
     ]
    }
   ],
   "source": [
    "y_pred = clf3.predict(X_test)\n",
    "print(accuracy_score(y_test, y_pred))\n",
    "print(confusion_matrix(y_test, y_pred))\n",
    "print(classification_report(y_test, y_pred))"
   ]
  },
  {
   "cell_type": "markdown",
   "metadata": {},
   "source": [
    "### SVM with RBF Kernel"
   ]
  },
  {
   "cell_type": "code",
   "execution_count": 102,
   "metadata": {},
   "outputs": [
    {
     "name": "stdout",
     "output_type": "stream",
     "text": [
      "Accuracy: 0.8263277940697296\n",
      "AUC: 0.877697733543068\n",
      "Confusion Matrix: [[4364  287]\n",
      " [ 779  708]]\n",
      "              precision    recall  f1-score   support\n",
      "\n",
      "           0       0.85      0.94      0.89      4651\n",
      "           1       0.71      0.48      0.57      1487\n",
      "\n",
      "    accuracy                           0.83      6138\n",
      "   macro avg       0.78      0.71      0.73      6138\n",
      "weighted avg       0.82      0.83      0.81      6138\n",
      "\n"
     ]
    }
   ],
   "source": [
    "SVC_rbf = SVC(kernel='rbf', probability=True)\n",
    "SVC_rbf.fit(X_train, y_train)\n",
    "predictions = SVC_rbf.predict(X_test)\n",
    "print(\"Accuracy: \"+ str(accuracy_score(y_test, predictions)))\n",
    "print(\"AUC: \"+ str(roc_auc_score(y_test, SVC_rbf.predict_proba(X_test)[:,1])))\n",
    "print(\"Confusion Matrix: \"+ str(confusion_matrix(y_test, predictions)))\n",
    "print(classification_report(y_test, predictions))"
   ]
  },
  {
   "cell_type": "code",
   "execution_count": 103,
   "metadata": {},
   "outputs": [
    {
     "name": "stdout",
     "output_type": "stream",
     "text": [
      "Best roc_auc: 0.8736, with best C: {'C': 0.1, 'gamma': 0.1, 'kernel': 'rbf'}\n"
     ]
    }
   ],
   "source": [
    "param_rbf = {'C':[0.1, 1, 10],'gamma':[0.1, 1, 10], 'kernel':['rbf']}\n",
    "svc = SVC()\n",
    "clf_rbf = GridSearchCV(svc, param_rbf,'roc_auc',refit=True,cv=3)\n",
    "clf_rbf.fit(X_train,y_train)\n",
    "print('Best roc_auc: {:.4}, with best C: {}'.format(clf_rbf.best_score_, clf_rbf.best_params_))"
   ]
  },
  {
   "cell_type": "code",
   "execution_count": 104,
   "metadata": {},
   "outputs": [
    {
     "name": "stdout",
     "output_type": "stream",
     "text": [
      "0.8260019550342131\n",
      "[[4366  285]\n",
      " [ 783  704]]\n",
      "              precision    recall  f1-score   support\n",
      "\n",
      "           0       0.85      0.94      0.89      4651\n",
      "           1       0.71      0.47      0.57      1487\n",
      "\n",
      "    accuracy                           0.83      6138\n",
      "   macro avg       0.78      0.71      0.73      6138\n",
      "weighted avg       0.81      0.83      0.81      6138\n",
      "\n"
     ]
    }
   ],
   "source": [
    "y_pred = clf_rbf.predict(X_test)\n",
    "print(accuracy_score(y_test, y_pred))\n",
    "print(confusion_matrix(y_test, y_pred))\n",
    "print(classification_report(y_test, y_pred))"
   ]
  },
  {
   "cell_type": "markdown",
   "metadata": {},
   "source": [
    "### SVM with Poly Kernel"
   ]
  },
  {
   "cell_type": "code",
   "execution_count": 105,
   "metadata": {},
   "outputs": [
    {
     "name": "stdout",
     "output_type": "stream",
     "text": [
      "Accuracy: 0.7577386770935158\n",
      "AUC: 0.8610060935185858\n",
      "Confusion Matrix: [[4651    0]\n",
      " [1487    0]]\n",
      "              precision    recall  f1-score   support\n",
      "\n",
      "           0       0.76      1.00      0.86      4651\n",
      "           1       0.00      0.00      0.00      1487\n",
      "\n",
      "    accuracy                           0.76      6138\n",
      "   macro avg       0.38      0.50      0.43      6138\n",
      "weighted avg       0.57      0.76      0.65      6138\n",
      "\n"
     ]
    }
   ],
   "source": [
    "SVC_poly = SVC(kernel='poly', probability=True)\n",
    "SVC_poly.fit(X_train, y_train)\n",
    "predictions = SVC_poly.predict(X_test)\n",
    "print(\"Accuracy: \"+ str(accuracy_score(y_test, predictions)))\n",
    "print(\"AUC: \"+ str(roc_auc_score(y_test, SVC_poly.predict_proba(X_test)[:,1])))\n",
    "print(\"Confusion Matrix: \"+ str(confusion_matrix(y_test, predictions)))\n",
    "print(classification_report(y_test, predictions))"
   ]
  },
  {
   "cell_type": "code",
   "execution_count": 106,
   "metadata": {},
   "outputs": [
    {
     "name": "stdout",
     "output_type": "stream",
     "text": [
      "Best roc_auc: 0.8613, with best C: {'C': 1, 'gamma': 0.1, 'kernel': 'poly'}\n"
     ]
    }
   ],
   "source": [
    "param_poly = {'C':[1],'gamma':[0.1, 1], 'kernel':['poly']}\n",
    "svc = SVC()\n",
    "clf_poly = GridSearchCV(svc, param_poly,'roc_auc',refit=True,cv=3)\n",
    "clf_poly.fit(X_train,y_train)\n",
    "print('Best roc_auc: {:.4}, with best C: {}'.format(clf_poly.best_score_, clf_poly.best_params_))"
   ]
  },
  {
   "cell_type": "code",
   "execution_count": 107,
   "metadata": {},
   "outputs": [
    {
     "name": "stdout",
     "output_type": "stream",
     "text": [
      "0.8258390355164549\n",
      "[[4433  218]\n",
      " [ 851  636]]\n",
      "              precision    recall  f1-score   support\n",
      "\n",
      "           0       0.84      0.95      0.89      4651\n",
      "           1       0.74      0.43      0.54      1487\n",
      "\n",
      "    accuracy                           0.83      6138\n",
      "   macro avg       0.79      0.69      0.72      6138\n",
      "weighted avg       0.82      0.83      0.81      6138\n",
      "\n"
     ]
    }
   ],
   "source": [
    "y_pred = clf_poly.predict(X_test)\n",
    "print(accuracy_score(y_test, y_pred))\n",
    "print(confusion_matrix(y_test, y_pred))\n",
    "print(classification_report(y_test, y_pred))"
   ]
  },
  {
   "cell_type": "markdown",
   "metadata": {},
   "source": [
    "### Decision Tree Classifier"
   ]
  },
  {
   "cell_type": "code",
   "execution_count": 16,
   "metadata": {},
   "outputs": [
    {
     "name": "stdout",
     "output_type": "stream",
     "text": [
      "Accuracy: 0.7753339850114044\n",
      "AUC: 0.7023826651014158\n",
      "Confusion Matrix: [[3925  726]\n",
      " [ 653  834]]\n",
      "              precision    recall  f1-score   support\n",
      "\n",
      "           0       0.86      0.84      0.85      4651\n",
      "           1       0.53      0.56      0.55      1487\n",
      "\n",
      "    accuracy                           0.78      6138\n",
      "   macro avg       0.70      0.70      0.70      6138\n",
      "weighted avg       0.78      0.78      0.78      6138\n",
      "\n"
     ]
    }
   ],
   "source": [
    "cart = DecisionTreeClassifier()\n",
    "cart.fit(X_train, y_train)\n",
    "predictions = cart.predict(X_test)\n",
    "print(\"Accuracy: \"+ str(accuracy_score(y_test, predictions)))\n",
    "print(\"AUC: \"+ str(roc_auc_score(y_test, cart.predict_proba(X_test)[:,1])))\n",
    "print(\"Confusion Matrix: \"+ str(confusion_matrix(y_test, predictions)))\n",
    "print(classification_report(y_test, predictions))"
   ]
  },
  {
   "cell_type": "code",
   "execution_count": 109,
   "metadata": {},
   "outputs": [
    {
     "name": "stdout",
     "output_type": "stream",
     "text": [
      "Best roc_auc: 0.8518, with best C: {'max_depth': 5}\n"
     ]
    }
   ],
   "source": [
    "param5 = {'max_depth': [1,3, 5, 7, 10]}\n",
    "clf5 = GridSearchCV(DecisionTreeClassifier(), param5,'roc_auc',refit=True,cv=3)\n",
    "clf5.fit(X_train,y_train)\n",
    "print('Best roc_auc: {:.4}, with best C: {}'.format(clf5.best_score_, clf5.best_params_))"
   ]
  },
  {
   "cell_type": "code",
   "execution_count": 18,
   "metadata": {},
   "outputs": [
    {
     "data": {
      "text/plain": [
       "'Decision tree PCA.pdf'"
      ]
     },
     "execution_count": 18,
     "metadata": {},
     "output_type": "execute_result"
    }
   ],
   "source": [
    "import graphviz \n",
    "from sklearn import tree\n",
    "cart1=DecisionTreeClassifier(max_depth=7)\n",
    "cart1.fit(X=X_train, y=y_train)\n",
    "dot_data = tree.export_graphviz(cart1, out_file=None) \n",
    "graph = graphviz.Source(dot_data) \n",
    "graph.render(\"Decision tree PCA\") "
   ]
  },
  {
   "cell_type": "code",
   "execution_count": 111,
   "metadata": {},
   "outputs": [
    {
     "name": "stdout",
     "output_type": "stream",
     "text": [
      "0.8199739328771587\n",
      "[[4259  392]\n",
      " [ 713  774]]\n",
      "              precision    recall  f1-score   support\n",
      "\n",
      "           0       0.86      0.92      0.89      4651\n",
      "           1       0.66      0.52      0.58      1487\n",
      "\n",
      "    accuracy                           0.82      6138\n",
      "   macro avg       0.76      0.72      0.73      6138\n",
      "weighted avg       0.81      0.82      0.81      6138\n",
      "\n"
     ]
    }
   ],
   "source": [
    "# Testing dataset\n",
    "y_pred = clf5.predict(X_test)\n",
    "print(accuracy_score(y_test, y_pred))\n",
    "print(confusion_matrix(y_test, y_pred))\n",
    "print(classification_report(y_test, y_pred))"
   ]
  },
  {
   "cell_type": "markdown",
   "metadata": {},
   "source": [
    "# Deep Learning Model"
   ]
  },
  {
   "cell_type": "code",
   "execution_count": 112,
   "metadata": {},
   "outputs": [],
   "source": [
    "X_train = np.asarray(X_train_without_PCA) \n",
    "X_test = np.asarray(X_test_without_PCA) \n",
    "y_train = np.asarray(y_train) \n",
    "y_test = np.asarray(y_test) "
   ]
  },
  {
   "cell_type": "code",
   "execution_count": 113,
   "metadata": {},
   "outputs": [
    {
     "name": "stdout",
     "output_type": "stream",
     "text": [
      "Epoch 1/20\n",
      "24550/24550 [==============================] - 1s 45us/step - loss: 0.3872 - auroc: 0.8762\n",
      "Epoch 2/20\n",
      "24550/24550 [==============================] - 1s 40us/step - loss: 0.3432 - auroc: 0.8979: 0s - loss: 0.3473 - \n",
      "Epoch 3/20\n",
      "24550/24550 [==============================] - 1s 39us/step - loss: 0.3323 - auroc: 0.9049\n",
      "Epoch 4/20\n",
      "24550/24550 [==============================] - 1s 39us/step - loss: 0.3244 - auroc: 0.9080\n",
      "Epoch 5/20\n",
      "24550/24550 [==============================] - 1s 40us/step - loss: 0.3222 - auroc: 0.9113\n",
      "Epoch 6/20\n",
      "24550/24550 [==============================] - 1s 39us/step - loss: 0.3167 - auroc: 0.9116\n",
      "Epoch 7/20\n",
      "24550/24550 [==============================] - 1s 39us/step - loss: 0.3136 - auroc: 0.9147\n",
      "Epoch 8/20\n",
      "24550/24550 [==============================] - 1s 40us/step - loss: 0.3101 - auroc: 0.9164: 0s - loss: 0.3095 - auro\n",
      "Epoch 9/20\n",
      "24550/24550 [==============================] - 1s 39us/step - loss: 0.3084 - auroc: 0.9182\n",
      "Epoch 10/20\n",
      "24550/24550 [==============================] - 1s 39us/step - loss: 0.3050 - auroc: 0.9189\n",
      "Epoch 11/20\n",
      "24550/24550 [==============================] - 1s 39us/step - loss: 0.3022 - auroc: 0.9216\n",
      "Epoch 12/20\n",
      "24550/24550 [==============================] - 1s 39us/step - loss: 0.3010 - auroc: 0.9220\n",
      "Epoch 13/20\n",
      "24550/24550 [==============================] - 1s 39us/step - loss: 0.2990 - auroc: 0.9240: 0s - loss: 0.28\n",
      "Epoch 14/20\n",
      "24550/24550 [==============================] - 1s 40us/step - loss: 0.2959 - auroc: 0.9242\n",
      "Epoch 15/20\n",
      "24550/24550 [==============================] - 1s 40us/step - loss: 0.2948 - auroc: 0.9251: 0s - loss: 0.2935 - \n",
      "Epoch 16/20\n",
      "24550/24550 [==============================] - 1s 39us/step - loss: 0.2930 - auroc: 0.9264\n",
      "Epoch 17/20\n",
      "24550/24550 [==============================] - 1s 40us/step - loss: 0.2907 - auroc: 0.9280\n",
      "Epoch 18/20\n",
      "24550/24550 [==============================] - 1s 40us/step - loss: 0.2897 - auroc: 0.9288\n",
      "Epoch 19/20\n",
      "24550/24550 [==============================] - 1s 40us/step - loss: 0.2871 - auroc: 0.9296\n",
      "Epoch 20/20\n",
      "24550/24550 [==============================] - 1s 40us/step - loss: 0.2847 - auroc: 0.9305\n",
      "Accuracy Score 5205\n",
      "Confusion Matrix [[4310  341]\n",
      " [ 592  895]]\n",
      "Classification Report               precision    recall  f1-score   support\n",
      "\n",
      "           0       0.88      0.93      0.90      4651\n",
      "           1       0.72      0.60      0.66      1487\n",
      "\n",
      "    accuracy                           0.85      6138\n",
      "   macro avg       0.80      0.76      0.78      6138\n",
      "weighted avg       0.84      0.85      0.84      6138\n",
      "\n",
      "ROC AUC 0.8992355737830784\n"
     ]
    }
   ],
   "source": [
    "from keras.models import Sequential\n",
    "from keras.layers import Dense\n",
    "from sklearn.metrics import roc_auc_score\n",
    "import tensorflow as tf\n",
    "\n",
    "def auroc(y_true, y_pred):\n",
    "    return tf.py_function(roc_auc_score, (y_true, y_pred), tf.double)\n",
    "\n",
    "classifier = Sequential()\n",
    "\n",
    "classifier.add(Dense(100, kernel_initializer='normal', activation= 'relu', input_dim=96))\n",
    "classifier.add(Dense(50, kernel_initializer='normal', activation= 'tanh'))\n",
    "classifier.add(Dense(25, kernel_initializer='normal', activation= 'softplus'))\n",
    "classifier.add(Dense(1, kernel_initializer= 'normal', activation= 'sigmoid'))\n",
    "classifier.compile(optimizer= 'adam',loss='binary_crossentropy', metrics=[auroc])\n",
    "classifier.fit(X_train, y_train, epochs= 20, batch_size=50)\n",
    "\n",
    "y_pred = classifier.predict(X_test)\n",
    "print('Accuracy Score',accuracy_score(y_test, y_pred.round(), normalize = False))\n",
    "print('Confusion Matrix',confusion_matrix(y_test, y_pred.round()))\n",
    "print('Classification Report',classification_report(y_test, y_pred.round()))\n",
    "print('ROC AUC', roc_auc_score(y_test, classifier.predict_proba(X_test)))\n",
    "\n",
    "\n"
   ]
  },
  {
   "cell_type": "code",
   "execution_count": null,
   "metadata": {},
   "outputs": [],
   "source": []
  }
 ],
 "metadata": {
  "kernelspec": {
   "display_name": "Python 3",
   "language": "python",
   "name": "python3"
  },
  "language_info": {
   "codemirror_mode": {
    "name": "ipython",
    "version": 3
   },
   "file_extension": ".py",
   "mimetype": "text/x-python",
   "name": "python",
   "nbconvert_exporter": "python",
   "pygments_lexer": "ipython3",
   "version": "3.7.6"
  }
 },
 "nbformat": 4,
 "nbformat_minor": 2
}
