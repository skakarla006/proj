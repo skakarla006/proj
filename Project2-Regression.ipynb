{
 "cells": [
  {
   "cell_type": "markdown",
   "metadata": {},
   "source": [
    "# $$ REGRESSION $$"
   ]
  },
  {
   "cell_type": "markdown",
   "metadata": {},
   "source": [
    "### Importing Libraries"
   ]
  },
  {
   "cell_type": "code",
   "execution_count": 1,
   "metadata": {},
   "outputs": [],
   "source": [
    "import numpy as np\n",
    "import pandas as pd\n",
    "import matplotlib.pyplot as plt\n",
    "import matplotlib.image as mpimg\n",
    "from datetime import datetime\n",
    "import warnings\n",
    "warnings.filterwarnings('ignore')\n",
    "%matplotlib inline\n",
    "import seaborn as sns\n",
    "import glob\n",
    "from sklearn.neighbors import KNeighborsRegressor\n",
    "from sklearn.preprocessing import MinMaxScaler\n",
    "from sklearn.model_selection import train_test_split"
   ]
  },
  {
   "cell_type": "markdown",
   "metadata": {},
   "source": [
    "## Loading Dataset"
   ]
  },
  {
   "cell_type": "code",
   "execution_count": 2,
   "metadata": {},
   "outputs": [
    {
     "name": "stdout",
     "output_type": "stream",
     "text": [
      "<class 'pandas.core.frame.DataFrame'>\n",
      "RangeIndex: 136621 entries, 0 to 136620\n",
      "Data columns (total 32 columns):\n",
      " #   Column                                       Non-Null Count   Dtype  \n",
      "---  ------                                       --------------   -----  \n",
      " 0   Accident_Index                               136621 non-null  object \n",
      " 1   Location_Easting_OSGR                        136614 non-null  float64\n",
      " 2   Location_Northing_OSGR                       136614 non-null  float64\n",
      " 3   Longitude                                    136614 non-null  float64\n",
      " 4   Latitude                                     136614 non-null  float64\n",
      " 5   Police_Force                                 136621 non-null  int64  \n",
      " 6   Accident_Severity                            136621 non-null  int64  \n",
      " 7   Number_of_Vehicles                           128414 non-null  float64\n",
      " 8   Number_of_Casualties                         136621 non-null  int64  \n",
      " 9   Date                                         136621 non-null  object \n",
      " 10  Day_of_Week                                  136621 non-null  int64  \n",
      " 11  Time                                         136619 non-null  object \n",
      " 12  Local_Authority_(District)                   136621 non-null  int64  \n",
      " 13  Local_Authority_(Highway)                    136621 non-null  object \n",
      " 14  1st_Road_Class                               136621 non-null  int64  \n",
      " 15  1st_Road_Number                              136621 non-null  int64  \n",
      " 16  Road_Type                                    136621 non-null  int64  \n",
      " 17  Speed_limit                                  136584 non-null  float64\n",
      " 18  Junction_Detail                              136621 non-null  int64  \n",
      " 19  Junction_Control                             136621 non-null  int64  \n",
      " 20  2nd_Road_Class                               136621 non-null  int64  \n",
      " 21  2nd_Road_Number                              136621 non-null  int64  \n",
      " 22  Pedestrian_Crossing-Human_Control            136621 non-null  int64  \n",
      " 23  Pedestrian_Crossing-Physical_Facilities      136621 non-null  int64  \n",
      " 24  Light_Conditions                             136621 non-null  int64  \n",
      " 25  Weather_Conditions                           136621 non-null  int64  \n",
      " 26  Road_Surface_Conditions                      136621 non-null  int64  \n",
      " 27  Special_Conditions_at_Site                   136621 non-null  int64  \n",
      " 28  Carriageway_Hazards                          136621 non-null  int64  \n",
      " 29  Urban_or_Rural_Area                          136621 non-null  int64  \n",
      " 30  Did_Police_Officer_Attend_Scene_of_Accident  136621 non-null  int64  \n",
      " 31  LSOA_of_Accident_Location                    128270 non-null  object \n",
      "dtypes: float64(6), int64(21), object(5)\n",
      "memory usage: 33.4+ MB\n"
     ]
    }
   ],
   "source": [
    "frame = pd.read_csv(\"dftRoadSafety_Accidents_2016.csv\")\n",
    "frame.info()"
   ]
  },
  {
   "cell_type": "code",
   "execution_count": 3,
   "metadata": {},
   "outputs": [
    {
     "data": {
      "text/plain": [
       "(136621, 32)"
      ]
     },
     "execution_count": 3,
     "metadata": {},
     "output_type": "execute_result"
    }
   ],
   "source": [
    "frame.shape"
   ]
  },
  {
   "cell_type": "markdown",
   "metadata": {},
   "source": [
    "### Duplicates doesn't exist in the dataset"
   ]
  },
  {
   "cell_type": "code",
   "execution_count": 4,
   "metadata": {},
   "outputs": [
    {
     "data": {
      "text/plain": [
       "(136621, 32)"
      ]
     },
     "execution_count": 4,
     "metadata": {},
     "output_type": "execute_result"
    }
   ],
   "source": [
    "frame.duplicated().sum()\n",
    "frame.drop_duplicates(inplace=True)\n",
    "frame.shape"
   ]
  },
  {
   "cell_type": "markdown",
   "metadata": {},
   "source": [
    "### Display nulls per column"
   ]
  },
  {
   "cell_type": "code",
   "execution_count": 5,
   "metadata": {},
   "outputs": [
    {
     "data": {
      "text/plain": [
       "Accident_Index                                    0\n",
       "Location_Easting_OSGR                             7\n",
       "Location_Northing_OSGR                            7\n",
       "Longitude                                         7\n",
       "Latitude                                          7\n",
       "Police_Force                                      0\n",
       "Accident_Severity                                 0\n",
       "Number_of_Vehicles                             8207\n",
       "Number_of_Casualties                              0\n",
       "Date                                              0\n",
       "Day_of_Week                                       0\n",
       "Time                                              2\n",
       "Local_Authority_(District)                        0\n",
       "Local_Authority_(Highway)                         0\n",
       "1st_Road_Class                                    0\n",
       "1st_Road_Number                                   0\n",
       "Road_Type                                         0\n",
       "Speed_limit                                      37\n",
       "Junction_Detail                                   0\n",
       "Junction_Control                                  0\n",
       "2nd_Road_Class                                    0\n",
       "2nd_Road_Number                                   0\n",
       "Pedestrian_Crossing-Human_Control                 0\n",
       "Pedestrian_Crossing-Physical_Facilities           0\n",
       "Light_Conditions                                  0\n",
       "Weather_Conditions                                0\n",
       "Road_Surface_Conditions                           0\n",
       "Special_Conditions_at_Site                        0\n",
       "Carriageway_Hazards                               0\n",
       "Urban_or_Rural_Area                               0\n",
       "Did_Police_Officer_Attend_Scene_of_Accident       0\n",
       "LSOA_of_Accident_Location                      8351\n",
       "dtype: int64"
      ]
     },
     "execution_count": 5,
     "metadata": {},
     "output_type": "execute_result"
    }
   ],
   "source": [
    "frame.isnull().sum()"
   ]
  },
  {
   "cell_type": "markdown",
   "metadata": {},
   "source": [
    "# Drop unnecessary columns"
   ]
  },
  {
   "cell_type": "markdown",
   "metadata": {},
   "source": [
    "## Value and description per column\n",
    "\n",
    "### Accident index \n",
    " - unique Index per accident\n",
    "\n",
    "### Location_Easting_OSGR, Location_Northing_OSGR \n",
    " - x, y cartesian points on map \n",
    "\n",
    "### Police Force \n",
    " - 51 different types of forces\n",
    "\n",
    "### Accident_Severity \n",
    " - 1: Fatal\n",
    " - 2: Serious\n",
    " - 3: Slight\n",
    "\n",
    "### Day_of_Week\n",
    " - 1: Sunday\n",
    " - 2: Monday\n",
    " - 3: Tuesday\n",
    " - 4: Wednesday\n",
    " - 5: Thursday\n",
    " - 6: Friday\n",
    " - 7: Saturday\n",
    "\n",
    "### Local authority District \n",
    " - 416 Districts in UK\n",
    "\n",
    "### Local authority Highway\n",
    " - 207 types of highways\n",
    "\n",
    "### Road class \n",
    " - 0: Not at junction or within 20 metres\n",
    " - 1: Motorway\n",
    " - 2: A(M)\n",
    " - 3: A\n",
    " - 4: B\n",
    " - 5: C\n",
    " - 6: Unclassified\n",
    "\n",
    "### Road type \n",
    " - 1: Roundabout\n",
    " - 2: One way street\n",
    " - 3: Dual carriageway\n",
    " - 6: Single carriageway\n",
    " - 7: Slip road\n",
    " - 9: Unknown\n",
    " - 12: One way street/Slip road\n",
    " - -1: Data missing or out of range\n",
    "\n",
    "### Junction Detail\n",
    " - 0: Not at junction or within 20 metres\n",
    " - 1: Roundabout\n",
    " - 2: Mini-roundabout\n",
    " - 3: T or staggered junction\n",
    " - 5: Slip road\n",
    " - 6: Crossroads\n",
    " - 7: More than 4 arms (not roundabout)\n",
    " - 8: Private drive or entrance\n",
    " - 9: Other junction\n",
    " - -1: Data missing or out of range\n",
    "\n",
    "### Junction Control \n",
    " - 0: Not at junction or within 20 metres\n",
    " - 1: Authorised person\n",
    " - 2: Auto traffic signal\n",
    " - 3: Stop sign\n",
    " - 4: Give way or uncontrolled\n",
    " - -1: Data missing or out of range\n",
    "\n",
    "### Pedestrian_Crossing-Human_Control\n",
    " - 0: None within 50 metres \n",
    " - 1: Control by school crossing patrol\n",
    " - 2: Control by other authorised person\n",
    " - -1: Data missing or out of range\n",
    "\n",
    "### Pedestrian_Crossing-Physical_Facilities\n",
    " - 0: No physical crossing facilities within 50 metres\n",
    " - 1: Zebra\n",
    " - 4: Pelican, puffin, toucan or similar non-junction pedestrian light crossing\n",
    " - 5: Pedestrian phase at traffic signal junction\n",
    " - 7: Footbridge or subway\n",
    " - 8: Central refuge\n",
    " - -1: Data missing or out of range\n",
    "\n",
    "### Light_Conditions\n",
    " - 1: Daylight\n",
    " - 4: Darkness - lights lit\n",
    " - 5: Darkness - lights unlit\n",
    " - 6: Darkness - no lighting\n",
    " - 7: Darkness - lighting unknown\n",
    " - -1: Data missing or out of range\n",
    "\n",
    "### Weather_Conditions\n",
    " - 1: Fine no high winds\n",
    " - 2: Raining no high winds\n",
    " - 3: Snowing no high winds\n",
    " - 4: Fine + high winds\n",
    " - 5: Raining + high winds\n",
    " - 6: Snowing + high winds\n",
    " - 7: Fog or mist\n",
    " - 8: Other\n",
    " - 9: Unknown\n",
    " - -1: Data missing or out of range\n",
    "\n",
    "### Road_Surface_Conditions\n",
    " - 1: Dry\n",
    " - 2: Wet / damp\n",
    " - 3: Snow\n",
    " - 4: Frost / ice\n",
    " - 5: Flood\n",
    " - 6: Oil\n",
    " - 7: Mud\n",
    " - -1: No data\n",
    "\n",
    "### Special_Conditions_at_Site\n",
    " - 0: None\n",
    " - 1: Auto traffic signal - out\n",
    " - 2: Auto signal part defective\n",
    " - 3: Road sign or marking defective or obscured\n",
    " - 4: Roadworks\n",
    " - 5: Road surface defective\n",
    " - 6: Oil or diesel\n",
    " - 7: Mud\n",
    " - -1: Data missing or out of range\n",
    "\n",
    "### Carriageway_Hazards\n",
    " - 0: None\n",
    " - 1: Vehicle load on road\n",
    " - 2: Other object on road\n",
    " - 3: Previous accident\n",
    " - 4: Dog on road\n",
    " - 5: Other animal on road\n",
    " - 6: Pedestrian in carriageway - not injured\n",
    " - 7: Any animal in carriageway (except ridden horse)\n",
    " - -1: Data missing or out of range\n",
    "\n",
    "### Urban_or_Rural_Area\n",
    " - 1: Urban\n",
    " - 2: Rural\n",
    " - 3: Unallocated\n",
    "\n",
    "### Did_Police_Officer_Attend_Scene_of_Accident\n",
    " - 1: Yes\n",
    " - 2: No\n",
    " - 3: No - accident was reported using a self completion  form (self rep only)"
   ]
  },
  {
   "cell_type": "code",
   "execution_count": 6,
   "metadata": {},
   "outputs": [
    {
     "name": "stdout",
     "output_type": "stream",
     "text": [
      "\n",
      "\n",
      "_________________Local_Authority_(Highway)_____________\n",
      "Number of distinct elements in Local_Authority_(Highway): 207\n",
      "Maximum number of rows per Local_Authority_(Highway) group: 0.03241082996025501\n",
      "\n",
      "\n",
      "_________________Accident_Index____________\n",
      "Number of distinct elements in Accident_Index: 136621\n",
      "Maximum number of rows per Accident_Index group: 7.319518961213869e-06\n",
      "\n",
      "\n",
      "_________________Local_Authority_(District)____________\n",
      "Number of distinct elements in Local_Authority_(District): 380\n",
      "Maximum number of rows per Local_Authority_(District) group: 0.020399499344903052\n",
      "\n",
      "\n",
      "_________________LSOA_of_Accident_Location____________\n",
      "Number of distinct elements in LSOA_of_Accident_Location: 28645\n",
      "Maximum number of rows per LSOA_of_Accident_Location group: 0.001624933209389479\n"
     ]
    }
   ],
   "source": [
    "print(\"\\n\\n_________________Local_Authority_(Highway)_____________\")\n",
    "df=frame.groupby(['Local_Authority_(Highway)']).size().reset_index(name='counts')\n",
    "print(\"Number of distinct elements in Local_Authority_(Highway): \"+str(len(df)))\n",
    "print(\"Maximum number of rows per Local_Authority_(Highway) group: \" + str(df['counts'].max()/len(frame)))\n",
    "\n",
    "print(\"\\n\\n_________________Accident_Index____________\")\n",
    "df=frame.groupby(['Accident_Index']).size().reset_index(name='counts')\n",
    "print(\"Number of distinct elements in Accident_Index: \"+str(len(df)))\n",
    "print(\"Maximum number of rows per Accident_Index group: \" + str(df['counts'].max()/len(frame)))\n",
    "\n",
    "print(\"\\n\\n_________________Local_Authority_(District)____________\")\n",
    "df=frame.groupby(['Local_Authority_(District)']).size().reset_index(name='counts')\n",
    "print(\"Number of distinct elements in Local_Authority_(District): \"+str(len(df)))\n",
    "print(\"Maximum number of rows per Local_Authority_(District) group: \" + str(df['counts'].max()/len(frame)))\n",
    "\n",
    "print(\"\\n\\n_________________LSOA_of_Accident_Location____________\")\n",
    "df=frame.groupby(['LSOA_of_Accident_Location']).size().reset_index(name='counts')\n",
    "print(\"Number of distinct elements in LSOA_of_Accident_Location: \"+str(len(df)))\n",
    "print(\"Maximum number of rows per LSOA_of_Accident_Location group: \" + str(df['counts'].max()/len(frame)))"
   ]
  },
  {
   "cell_type": "code",
   "execution_count": 7,
   "metadata": {},
   "outputs": [
    {
     "name": "stdout",
     "output_type": "stream",
     "text": [
      "<class 'pandas.core.frame.DataFrame'>\n",
      "Int64Index: 136621 entries, 0 to 136620\n",
      "Data columns (total 24 columns):\n",
      " #   Column                                       Non-Null Count   Dtype  \n",
      "---  ------                                       --------------   -----  \n",
      " 0   Longitude                                    136614 non-null  float64\n",
      " 1   Latitude                                     136614 non-null  float64\n",
      " 2   Police_Force                                 136621 non-null  int64  \n",
      " 3   Accident_Severity                            136621 non-null  int64  \n",
      " 4   Number_of_Vehicles                           128414 non-null  float64\n",
      " 5   Number_of_Casualties                         136621 non-null  int64  \n",
      " 6   Date                                         136621 non-null  object \n",
      " 7   Day_of_Week                                  136621 non-null  int64  \n",
      " 8   Time                                         136619 non-null  object \n",
      " 9   1st_Road_Class                               136621 non-null  int64  \n",
      " 10  Road_Type                                    136621 non-null  int64  \n",
      " 11  Speed_limit                                  136584 non-null  float64\n",
      " 12  Junction_Detail                              136621 non-null  int64  \n",
      " 13  Junction_Control                             136621 non-null  int64  \n",
      " 14  2nd_Road_Class                               136621 non-null  int64  \n",
      " 15  Pedestrian_Crossing-Human_Control            136621 non-null  int64  \n",
      " 16  Pedestrian_Crossing-Physical_Facilities      136621 non-null  int64  \n",
      " 17  Light_Conditions                             136621 non-null  int64  \n",
      " 18  Weather_Conditions                           136621 non-null  int64  \n",
      " 19  Road_Surface_Conditions                      136621 non-null  int64  \n",
      " 20  Special_Conditions_at_Site                   136621 non-null  int64  \n",
      " 21  Carriageway_Hazards                          136621 non-null  int64  \n",
      " 22  Urban_or_Rural_Area                          136621 non-null  int64  \n",
      " 23  Did_Police_Officer_Attend_Scene_of_Accident  136621 non-null  int64  \n",
      "dtypes: float64(4), int64(18), object(2)\n",
      "memory usage: 26.1+ MB\n"
     ]
    }
   ],
   "source": [
    "frame=frame.drop(['Accident_Index','Local_Authority_(Highway)','Location_Easting_OSGR', \\\n",
    "            'Location_Northing_OSGR','Local_Authority_(District)','1st_Road_Number','2nd_Road_Number', \\\n",
    "           'LSOA_of_Accident_Location'], axis=1)\n",
    "frame.info()"
   ]
  },
  {
   "cell_type": "markdown",
   "metadata": {},
   "source": [
    "### Extract month from date and hour from time"
   ]
  },
  {
   "cell_type": "code",
   "execution_count": 8,
   "metadata": {},
   "outputs": [
    {
     "name": "stdout",
     "output_type": "stream",
     "text": [
      "136614\n"
     ]
    },
    {
     "data": {
      "text/plain": [
       "Longitude                                         0\n",
       "Latitude                                          0\n",
       "Police_Force                                      0\n",
       "Accident_Severity                                 0\n",
       "Number_of_Vehicles                             8206\n",
       "Number_of_Casualties                              0\n",
       "Date                                              0\n",
       "Day_of_Week                                       0\n",
       "Time                                              2\n",
       "1st_Road_Class                                    0\n",
       "Road_Type                                         0\n",
       "Speed_limit                                      37\n",
       "Junction_Detail                                   0\n",
       "Junction_Control                                  0\n",
       "2nd_Road_Class                                    0\n",
       "Pedestrian_Crossing-Human_Control                 0\n",
       "Pedestrian_Crossing-Physical_Facilities           0\n",
       "Light_Conditions                                  0\n",
       "Weather_Conditions                                0\n",
       "Road_Surface_Conditions                           0\n",
       "Special_Conditions_at_Site                        0\n",
       "Carriageway_Hazards                               0\n",
       "Urban_or_Rural_Area                               0\n",
       "Did_Police_Officer_Attend_Scene_of_Accident       0\n",
       "Month_of_Year                                     0\n",
       "Hour_of_Day                                       0\n",
       "dtype: int64"
      ]
     },
     "execution_count": 8,
     "metadata": {},
     "output_type": "execute_result"
    }
   ],
   "source": [
    "def month_from_date(date):\n",
    "    dmyyyy = datetime.strptime(date, '%d/%m/%Y')\n",
    "    return int(datetime.strftime(dmyyyy, '%m'))\n",
    "\n",
    "def hour_from_time(time):\n",
    "    try:\n",
    "        hhmm = datetime.strptime(time, '%H:%M')\n",
    "        return int(datetime.strftime(hhmm, '%H'))\n",
    "    except Exception:\n",
    "        return -1\n",
    "\n",
    "frame['Month_of_Year'] = frame['Date'].apply(month_from_date)\n",
    "frame['Hour_of_Day'] = frame['Time'].apply(hour_from_time)\n",
    "\n",
    "frame=frame[~frame['Longitude'].isnull()]\n",
    "frame=frame[~frame['Hour_of_Day'].isnull()]\n",
    "print(len(frame))\n",
    "\n",
    "frame.isnull().sum()"
   ]
  },
  {
   "cell_type": "markdown",
   "metadata": {},
   "source": [
    "## Data Exploration\n",
    "### Plot by lattitude and longitude"
   ]
  },
  {
   "cell_type": "code",
   "execution_count": 9,
   "metadata": {},
   "outputs": [
    {
     "data": {
      "text/plain": [
       "[<matplotlib.lines.Line2D at 0x7ff5f6a6b590>]"
      ]
     },
     "execution_count": 9,
     "metadata": {},
     "output_type": "execute_result"
    },
    {
     "data": {
      "image/png": "[encoded data removed]",
      "text/plain": [
       "<Figure size 432x288 with 1 Axes>"
      ]
     },
     "metadata": {
      "needs_background": "light"
     },
     "output_type": "display_data"
    }
   ],
   "source": [
    "plt.plot(frame.Longitude, frame.Latitude)"
   ]
  },
  {
   "cell_type": "code",
   "execution_count": 10,
   "metadata": {},
   "outputs": [
    {
     "data": {
      "text/plain": [
       "<matplotlib.axes._subplots.AxesSubplot at 0x7ff5f847d350>"
      ]
     },
     "execution_count": 10,
     "metadata": {},
     "output_type": "execute_result"
    },
    {
     "data": {
      "image/png": "[encoded data removed]",
      "text/plain": [
       "<Figure size 2160x2160 with 14 Axes>"
      ]
     },
     "metadata": {
      "needs_background": "light"
     },
     "output_type": "display_data"
    }
   ],
   "source": [
    "f, axes = plt.subplots(7, 2)\n",
    "fig = plt.gcf()\n",
    "fig.set_size_inches(30,30)\n",
    "\n",
    "sns.countplot(x='Day_of_Week', data=frame, ax=axes[0,0])\n",
    "sns.countplot(x='Hour_of_Day', data=frame, ax=axes[1,0])\n",
    "sns.countplot(x='Month_of_Year', data=frame, ax=axes[2,0])\n",
    "sns.countplot(x='1st_Road_Class', data=frame, ax=axes[3,0])\n",
    "sns.countplot(x='Road_Type', data=frame, ax=axes[4,0])\n",
    "sns.countplot(x='Junction_Detail', data=frame, ax=axes[5,0])\n",
    "sns.countplot(x='Junction_Control', data=frame, ax=axes[6,0])\n",
    "\n",
    "sns.countplot(x='Pedestrian_Crossing-Human_Control', data=frame, ax=axes[0,1])\n",
    "sns.countplot(x='Pedestrian_Crossing-Physical_Facilities', data=frame, ax=axes[1,1])\n",
    "sns.countplot(x='Light_Conditions', data=frame, ax=axes[2,1])\n",
    "sns.countplot(x='Weather_Conditions', data=frame, ax=axes[3,1])\n",
    "sns.countplot(x='Road_Surface_Conditions', data=frame, ax=axes[4,1])\n",
    "sns.countplot(x='Special_Conditions_at_Site', data=frame, ax=axes[5,1])\n",
    "sns.countplot(x='Carriageway_Hazards', data=frame, ax=axes[6,1])"
   ]
  },
  {
   "cell_type": "code",
   "execution_count": 11,
   "metadata": {},
   "outputs": [
    {
     "data": {
      "text/plain": [
       "Index(['Longitude', 'Latitude', 'Police_Force', 'Accident_Severity',\n",
       "       'Number_of_Vehicles', 'Number_of_Casualties', 'Date', 'Day_of_Week',\n",
       "       'Time', '1st_Road_Class', 'Road_Type', 'Speed_limit', 'Junction_Detail',\n",
       "       'Junction_Control', '2nd_Road_Class',\n",
       "       'Pedestrian_Crossing-Human_Control',\n",
       "       'Pedestrian_Crossing-Physical_Facilities', 'Light_Conditions',\n",
       "       'Weather_Conditions', 'Road_Surface_Conditions',\n",
       "       'Special_Conditions_at_Site', 'Carriageway_Hazards',\n",
       "       'Urban_or_Rural_Area', 'Did_Police_Officer_Attend_Scene_of_Accident',\n",
       "       'Month_of_Year', 'Hour_of_Day'],\n",
       "      dtype='object')"
      ]
     },
     "execution_count": 11,
     "metadata": {},
     "output_type": "execute_result"
    },
    {
     "data": {
      "image/png": "[encoded data removed]",
      "text/plain": [
       "<Figure size 1440x1080 with 2 Axes>"
      ]
     },
     "metadata": {
      "needs_background": "light"
     },
     "output_type": "display_data"
    }
   ],
   "source": [
    "corr = frame[[\"Longitude\",\"Latitude\",\"Police_Force\",\"Number_of_Vehicles\",\"Number_of_Casualties\"]].corr(method='kendall')\n",
    "plt.figure(figsize=(20,15))\n",
    "sns.heatmap(corr, annot=True)\n",
    "frame.columns"
   ]
  },
  {
   "cell_type": "markdown",
   "metadata": {},
   "source": [
    "## Logic behind handling missing values\n",
    "Usually the number of vehicles and speed limit depends on the interesection of the roads. Using this logic we are imputing the missing columns \n",
    "\n",
    " - Step 1: We created a data frame with occupation, mean(fnlwgt)\n",
    " - Step 2: We imputed the missing fnlwgt column. by joining the data frame (with missing values) with the data frame generated in Step 1.\n",
    " - Step 3: Built the final data frame with union (missed df, non-missed df)"
   ]
  },
  {
   "cell_type": "code",
   "execution_count": 12,
   "metadata": {},
   "outputs": [
    {
     "name": "stdout",
     "output_type": "stream",
     "text": [
      "Longitude                                      0\n",
      "Latitude                                       0\n",
      "Police_Force                                   0\n",
      "Accident_Severity                              0\n",
      "Number_of_Vehicles                             0\n",
      "Number_of_Casualties                           0\n",
      "Day_of_Week                                    0\n",
      "1st_Road_Class                                 0\n",
      "Road_Type                                      0\n",
      "Speed_limit                                    0\n",
      "Junction_Detail                                0\n",
      "Junction_Control                               0\n",
      "2nd_Road_Class                                 0\n",
      "Pedestrian_Crossing-Human_Control              0\n",
      "Pedestrian_Crossing-Physical_Facilities        0\n",
      "Light_Conditions                               0\n",
      "Weather_Conditions                             0\n",
      "Road_Surface_Conditions                        0\n",
      "Special_Conditions_at_Site                     0\n",
      "Carriageway_Hazards                            0\n",
      "Urban_or_Rural_Area                            0\n",
      "Did_Police_Officer_Attend_Scene_of_Accident    0\n",
      "Month_of_Year                                  0\n",
      "Hour_of_Day                                    0\n",
      "dtype: int64\n",
      "<class 'pandas.core.frame.DataFrame'>\n",
      "Int64Index: 136614 entries, 0 to 36\n",
      "Columns: 124 entries, Longitude to Hour_of_Day_23\n",
      "dtypes: float64(4), int64(2), uint8(118)\n",
      "memory usage: 22.7 MB\n"
     ]
    }
   ],
   "source": [
    "def fill_missing(frame, column_names):\n",
    "    for column_name in column_names:\n",
    "        not_missing = frame[~frame[column_name].isnull()]\n",
    "        missing = frame[frame[column_name].isnull()]\n",
    "        missing.drop([column_name], axis=1, inplace=True)\n",
    "    \n",
    "        new_df = pd.merge(missing, not_missing.groupby(['1st_Road_Class','2nd_Road_Class'])[column_name].mean(), how='left', left_on=['1st_Road_Class','2nd_Road_Class'], right_on = ['1st_Road_Class','2nd_Road_Class'])\n",
    "        frames= [not_missing[['Longitude', 'Latitude', 'Police_Force', 'Accident_Severity', \\\n",
    "                              'Number_of_Vehicles', 'Number_of_Casualties', 'Day_of_Week', \\\n",
    "                              '1st_Road_Class', 'Road_Type', 'Speed_limit', 'Junction_Detail', \\\n",
    "                              'Junction_Control', '2nd_Road_Class', 'Pedestrian_Crossing-Human_Control', \\\n",
    "                              'Pedestrian_Crossing-Physical_Facilities', 'Light_Conditions', \\\n",
    "                              'Weather_Conditions', 'Road_Surface_Conditions', \\\n",
    "                              'Special_Conditions_at_Site', 'Carriageway_Hazards', 'Urban_or_Rural_Area', \\\n",
    "                              'Did_Police_Officer_Attend_Scene_of_Accident','Month_of_Year','Hour_of_Day']], \\\n",
    "                 new_df[['Longitude', 'Latitude', 'Police_Force', 'Accident_Severity', \\\n",
    "                         'Number_of_Vehicles', 'Number_of_Casualties', 'Day_of_Week', \\\n",
    "                         '1st_Road_Class', 'Road_Type', 'Speed_limit', 'Junction_Detail', \\\n",
    "                         'Junction_Control', '2nd_Road_Class', 'Pedestrian_Crossing-Human_Control', \\\n",
    "                         'Pedestrian_Crossing-Physical_Facilities', 'Light_Conditions', \\\n",
    "                         'Weather_Conditions', 'Road_Surface_Conditions', \\\n",
    "                         'Special_Conditions_at_Site', 'Carriageway_Hazards', \\\n",
    "                         'Urban_or_Rural_Area', 'Did_Police_Officer_Attend_Scene_of_Accident','Month_of_Year', \\\n",
    "                         'Hour_of_Day']]]\n",
    "        frame=pd.concat(frames)\n",
    "    \n",
    "    return frame\n",
    "\n",
    "\n",
    "def update_col(frame,column_names):\n",
    "    for column_name in column_names:\n",
    "        frame[column_name] = frame[column_name].astype('category')\n",
    "        frame = pd.concat([frame,pd.get_dummies(frame[column_name], prefix=column_name, drop_first=True)],axis=1)\n",
    "        frame.drop([column_name], axis=1, inplace=True)\n",
    "    \n",
    "    return frame\n",
    "\n",
    "frame = fill_missing(frame, ['Number_of_Vehicles','Speed_limit'])\n",
    "print(frame.isnull().sum())\n",
    "\n",
    "frame = update_col(frame, ['Accident_Severity','Day_of_Week', '1st_Road_Class','Road_Type','Junction_Detail', \\\n",
    "                           'Junction_Control','2nd_Road_Class','Pedestrian_Crossing-Human_Control', \\\n",
    "                           'Pedestrian_Crossing-Physical_Facilities','Light_Conditions','Weather_Conditions', \\\n",
    "                           'Road_Surface_Conditions','Special_Conditions_at_Site','Carriageway_Hazards', \\\n",
    "                           'Urban_or_Rural_Area','Did_Police_Officer_Attend_Scene_of_Accident','Month_of_Year', \\\n",
    "                           'Hour_of_Day'])\n",
    "\n",
    "frame.info()"
   ]
  },
  {
   "cell_type": "markdown",
   "metadata": {},
   "source": [
    "## TRAIN AND TEST DATA SPLITTING"
   ]
  },
  {
   "cell_type": "code",
   "execution_count": 13,
   "metadata": {},
   "outputs": [
    {
     "name": "stdout",
     "output_type": "stream",
     "text": [
      "Training data shape: (95629, 123)\n",
      "Test data shape: (40985, 123)\n"
     ]
    }
   ],
   "source": [
    "from sklearn.model_selection import train_test_split\n",
    "X = frame.loc[:, frame.columns != 'Number_of_Casualties']\n",
    "y = frame.Number_of_Casualties\n",
    "X_train_org,X_test_org,y_train,y_test=train_test_split(X,y,random_state=0,test_size=0.3)\n",
    "print('Training data shape: '+str(X_train_org.shape))\n",
    "print('Test data shape: '+ str(X_test_org.shape))"
   ]
  },
  {
   "cell_type": "markdown",
   "metadata": {},
   "source": [
    "## Scaling the data"
   ]
  },
  {
   "cell_type": "code",
   "execution_count": 24,
   "metadata": {},
   "outputs": [],
   "source": [
    "scaler = MinMaxScaler()\n",
    "X_train = scaler.fit_transform(X_train_org)\n",
    "X_test = scaler.transform(X_test_org)"
   ]
  },
  {
   "cell_type": "markdown",
   "metadata": {},
   "source": [
    "# MODELS AND ANALYSIS"
   ]
  },
  {
   "cell_type": "markdown",
   "metadata": {},
   "source": [
    "## LINEAR REGRESSION"
   ]
  },
  {
   "cell_type": "code",
   "execution_count": null,
   "metadata": {
    "scrolled": true
   },
   "outputs": [],
   "source": [
    "from sklearn.linear_model import LinearRegression\n",
    "from sklearn.metrics import mean_squared_error\n",
    "\n",
    "from sklearn import linear_model\n",
    "lreg = linear_model.LinearRegression()\n",
    "\n",
    "lreg.fit(X_train, y_train)\n",
    "print('Train Score: ',lreg.score(X_train, y_train))\n",
    "print('Test Score: ',lreg.score(X_test, y_test))\n",
    "y_pred = lreg.predict(X_test)\n",
    "print('MSE: ',mean_squared_error(y_test, y_pred))"
   ]
  },
  {
   "cell_type": "markdown",
   "metadata": {},
   "source": [
    "## POLYNOMIAL REGRESSION"
   ]
  },
  {
   "cell_type": "code",
   "execution_count": null,
   "metadata": {},
   "outputs": [],
   "source": [
    "from  sklearn.preprocessing  import PolynomialFeatures\n",
    "train_score_list = []\n",
    "test_score_list = []\n",
    "mse = []\n",
    "\n",
    "for n in range(2,4):\n",
    "    poly = PolynomialFeatures(n)\n",
    "    X_train_poly = poly.fit_transform(X_train)\n",
    "    X_test_poly = poly.transform(X_test)\n",
    "    lreg.fit(X_train_poly, y_train)\n",
    "    train_score_list.append(lreg.score(X_train_poly, y_train))\n",
    "    test_score_list.append(lreg.score(X_test_poly, y_test))\n",
    "    y_pred = lreg.predict(X_test_poly)\n",
    "    mse.append(mean_squared_error(y_test, y_pred))\n",
    "    \n",
    "print(train_score_list)\n",
    "print(test_score_list)\n",
    "print(mse)"
   ]
  },
  {
   "cell_type": "markdown",
   "metadata": {},
   "source": [
    "## KNEIGHBORS REGRESSOR"
   ]
  },
  {
   "cell_type": "code",
   "execution_count": null,
   "metadata": {},
   "outputs": [],
   "source": [
    "k_range = range(1,6,2)\n",
    "train_score_knn = []\n",
    "test_score_knn = []\n",
    "\n",
    "for k in k_range:\n",
    "    neigh = KNeighborsRegressor(n_neighbors=k)\n",
    "    neigh.fit(X_train, y_train)\n",
    "    train_score_knn.append(neigh.score(X_train, y_train))\n",
    "    test_score_knn.append(neigh.score(X_test, y_test))\n",
    "    \n",
    "\n",
    "plt.plot(k_range, train_score_knn, label = 'Train score')\n",
    "plt.plot(k_range, test_score_knn, label = 'Test score')\n",
    "plt.legend()\n",
    "plt.xlabel('k nearest neighbours: K')\n",
    "plt.ylabel('Accuracy')"
   ]
  },
  {
   "cell_type": "code",
   "execution_count": null,
   "metadata": {},
   "outputs": [],
   "source": [
    "x_range_1 = range(1,6,2)\n",
    "tuned_parameters=dict(n_neighbors=x_range_1)\n",
    "\n",
    "knn_reg = KNeighborsRegressor()\n",
    "gri12=GridSearchCV(knn_reg,tuned_parameters,cv=3,iid = False)\n",
    "gri_model12=gri12.fit(X_train,y_train)\n",
    "\n",
    "print(gri_model12.best_params_)\n",
    "print('validation score: ', gri_model12.best_score_)\n",
    "y_pred12= gri_model12.score(X_test,y_test)\n",
    "print(y_pred12)\n"
   ]
  },
  {
   "cell_type": "code",
   "execution_count": null,
   "metadata": {},
   "outputs": [],
   "source": [
    "y_pred = gri_model12.predict(X_test)\n",
    "print(gri_model12.score(X_train,y_train))\n",
    "print(gri_model12.score(X_test,y_test))\n",
    "from sklearn.metrics import mean_squared_error\n",
    "print(mean_squared_error(y_test, y_pred))"
   ]
  },
  {
   "cell_type": "markdown",
   "metadata": {},
   "source": [
    "## RIDGE REGRESSION"
   ]
  },
  {
   "cell_type": "code",
   "execution_count": null,
   "metadata": {},
   "outputs": [],
   "source": [
    "from  sklearn.linear_model import Ridge\n",
    "\n",
    "x_range = [0.01, 0.1, 1, 10, 100]\n",
    "train_score_list = []\n",
    "test_score_list = []\n",
    "\n",
    "for alpha in x_range: \n",
    "    ridge = Ridge(alpha)\n",
    "    ridge.fit(X_train,y_train)\n",
    "    train_score_list.append(ridge.score(X_train,y_train))\n",
    "    test_score_list.append(ridge.score(X_test, y_test))\n",
    "\n",
    "%matplotlib inline\n",
    "import matplotlib.pyplot as plt\n",
    "plt.plot(x_range, train_score_list, c = 'g', label = 'Train Score')\n",
    "plt.plot(x_range, test_score_list, c = 'b', label = 'Test Score')\n",
    "plt.xscale('log')\n",
    "plt.legend(loc = 3)\n",
    "plt.xlabel(r'$\\alpha$')"
   ]
  },
  {
   "cell_type": "code",
   "execution_count": null,
   "metadata": {},
   "outputs": [],
   "source": [
    "from sklearn.linear_model import Ridge\n",
    "from sklearn.model_selection import GridSearchCV\n",
    "np.random.seed(0)\n",
    "    \n",
    "x_range = [0.01, 0.1, 1, 10, 100]\n",
    "tuned_parameters = [{'alpha':x_range}]\n",
    "\n",
    "ridge = Ridge(max_iter=1000,tol=0.1,random_state=0)\n",
    "gri1=GridSearchCV(ridge,tuned_parameters,cv=5, return_train_score= True, iid = False)\n",
    "gri_model1=gri1.fit(X_train,y_train)\n",
    "\n",
    "print(gri1.best_params_)\n",
    "print('validation score: ', gri1.best_score_)\n",
    "y_pred1= gri_model1.score(X_test,y_test)\n",
    "print(y_pred1)"
   ]
  },
  {
   "cell_type": "code",
   "execution_count": null,
   "metadata": {},
   "outputs": [],
   "source": [
    "y_pred = gri_model1.predict(X_test)\n",
    "print(gri_model1.score(X_train,y_train))\n",
    "print(gri_model1.score(X_test,y_test))\n",
    "print(mean_squared_error(y_test, y_pred))"
   ]
  },
  {
   "cell_type": "markdown",
   "metadata": {},
   "source": [
    "## LASSO REGRESSION"
   ]
  },
  {
   "cell_type": "code",
   "execution_count": null,
   "metadata": {},
   "outputs": [],
   "source": [
    "from sklearn.linear_model import Lasso\n",
    "x_range = [0.01, 0.1, 1, 10, 100]\n",
    "train_score_list = []\n",
    "test_score_list = []\n",
    "\n",
    "for alpha in x_range: \n",
    "    lasso = Lasso(alpha)\n",
    "    lasso.fit(X_train,y_train)\n",
    "    train_score_list.append(lasso.score(X_train,y_train))\n",
    "    test_score_list.append(lasso.score(X_test, y_test))\n",
    "    \n",
    "    \n",
    "plt.plot(x_range, train_score_list, c = 'g', label = 'Train Score')\n",
    "plt.plot(x_range, test_score_list, c = 'b', label = 'Test Score')\n",
    "plt.xscale('log')\n",
    "plt.legend(loc = 3)\n",
    "plt.xlabel(r'$\\alpha$')"
   ]
  },
  {
   "cell_type": "code",
   "execution_count": null,
   "metadata": {},
   "outputs": [],
   "source": [
    "from sklearn.linear_model import Lasso\n",
    "from sklearn.model_selection import GridSearchCV\n",
    "np.random.seed(0)\n",
    "    \n",
    "x_range = [0.01, 0.1, 1, 10, 100]\n",
    "tuned_parameters = [{'alpha':x_range}]\n",
    "\n",
    "lasso = Lasso(max_iter=1000,tol=0.1,random_state=0)\n",
    "gri=GridSearchCV(lasso,tuned_parameters,cv=5, return_train_score= True, iid = False)\n",
    "gri_model=gri.fit(X_train,y_train)\n",
    "\n",
    "print(gri_model.best_params_)\n",
    "print('validation score: ', gri_model.best_score_)\n",
    "y_pred= gri_model.score(X_test,y_test)\n",
    "print(y_pred)"
   ]
  },
  {
   "cell_type": "code",
   "execution_count": null,
   "metadata": {},
   "outputs": [],
   "source": [
    "y_pred = gri_model.predict(X_test)\n",
    "print(gri_model.score(X_train,y_train))\n",
    "print(gri_model.score(X_test,y_test))\n",
    "print(mean_squared_error(y_test, y_pred))"
   ]
  },
  {
   "cell_type": "markdown",
   "metadata": {},
   "source": [
    "## SGD Regressor"
   ]
  },
  {
   "cell_type": "code",
   "execution_count": null,
   "metadata": {},
   "outputs": [],
   "source": [
    "from sklearn.linear_model import SGDRegressor\n",
    "\n",
    "sgd_reg = SGDRegressor(random_state= 0, max_iter = 100000, learning_rate = 'optimal', penalty = 'l2')\n",
    "sgd_reg.fit(X_train, y_train)\n",
    "print(sgd_reg.score(X_train, y_train))\n",
    "print(sgd_reg.score(X_test, y_test))\n",
    "\n",
    "print(\"SGD regression coefficient: \" + str(sgd_reg.coef_))\n",
    "print(\"SGD regression intercept: \" + str(sgd_reg.intercept_))\n",
    "print(\"SGD regression iterations: \" + str(sgd_reg.n_iter_))"
   ]
  },
  {
   "cell_type": "code",
   "execution_count": null,
   "metadata": {},
   "outputs": [],
   "source": [
    "y_pred = sgd_reg.predict(X_test)\n",
    "print(mean_squared_error(y_test, y_pred))"
   ]
  },
  {
   "cell_type": "markdown",
   "metadata": {},
   "source": [
    " LINEARSVR"
   ]
  },
  {
   "cell_type": "code",
   "execution_count": 43,
   "metadata": {},
   "outputs": [
    {
     "name": "stdout",
     "output_type": "stream",
     "text": [
      "train score:  -0.16855323669537814\n",
      "test score:  -0.18170165961182216\n",
      "Best Paramters {'C': 1}\n",
      "Best score: -0.16975839725704905\n",
      "0.7004037877132604\n"
     ]
    }
   ],
   "source": [
    "from sklearn import svm\n",
    "from sklearn.svm import LinearSVR\n",
    "\n",
    "tuning_parameters = [{'C': [0.01, 0.1 ,1, 10, 100]}]\n",
    "\n",
    "lsvm_grid = GridSearchCV(svm.LinearSVR(), param_grid=tuning_parameters,cv=5)\n",
    "grid_lsvm=lsvm_grid.fit(X_train,y_train) \n",
    "\n",
    "print('train score: ', grid_lsvm.score(X_train, y_train))\n",
    "print('test score: ', grid_lsvm.score(X_test, y_test))\n",
    "print('Best Paramters' ,grid_lsvm.best_params_)\n",
    "print('Best score:', grid_lsvm.best_score_)\n",
    "y_pred = grid_lsvm.predict(X_test)\n",
    "print(mean_squared_error(y_test, y_pred))"
   ]
  },
  {
   "cell_type": "markdown",
   "metadata": {},
   "source": [
    "## SVM REGRESSOR\n",
    "\n",
    "## $ \\underline{ NOTE: } $ All the below SVM models with kernels took multiple days to run.\n",
    "\n",
    "### Linear Kernel"
   ]
  },
  {
   "cell_type": "code",
   "execution_count": null,
   "metadata": {},
   "outputs": [],
   "source": [
    "from sklearn.model_selection import GridSearchCV\n",
    "from sklearn import svm\n",
    "\n",
    "tuning_parameters = {'C':[0.1, 1], 'kernel':['linear']}\n",
    "\n",
    "svm_grid = GridSearchCV(svm.SVR(), param_grid=tuning_parameters,cv=3)\n",
    "svm_model_linear=svm_grid.fit(X_train,y_train) \n",
    "print(svm_model_linear.best_params_)\n",
    "print('Validation score:', svm_model_linear.best_score_) "
   ]
  },
  {
   "cell_type": "code",
   "execution_count": null,
   "metadata": {},
   "outputs": [],
   "source": [
    "y_pred = svm_model_linear.predict(X_test)\n",
    "print(svm_model_linear.score(X_train,y_train))\n",
    "print(svm_model_linear.score(X_test,y_test))\n",
    "from sklearn.metrics import mean_squared_error\n",
    "print(mean_squared_error(y_test, y_pred))"
   ]
  },
  {
   "cell_type": "markdown",
   "metadata": {},
   "source": [
    "### RBF Kernel"
   ]
  },
  {
   "cell_type": "code",
   "execution_count": null,
   "metadata": {},
   "outputs": [],
   "source": [
    "from sklearn.model_selection import GridSearchCV\n",
    "from sklearn import svm\n",
    "\n",
    "tuning_parameters = {'C':[0.1, 1], 'kernel':['rbf']}\n",
    "\n",
    "svm_grid = GridSearchCV(svm.SVR(), param_grid=tuning_parameters,cv=3)\n",
    "svm_model_rbf=svm_grid.fit(X_train,y_train) \n",
    "print(svm_model_rbf.best_params_)\n",
    "print('Validation score:', svm_model_rbf.best_score_) "
   ]
  },
  {
   "cell_type": "code",
   "execution_count": null,
   "metadata": {},
   "outputs": [],
   "source": [
    "y_pred = svm_model_rbf.predict(X_test)\n",
    "print(svm_model_rbf.score(X_train,y_train))\n",
    "print(svm_model_rbf.score(X_test,y_test))\n",
    "from sklearn.metrics import mean_squared_error\n",
    "print(mean_squared_error(y_test, y_pred))"
   ]
  },
  {
   "cell_type": "markdown",
   "metadata": {},
   "source": [
    "### Poly Kernel"
   ]
  },
  {
   "cell_type": "code",
   "execution_count": null,
   "metadata": {},
   "outputs": [],
   "source": [
    "from sklearn.model_selection import GridSearchCV\n",
    "from sklearn import svm\n",
    "\n",
    "tuning_parameters = {'C':[0.1,1], 'kernel':['poly']}\n",
    "\n",
    "svm_grid = GridSearchCV(svm.SVR(), param_grid=tuning_parameters,cv=3)\n",
    "svm_model_poly=svm_grid.fit(X_train,y_train) \n",
    "print(svm_model_poly.best_params_)\n",
    "print('Validation score:', svm_model_poly.best_score_) "
   ]
  },
  {
   "cell_type": "code",
   "execution_count": null,
   "metadata": {},
   "outputs": [],
   "source": [
    "y_pred = svm_model_poly.predict(X_test)\n",
    "print(svm_model_poly.score(X_train,y_train))\n",
    "print(svm_model_poly.score(X_test,y_test))\n",
    "from sklearn.metrics import mean_squared_error\n",
    "print(mean_squared_error(y_test, y_pred))"
   ]
  },
  {
   "cell_type": "markdown",
   "metadata": {},
   "source": [
    "## Decision Tree Regressor"
   ]
  },
  {
   "cell_type": "code",
   "execution_count": 25,
   "metadata": {},
   "outputs": [
    {
     "name": "stdout",
     "output_type": "stream",
     "text": [
      "0.08510803174295731 {'max_depth': 5}\n"
     ]
    }
   ],
   "source": [
    "from sklearn.tree import DecisionTreeRegressor\n",
    "\n",
    "parameters = {'max_depth':range(3,20)}\n",
    "clf = GridSearchCV(DecisionTreeRegressor(), parameters, n_jobs=4)\n",
    "clf.fit(X=X_train, y=y_train)\n",
    "tree_model = clf.best_estimator_\n",
    "print (clf.best_score_, clf.best_params_) "
   ]
  },
  {
   "cell_type": "code",
   "execution_count": 26,
   "metadata": {},
   "outputs": [
    {
     "data": {
      "text/plain": [
       "'Decision Regressor.pdf'"
      ]
     },
     "execution_count": 26,
     "metadata": {},
     "output_type": "execute_result"
    }
   ],
   "source": [
    "import graphviz \n",
    "from sklearn import tree\n",
    "reg=DecisionTreeRegressor(max_depth=5)\n",
    "reg.fit(X=X_train, y=y_train)\n",
    "dot_data = tree.export_graphviz(reg, out_file=None) \n",
    "graph = graphviz.Source(dot_data) \n",
    "graph.render(\"Decision Regressor\") "
   ]
  },
  {
   "cell_type": "code",
   "execution_count": null,
   "metadata": {},
   "outputs": [],
   "source": [
    "y_pred = clf.predict(X_test)\n",
    "print(clf.score(X_train,y_train))\n",
    "print(clf.score(X_test,y_test))\n",
    "from sklearn.metrics import mean_squared_error\n",
    "print(mean_squared_error(y_test, y_pred))"
   ]
  },
  {
   "cell_type": "markdown",
   "metadata": {},
   "source": [
    "# Conclusion\n",
    "\n",
    "After comparing the performance of all models in training and testing datasets, we see that Linear Regression and Ridge regression had the lowest MSE score and the best model for predicting this dataset. They give the same result\n",
    "\n",
    "As per my understanding the reason for low score would be due to the target variable. The target variable that was chosen for this project is 'Number of Casualities' which is a whole number and the models are trying to predict the coefficients might have struggled to get the whole number. \n",
    "Rounding the data while running the model isn't really the right approach as it would be like manipulating the results which we did not want to.\n",
    "\n",
    "Although the data wasn't really the easy one to perform regression but it did expose us to the limitations with regression models when the expected target variable is a whole number. But when higher and better models models are used, they might yield a better score. \n",
    "\n",
    "\n",
    "### Best Parameters for every model \n",
    "| Model | Best Params |\n",
    "| --- | --- |\n",
    "| Polynomial regression | 3 |\n",
    "| KNN Regressor | k = 5 |\n",
    "| Ridge Regression | alpha = 1 |\n",
    "| Lasso Regression | alpha = 0.01 |\n",
    "| SVM Linear Kernel | C = 0.1 |\n",
    "| SVM RBF Kernel | C = 1 |\n",
    "| SVM Poly Kernel | C = 1 |\n",
    "| Decision Tree Regressor | max_depth = 4 | \n",
    "\n",
    "### Performance on Dataset\n",
    "| Model | Linear Regression | Polynomial Regression | Polynomial Regression | KNN Regressor | Ridge Regression | Lasso Regression | SGD Regressor | SVM Linear | SVM RBF | SVM Poly | Decision Tree Regressor |\n",
    "| --- | --- | --- | --- | --- | --- | --- | --- | --- | --- | --- | --- |\n",
    "| Params | default | poly=2 | poly=3 |  k=5 | alpha =1 | alpha=0.01 | default | C=0.1 | C=1 | C=1 | max_depth=4| \n",
    "| Score Training | 0.0951 | 0.10 | 0.17 | 0.23 | 0.0951 | 0.03 | -719467803.8714623 | -0.08| -0.08| 0.03 |  0.09 |\n",
    "| Score Test | 0.098 | -2.21e+18 | -2.01e+16 | -0.14 | 0.098 |  0.03 | -475322833.350394 | -0.08| -0.08| -0.03 | 0.08 |\n",
    "| MSE | 0.53 | 1.35e+18 | 1.23e+16 |  0.73 | 0.53 | 0.62 | 301591528.0394274 | 0.68| 0.68 | 0.63 | 0.58 | "
   ]
  },
  {
   "cell_type": "markdown",
   "metadata": {},
   "source": [
    "## Linear Regression with params default"
   ]
  },
  {
   "cell_type": "code",
   "execution_count": null,
   "metadata": {},
   "outputs": [],
   "source": [
    "lreg = linear_model.LinearRegression()\n",
    "lreg.fit(X_train, y_train)\n",
    "print('Train Score: ',lreg.score(X_train, y_train))\n",
    "print('Test Score: ',lreg.score(X_test, y_test))\n",
    "y_pred = lreg.predict(X_test)\n",
    "print('MSE: ',mean_squared_error(y_test, y_pred))"
   ]
  },
  {
   "cell_type": "markdown",
   "metadata": {},
   "source": [
    "## Ridge Regression with Alpha 1"
   ]
  },
  {
   "cell_type": "code",
   "execution_count": null,
   "metadata": {},
   "outputs": [],
   "source": [
    "from  sklearn.linear_model import Ridge\n",
    "\n",
    "ridge = Ridge(alpha = 1)\n",
    "ridge.fit(X_train,y_train)\n",
    "print('Train score: ',ridge.score(X_train,y_train))\n",
    "print('Test score: ', ridge.score(X_test, y_test))\n",
    "y_pred = ridge.predict(X_test)\n",
    "print('MSE: ',mean_squared_error(y_test, y_pred))"
   ]
  },
  {
   "cell_type": "markdown",
   "metadata": {},
   "source": [
    "# PROJECT - II"
   ]
  },
  {
   "cell_type": "code",
   "execution_count": 15,
   "metadata": {},
   "outputs": [],
   "source": [
    "from sklearn.ensemble import BaggingRegressor\n",
    "from sklearn.ensemble import AdaBoostRegressor\n",
    "from  sklearn.ensemble import GradientBoostingRegressor\n",
    "from sklearn.decomposition import PCA\n",
    "from sklearn.model_selection import GridSearchCV\n",
    "from  sklearn.linear_model import Ridge\n",
    "from sklearn.linear_model import LinearRegression\n",
    "from sklearn.metrics import r2_score\n",
    "from sklearn.metrics import mean_squared_error"
   ]
  },
  {
   "cell_type": "markdown",
   "metadata": {},
   "source": [
    "## Bagging for Linear Regression"
   ]
  },
  {
   "cell_type": "code",
   "execution_count": 17,
   "metadata": {
    "scrolled": false
   },
   "outputs": [
    {
     "name": "stdout",
     "output_type": "stream",
     "text": [
      "Linear bag grid model Best params: \n",
      "{'max_features': 8, 'max_samples': 0.5, 'n_estimators': 100}\n",
      "Train Score:  0.019614663615036276\n",
      "Test Score:  0.02093238720912627\n",
      "MSE:  0.580301008167635\n"
     ]
    }
   ],
   "source": [
    "tuned_parameters = {\"n_estimators\": [50,100,200,500],\n",
    "              \"max_features\":[1,2,4,6,8],\n",
    "              \"max_samples\": [0.5,0.1],\n",
    "            }\n",
    "linear = LinearRegression()\n",
    "\n",
    "linear_bag_grid = GridSearchCV(BaggingRegressor(linear,bootstrap=True, oob_score=True, random_state=0),tuned_parameters)\n",
    "linear_bag_grid_model=linear_bag_grid.fit(X_train, y_train)\n",
    "\n",
    "print(\"Linear bag grid model Best params: \")\n",
    "print(linear_bag_grid_model.best_params_)\n",
    "\n",
    "print('Train Score: ',linear_bag_grid_model.score(X_train, y_train))\n",
    "print('Test Score: ',linear_bag_grid_model.score(X_test, y_test))\n",
    "y_pred = linear_bag_grid_model.predict(X_test)\n",
    "print('MSE: ',mean_squared_error(y_test, y_pred))"
   ]
  },
  {
   "cell_type": "markdown",
   "metadata": {},
   "source": [
    "## Bagging for Ridge Regression"
   ]
  },
  {
   "cell_type": "code",
   "execution_count": 18,
   "metadata": {},
   "outputs": [
    {
     "name": "stdout",
     "output_type": "stream",
     "text": [
      "Ridge bag grid model Best params: \n",
      "{'max_features': 8, 'max_samples': 0.5, 'n_estimators': 100}\n",
      "Train Score:  0.018832444450122443\n",
      "Test Score:  0.02027636467717031\n",
      "MSE:  0.580689837837518\n"
     ]
    }
   ],
   "source": [
    "tuned_parameters = {\"n_estimators\": [50,100,200,500],\n",
    "              \"max_features\":[1,2,4,6,8],\n",
    "              \"max_samples\": [0.5,0.1],\n",
    "            }\n",
    "ridge = Ridge(max_iter=1000,alpha=1,tol=0.1,random_state=0)\n",
    "\n",
    "ridge_bag_grid = GridSearchCV(BaggingRegressor(ridge,bootstrap=True, oob_score=True, random_state=0),tuned_parameters)\n",
    "ridge_bag_grid_model=ridge_bag_grid.fit(X_train, y_train)\n",
    "\n",
    "print(\"Ridge bag grid model Best params: \")\n",
    "print(ridge_bag_grid_model.best_params_)\n",
    "\n",
    "print('Train Score: ',ridge_bag_grid_model.score(X_train, y_train))\n",
    "print('Test Score: ',ridge_bag_grid_model.score(X_test, y_test))\n",
    "y_pred = ridge_bag_grid_model.predict(X_test)\n",
    "print('MSE: ',mean_squared_error(y_test, y_pred))"
   ]
  },
  {
   "cell_type": "markdown",
   "metadata": {},
   "source": [
    "## Pasting for Linear Regression"
   ]
  },
  {
   "cell_type": "code",
   "execution_count": 19,
   "metadata": {},
   "outputs": [
    {
     "name": "stdout",
     "output_type": "stream",
     "text": [
      "Linear Pasting grid model Best params: \n",
      "{'max_features': 8, 'max_samples': 0.1, 'n_estimators': 100}\n",
      "Train Score:  0.019486100583591015\n",
      "Test Score:  0.020835510677042812\n",
      "MSE:  0.5803584276435745\n"
     ]
    }
   ],
   "source": [
    "tuned_parameters = {\"n_estimators\": [50,100,200,500],\n",
    "              \"max_features\":[1,2,4,6,8],\n",
    "              \"max_samples\": [0.5,0.1],\n",
    "            }\n",
    "linear = LinearRegression()\n",
    "\n",
    "linear_paste_grid = GridSearchCV(BaggingRegressor(linear,bootstrap=False, random_state=0),tuned_parameters)\n",
    "linear_paste_grid_model=linear_paste_grid.fit(X_train, y_train)\n",
    "\n",
    "print(\"Linear Pasting grid model Best params: \")\n",
    "print(linear_paste_grid_model.best_params_)\n",
    "\n",
    "print('Train Score: ',linear_paste_grid_model.score(X_train, y_train))\n",
    "print('Test Score: ',linear_paste_grid_model.score(X_test, y_test))\n",
    "y_pred = linear_paste_grid_model.predict(X_test)\n",
    "print('MSE: ',mean_squared_error(y_test, y_pred))"
   ]
  },
  {
   "cell_type": "markdown",
   "metadata": {},
   "source": [
    "## Pasting for Ridge Regression"
   ]
  },
  {
   "cell_type": "code",
   "execution_count": 20,
   "metadata": {},
   "outputs": [
    {
     "name": "stdout",
     "output_type": "stream",
     "text": [
      "Ridge Pasting grid model Best params: \n",
      "{'max_features': 8, 'max_samples': 0.5, 'n_estimators': 100}\n",
      "Train Score:  0.01870890903912592\n",
      "Test Score:  0.02020192092660944\n",
      "MSE:  0.5807339612289345\n"
     ]
    }
   ],
   "source": [
    "tuned_parameters = {\"n_estimators\": [50,100,200,500],\n",
    "              \"max_features\":[1,2,4,6,8],\n",
    "              \"max_samples\": [0.5,0.1],\n",
    "            }\n",
    "ridge = Ridge(max_iter=1000,alpha=1,tol=0.1,random_state=0)\n",
    "\n",
    "ridge_paste_grid = GridSearchCV(BaggingRegressor(ridge,bootstrap=False, random_state=0),tuned_parameters)\n",
    "ridge_paste_grid_model=ridge_paste_grid.fit(X_train, y_train)\n",
    "\n",
    "print(\"Ridge Pasting grid model Best params: \")\n",
    "print(ridge_paste_grid_model.best_params_)\n",
    "\n",
    "print('Train Score: ',ridge_paste_grid_model.score(X_train, y_train))\n",
    "print('Test Score: ',ridge_paste_grid_model.score(X_test, y_test))\n",
    "y_pred = ridge_paste_grid_model.predict(X_test)\n",
    "print('MSE: ',mean_squared_error(y_test, y_pred))"
   ]
  },
  {
   "cell_type": "markdown",
   "metadata": {},
   "source": [
    "## Adaboosting for Linear Regression "
   ]
  },
  {
   "cell_type": "code",
   "execution_count": 21,
   "metadata": {},
   "outputs": [
    {
     "name": "stdout",
     "output_type": "stream",
     "text": [
      "Linear Adaboosting grid model Best params: \n",
      "{'learning_rate': 1, 'loss': 'square', 'n_estimators': 100}\n",
      "Train Score:  -22.569071635559578\n",
      "Test Score:  -23.89199655012167\n",
      "MSE:  14.7536804451791\n"
     ]
    }
   ],
   "source": [
    "tuned_parameters = {\"learning_rate\":[0.05,0.1,0.2,0.6,0.8,1],\n",
    "                    \"n_estimators\": [50,100,200,500],\n",
    "                    \"loss\" : [\"linear\", \"square\", \"exponential\"]\n",
    "                   }\n",
    "\n",
    "linear = LinearRegression()\n",
    "\n",
    "linear_ada_grid = GridSearchCV(AdaBoostRegressor(linear, random_state=0),tuned_parameters)\n",
    "linear_ada_grid_model = linear_ada_grid.fit(X_train, y_train)\n",
    "\n",
    "print(\"Linear Adaboosting grid model Best params: \")\n",
    "print(linear_ada_grid_model.best_params_)\n",
    "\n",
    "print('Train Score: ',linear_ada_grid_model.score(X_train, y_train))\n",
    "print('Test Score: ',linear_ada_grid_model.score(X_test, y_test))\n",
    "y_pred = linear_ada_grid_model.predict(X_test)\n",
    "print('MSE: ',mean_squared_error(y_test, y_pred))\n"
   ]
  },
  {
   "cell_type": "markdown",
   "metadata": {},
   "source": [
    "## Adaboosting for Ridge Regression "
   ]
  },
  {
   "cell_type": "code",
   "execution_count": 22,
   "metadata": {},
   "outputs": [
    {
     "name": "stdout",
     "output_type": "stream",
     "text": [
      "Ridge Adaboosting grid model Best params: \n",
      "{'learning_rate': 0.05, 'loss': 'exponential', 'n_estimators': 50}\n",
      "Train Score:  0.06595021790224953\n",
      "Test Score:  0.06529858749605943\n",
      "MSE:  0.5540048153217852\n"
     ]
    }
   ],
   "source": [
    "tuned_parameters = {\"learning_rate\":[0.05,0.1,0.2,0.6,0.8,1],\n",
    "                    \"n_estimators\": [50,100,200,500],\n",
    "                    \"loss\" : [\"linear\", \"square\", \"exponential\"]\n",
    "                   }\n",
    "\n",
    "ridge = Ridge(max_iter=1000,alpha=1,tol=0.1,random_state=0)\n",
    "\n",
    "ridge_ada_grid = GridSearchCV(AdaBoostRegressor(ridge, random_state=0),tuned_parameters)\n",
    "ridge_ada_grid_model =ridge_ada_grid.fit(X_train, y_train)\n",
    "\n",
    "print(\"Ridge Adaboosting grid model Best params: \")\n",
    "print(ridge_ada_grid_model.best_params_)\n",
    "\n",
    "print('Train Score: ',ridge_ada_grid_model.score(X_train, y_train))\n",
    "print('Test Score: ',ridge_ada_grid_model.score(X_test, y_test))\n",
    "y_pred = ridge_ada_grid_model.predict(X_test)\n",
    "print('MSE: ',mean_squared_error(y_test, y_pred))\n"
   ]
  },
  {
   "cell_type": "markdown",
   "metadata": {},
   "source": [
    "## Gradient Boosting"
   ]
  },
  {
   "cell_type": "code",
   "execution_count": 23,
   "metadata": {},
   "outputs": [
    {
     "name": "stdout",
     "output_type": "stream",
     "text": [
      "Gradient boosting grid model Best params: \n",
      "{'learning_rate': 0.1, 'max_depth': 7, 'max_features': 'sqrt', 'n_estimators': 500}\n",
      "Train Score:  0.036604929652750196\n",
      "Test Score:  -0.051747281094375534\n",
      "MSE:  0.6233788142750055\n"
     ]
    }
   ],
   "source": [
    "tuned_parameters = {\"max_depth\": [3,5,6,7],\n",
    "                    \"max_features\":['auto', 'sqrt', 'log2'],\n",
    "                    \"learning_rate\":[0.05,0.1,0.2,0.6,0.8,1],\n",
    "                    \"n_estimators\": [50,100,200,500]}\n",
    "\n",
    "grad_boost_grid = GridSearchCV(GradientBoostingRegressor(loss = 'lad',random_state=0),tuned_parameters)\n",
    "grad_boost_grid_model = grad_boost_grid.fit(X_train,y_train)\n",
    "\n",
    "print(\"Gradient boosting grid model Best params: \")\n",
    "print(grad_boost_grid_model.best_params_)\n",
    "\n",
    "print('Train Score: ',grad_boost_grid_model.score(X_train, y_train))\n",
    "print('Test Score: ',grad_boost_grid_model.score(X_test, y_test))\n",
    "y_pred = grad_boost_grid_model.predict(X_test)\n",
    "print('MSE: ',mean_squared_error(y_test, y_pred))"
   ]
  },
  {
   "cell_type": "markdown",
   "metadata": {},
   "source": [
    "# Principle Component Analysis"
   ]
  },
  {
   "cell_type": "code",
   "execution_count": 45,
   "metadata": {},
   "outputs": [
    {
     "data": {
      "text/plain": [
       "49"
      ]
     },
     "execution_count": 45,
     "metadata": {},
     "output_type": "execute_result"
    }
   ],
   "source": [
    "from sklearn.decomposition import PCA\n",
    "pca90 = PCA(.90,random_state=0)\n",
    "pca90.fit(X_train)\n",
    "pca90.n_components_"
   ]
  },
  {
   "cell_type": "code",
   "execution_count": 16,
   "metadata": {},
   "outputs": [
    {
     "data": {
      "text/plain": [
       "62"
      ]
     },
     "execution_count": 16,
     "metadata": {},
     "output_type": "execute_result"
    }
   ],
   "source": [
    "pca95 = PCA(.95,random_state=0)\n",
    "pca95.fit(X_train)\n",
    "pca95.n_components_"
   ]
  },
  {
   "cell_type": "code",
   "execution_count": 47,
   "metadata": {},
   "outputs": [
    {
     "data": {
      "text/plain": [
       "87"
      ]
     },
     "execution_count": 47,
     "metadata": {},
     "output_type": "execute_result"
    }
   ],
   "source": [
    "pca99 = PCA(.99,random_state=0)\n",
    "pca99.fit(X_train)\n",
    "pca99.n_components_"
   ]
  },
  {
   "cell_type": "code",
   "execution_count": 17,
   "metadata": {
    "scrolled": true
   },
   "outputs": [],
   "source": [
    "X_train_without_PCA= X_train\n",
    "X_test_without_PCA= X_test\n",
    "X_train = pca95.transform(X_train)\n",
    "X_test = pca95.transform(X_test)"
   ]
  },
  {
   "cell_type": "markdown",
   "metadata": {},
   "source": [
    "## LINEAR REGRESSION"
   ]
  },
  {
   "cell_type": "code",
   "execution_count": 19,
   "metadata": {
    "scrolled": true
   },
   "outputs": [
    {
     "name": "stdout",
     "output_type": "stream",
     "text": [
      "Train Score:  0.042095633429830026\n",
      "Test Score:  0.044545069042125074\n",
      "MSE:  0.5663055875304724\n"
     ]
    }
   ],
   "source": [
    "from sklearn.linear_model import LinearRegression\n",
    "from sklearn.metrics import mean_squared_error\n",
    "\n",
    "from sklearn import linear_model\n",
    "lreg = linear_model.LinearRegression()\n",
    "\n",
    "lreg.fit(X_train, y_train)\n",
    "print('Train Score: ',lreg.score(X_train, y_train))\n",
    "print('Test Score: ',lreg.score(X_test, y_test))\n",
    "y_pred = lreg.predict(X_test)\n",
    "print('MSE: ',mean_squared_error(y_test, y_pred))"
   ]
  },
  {
   "cell_type": "markdown",
   "metadata": {},
   "source": [
    "## POLYNOMIAL REGRESSION"
   ]
  },
  {
   "cell_type": "code",
   "execution_count": 20,
   "metadata": {},
   "outputs": [
    {
     "name": "stdout",
     "output_type": "stream",
     "text": [
      "[0.08826823793900196]\n",
      "[0.04705307768089706]\n",
      "[0.5648190712546212]\n"
     ]
    }
   ],
   "source": [
    "from  sklearn.preprocessing  import PolynomialFeatures\n",
    "train_score_list = []\n",
    "test_score_list = []\n",
    "mse = []\n",
    "\n",
    "for n in range(2,4):\n",
    "    poly = PolynomialFeatures(n)\n",
    "    X_train_poly = poly.fit_transform(X_train)\n",
    "    X_test_poly = poly.transform(X_test)\n",
    "    lreg.fit(X_train_poly, y_train)\n",
    "    train_score_list.append(lreg.score(X_train_poly, y_train))\n",
    "    test_score_list.append(lreg.score(X_test_poly, y_test))\n",
    "    y_pred = lreg.predict(X_test_poly)\n",
    "    mse.append(mean_squared_error(y_test, y_pred))\n",
    "    \n",
    "print(train_score_list)\n",
    "print(test_score_list)\n",
    "print(mse)"
   ]
  },
  {
   "cell_type": "markdown",
   "metadata": {},
   "source": [
    "## KNEIGHBORS REGRESSOR"
   ]
  },
  {
   "cell_type": "code",
   "execution_count": 31,
   "metadata": {},
   "outputs": [
    {
     "data": {
      "text/plain": [
       "Text(0, 0.5, 'Accuracy')"
      ]
     },
     "execution_count": 31,
     "metadata": {},
     "output_type": "execute_result"
    },
    {
     "data": {
      "image/png": "[encoded data removed]",
      "text/plain": [
       "<Figure size 432x288 with 1 Axes>"
      ]
     },
     "metadata": {
      "needs_background": "light"
     },
     "output_type": "display_data"
    }
   ],
   "source": [
    "k_range = range(1,6,2)\n",
    "train_score_knn = []\n",
    "test_score_knn = []\n",
    "\n",
    "for k in k_range:\n",
    "    neigh = KNeighborsRegressor(n_neighbors=k)\n",
    "    neigh.fit(X_train, y_train)\n",
    "    train_score_knn.append(neigh.score(X_train, y_train))\n",
    "    test_score_knn.append(neigh.score(X_test, y_test))\n",
    "    \n",
    "\n",
    "plt.plot(k_range, train_score_knn, label = 'Train score')\n",
    "plt.plot(k_range, test_score_knn, label = 'Test score')\n",
    "plt.legend()\n",
    "plt.xlabel('k nearest neighbours: K')\n",
    "plt.ylabel('Accuracy')"
   ]
  },
  {
   "cell_type": "code",
   "execution_count": 33,
   "metadata": {},
   "outputs": [],
   "source": [
    "from sklearn.ensemble import BaggingRegressor\n",
    "from sklearn.ensemble import AdaBoostRegressor\n",
    "from  sklearn.ensemble import GradientBoostingRegressor\n",
    "from sklearn.decomposition import PCA\n",
    "from sklearn.model_selection import GridSearchCV\n",
    "from  sklearn.linear_model import Ridge\n",
    "from sklearn.linear_model import LinearRegression\n",
    "from sklearn.metrics import r2_score\n",
    "from sklearn.metrics import mean_squared_error"
   ]
  },
  {
   "cell_type": "code",
   "execution_count": 34,
   "metadata": {},
   "outputs": [
    {
     "name": "stdout",
     "output_type": "stream",
     "text": [
      "{'n_neighbors': 5}\n",
      "validation score:  -0.16095401038569532\n",
      "-0.15100162351249513\n"
     ]
    }
   ],
   "source": [
    "x_range_1 = range(1,6,2)\n",
    "tuned_parameters=dict(n_neighbors=x_range_1)\n",
    "\n",
    "knn_reg = KNeighborsRegressor()\n",
    "gri12=GridSearchCV(knn_reg,tuned_parameters,cv=3,iid = False)\n",
    "gri_model12=gri12.fit(X_train,y_train)\n",
    "\n",
    "print(gri_model12.best_params_)\n",
    "print('validation score: ', gri_model12.best_score_)\n",
    "y_pred12= gri_model12.score(X_test,y_test)\n",
    "print(y_pred12)\n"
   ]
  },
  {
   "cell_type": "code",
   "execution_count": 35,
   "metadata": {},
   "outputs": [
    {
     "name": "stdout",
     "output_type": "stream",
     "text": [
      "0.22368599059513328\n",
      "-0.15100162351249513\n",
      "0.6822076369403439\n"
     ]
    }
   ],
   "source": [
    "y_pred = gri_model12.predict(X_test)\n",
    "print(gri_model12.score(X_train,y_train))\n",
    "print(gri_model12.score(X_test,y_test))\n",
    "from sklearn.metrics import mean_squared_error\n",
    "print(mean_squared_error(y_test, y_pred))"
   ]
  },
  {
   "cell_type": "markdown",
   "metadata": {},
   "source": [
    "## RIDGE REGRESSION"
   ]
  },
  {
   "cell_type": "code",
   "execution_count": 36,
   "metadata": {},
   "outputs": [
    {
     "data": {
      "text/plain": [
       "Text(0.5, 0, '$\\\\alpha$')"
      ]
     },
     "execution_count": 36,
     "metadata": {},
     "output_type": "execute_result"
    },
    {
     "data": {
      "image/png": "[encoded data removed]",
      "text/plain": [
       "<Figure size 432x288 with 1 Axes>"
      ]
     },
     "metadata": {
      "needs_background": "light"
     },
     "output_type": "display_data"
    }
   ],
   "source": [
    "from  sklearn.linear_model import Ridge\n",
    "\n",
    "x_range = [0.01, 0.1, 1, 10, 100]\n",
    "train_score_list = []\n",
    "test_score_list = []\n",
    "\n",
    "for alpha in x_range: \n",
    "    ridge = Ridge(alpha,random_state=0)\n",
    "    ridge.fit(X_train,y_train)\n",
    "    train_score_list.append(ridge.score(X_train,y_train))\n",
    "    test_score_list.append(ridge.score(X_test, y_test))\n",
    "\n",
    "%matplotlib inline\n",
    "import matplotlib.pyplot as plt\n",
    "plt.plot(x_range, train_score_list, c = 'g', label = 'Train Score')\n",
    "plt.plot(x_range, test_score_list, c = 'b', label = 'Test Score')\n",
    "plt.xscale('log')\n",
    "plt.legend(loc = 3)\n",
    "plt.xlabel(r'$\\alpha$')"
   ]
  },
  {
   "cell_type": "code",
   "execution_count": 37,
   "metadata": {},
   "outputs": [
    {
     "name": "stdout",
     "output_type": "stream",
     "text": [
      "{'alpha': 100}\n",
      "validation score:  0.04101090099604565\n",
      "0.04460566449739257\n"
     ]
    }
   ],
   "source": [
    "from sklearn.linear_model import Ridge\n",
    "from sklearn.model_selection import GridSearchCV\n",
    "np.random.seed(0)\n",
    "    \n",
    "x_range = [0.01, 0.1, 1, 10, 100]\n",
    "tuned_parameters = [{'alpha':x_range}]\n",
    "\n",
    "ridge = Ridge(max_iter=1000,tol=0.1,random_state=0)\n",
    "gri1=GridSearchCV(ridge,tuned_parameters,cv=5, return_train_score= True, iid = False)\n",
    "gri_model1=gri1.fit(X_train,y_train)\n",
    "\n",
    "print(gri1.best_params_)\n",
    "print('validation score: ', gri1.best_score_)\n",
    "y_pred1= gri_model1.score(X_test,y_test)\n",
    "print(y_pred1)"
   ]
  },
  {
   "cell_type": "code",
   "execution_count": 38,
   "metadata": {},
   "outputs": [
    {
     "name": "stdout",
     "output_type": "stream",
     "text": [
      "0.04208701717082097\n",
      "0.04460566449739257\n",
      "0.5662696721316556\n"
     ]
    }
   ],
   "source": [
    "y_pred = gri_model1.predict(X_test)\n",
    "print(gri_model1.score(X_train,y_train))\n",
    "print(gri_model1.score(X_test,y_test))\n",
    "print(mean_squared_error(y_test, y_pred))"
   ]
  },
  {
   "cell_type": "markdown",
   "metadata": {},
   "source": [
    "## LASSO REGRESSION"
   ]
  },
  {
   "cell_type": "code",
   "execution_count": 39,
   "metadata": {},
   "outputs": [
    {
     "data": {
      "text/plain": [
       "Text(0.5, 0, '$\\\\alpha$')"
      ]
     },
     "execution_count": 39,
     "metadata": {},
     "output_type": "execute_result"
    },
    {
     "data": {
      "image/png": "[encoded data removed]",
      "text/plain": [
       "<Figure size 432x288 with 1 Axes>"
      ]
     },
     "metadata": {
      "needs_background": "light"
     },
     "output_type": "display_data"
    }
   ],
   "source": [
    "from sklearn.linear_model import Lasso\n",
    "x_range = [0.01, 0.1, 1, 10, 100]\n",
    "train_score_list = []\n",
    "test_score_list = []\n",
    "\n",
    "for alpha in x_range: \n",
    "    lasso = Lasso(alpha,random_state=0)\n",
    "    lasso.fit(X_train,y_train)\n",
    "    train_score_list.append(lasso.score(X_train,y_train))\n",
    "    test_score_list.append(lasso.score(X_test, y_test))\n",
    "    \n",
    "    \n",
    "plt.plot(x_range, train_score_list, c = 'g', label = 'Train Score')\n",
    "plt.plot(x_range, test_score_list, c = 'b', label = 'Test Score')\n",
    "plt.xscale('log')\n",
    "plt.legend(loc = 3)\n",
    "plt.xlabel(r'$\\alpha$')"
   ]
  },
  {
   "cell_type": "code",
   "execution_count": 40,
   "metadata": {},
   "outputs": [
    {
     "name": "stdout",
     "output_type": "stream",
     "text": [
      "{'alpha': 0.01}\n",
      "validation score:  0.024623592902992476\n",
      "0.027889344701536367\n"
     ]
    }
   ],
   "source": [
    "from sklearn.linear_model import Lasso\n",
    "from sklearn.model_selection import GridSearchCV\n",
    "np.random.seed(0)\n",
    "    \n",
    "x_range = [0.01, 0.1, 1, 10, 100]\n",
    "tuned_parameters = [{'alpha':x_range}]\n",
    "\n",
    "lasso = Lasso(max_iter=1000,tol=0.1,random_state=0)\n",
    "gri=GridSearchCV(lasso,tuned_parameters,cv=5, return_train_score= True, iid = False)\n",
    "gri_model=gri.fit(X_train,y_train)\n",
    "\n",
    "print(gri_model.best_params_)\n",
    "print('validation score: ', gri_model.best_score_)\n",
    "y_pred= gri_model.score(X_test,y_test)\n",
    "print(y_pred)"
   ]
  },
  {
   "cell_type": "code",
   "execution_count": 41,
   "metadata": {},
   "outputs": [
    {
     "name": "stdout",
     "output_type": "stream",
     "text": [
      "0.024708383579116755\n",
      "0.027889344701536367\n",
      "0.5761775652165225\n"
     ]
    }
   ],
   "source": [
    "y_pred = gri_model.predict(X_test)\n",
    "print(gri_model.score(X_train,y_train))\n",
    "print(gri_model.score(X_test,y_test))\n",
    "print(mean_squared_error(y_test, y_pred))"
   ]
  },
  {
   "cell_type": "markdown",
   "metadata": {},
   "source": [
    "## SGD Regressor"
   ]
  },
  {
   "cell_type": "code",
   "execution_count": 42,
   "metadata": {
    "scrolled": true
   },
   "outputs": [
    {
     "name": "stdout",
     "output_type": "stream",
     "text": [
      "0.009907460231954435\n",
      "0.009122754678833056\n",
      "0.5873006694513775\n"
     ]
    }
   ],
   "source": [
    "from sklearn.linear_model import SGDRegressor\n",
    "\n",
    "sgd_reg = SGDRegressor(random_state= 0, max_iter = 100000, learning_rate = 'optimal', penalty = 'l2')\n",
    "sgd_reg.fit(X_train, y_train)\n",
    "print(sgd_reg.score(X_train, y_train))\n",
    "print(sgd_reg.score(X_test, y_test))\n",
    "y_pred = sgd_reg.predict(X_test)\n",
    "print(mean_squared_error(y_test, y_pred))"
   ]
  },
  {
   "cell_type": "markdown",
   "metadata": {},
   "source": [
    "LINEAR SVR"
   ]
  },
  {
   "cell_type": "code",
   "execution_count": 49,
   "metadata": {},
   "outputs": [
    {
     "name": "stdout",
     "output_type": "stream",
     "text": [
      "train score:  -0.16855524335340522\n",
      "test score:  -0.18169963264177857\n",
      "Best Paramters {'C': 1}\n",
      "Best score: -0.16975899084490353\n",
      "0.7004025863123108\n"
     ]
    }
   ],
   "source": [
    "from sklearn import svm\n",
    "from sklearn.svm import LinearSVR\n",
    "\n",
    "tuning_parameters = [{'C': [0.01, 0.1 ,1, 10, 100]}]\n",
    "\n",
    "lsvm_grid = GridSearchCV(svm.LinearSVR(), param_grid=tuning_parameters,cv=5)\n",
    "grid_lsvm=lsvm_grid.fit(X_train,y_train) \n",
    "\n",
    "print('train score: ', grid_lsvm.score(X_train, y_train))\n",
    "print('test score: ', grid_lsvm.score(X_test, y_test))\n",
    "print('Best Paramters' ,grid_lsvm.best_params_)\n",
    "print('Best score:', grid_lsvm.best_score_)\n",
    "y_pred = grid_lsvm.predict(X_test)\n",
    "print(mean_squared_error(y_test, y_pred))"
   ]
  },
  {
   "cell_type": "markdown",
   "metadata": {},
   "source": [
    "## SVM REGRESSOR\n",
    "\n",
    "## $ \\underline{ NOTE: } $ All the below SVM models with kernels took multiple days to run.\n",
    "\n",
    "### Linear Kernel"
   ]
  },
  {
   "cell_type": "code",
   "execution_count": 43,
   "metadata": {},
   "outputs": [
    {
     "name": "stdout",
     "output_type": "stream",
     "text": [
      "{'C': 1, 'kernel': 'linear'}\n",
      "Validation score: -0.0816729697939599\n"
     ]
    }
   ],
   "source": [
    "from sklearn.model_selection import GridSearchCV\n",
    "from sklearn import svm\n",
    "\n",
    "tuning_parameters = {'C':[0.1, 1], 'kernel':['linear']}\n",
    "\n",
    "svm_grid = GridSearchCV(svm.SVR(), param_grid=tuning_parameters,cv=3)\n",
    "svm_model_linear=svm_grid.fit(X_train,y_train) \n",
    "print(svm_model_linear.best_params_)\n",
    "print('Validation score:', svm_model_linear.best_score_) "
   ]
  },
  {
   "cell_type": "code",
   "execution_count": 44,
   "metadata": {},
   "outputs": [
    {
     "name": "stdout",
     "output_type": "stream",
     "text": [
      "-0.08130630355258672\n",
      "-0.08782825951730655\n",
      "0.644764291519848\n"
     ]
    }
   ],
   "source": [
    "y_pred = svm_model_linear.predict(X_test)\n",
    "print(svm_model_linear.score(X_train,y_train))\n",
    "print(svm_model_linear.score(X_test,y_test))\n",
    "print(mean_squared_error(y_test, y_pred))"
   ]
  },
  {
   "cell_type": "markdown",
   "metadata": {},
   "source": [
    "### RBF Kernel"
   ]
  },
  {
   "cell_type": "code",
   "execution_count": 45,
   "metadata": {},
   "outputs": [
    {
     "name": "stdout",
     "output_type": "stream",
     "text": [
      "{'C': 1, 'kernel': 'rbf'}\n",
      "Validation score: -0.08148738977126876\n"
     ]
    }
   ],
   "source": [
    "from sklearn.model_selection import GridSearchCV\n",
    "from sklearn import svm\n",
    "\n",
    "tuning_parameters = {'C':[0.1, 1], 'kernel':['rbf']}\n",
    "\n",
    "svm_grid = GridSearchCV(svm.SVR(), param_grid=tuning_parameters,cv=3)\n",
    "svm_model_rbf=svm_grid.fit(X_train,y_train) \n",
    "print(svm_model_rbf.best_params_)\n",
    "print('Validation score:', svm_model_rbf.best_score_) "
   ]
  },
  {
   "cell_type": "code",
   "execution_count": 46,
   "metadata": {},
   "outputs": [
    {
     "name": "stdout",
     "output_type": "stream",
     "text": [
      "-0.08083441539109358\n",
      "-0.08768592412128551\n",
      "0.6446799282207971\n"
     ]
    }
   ],
   "source": [
    "y_pred = svm_model_rbf.predict(X_test)\n",
    "print(svm_model_rbf.score(X_train,y_train))\n",
    "print(svm_model_rbf.score(X_test,y_test))\n",
    "print(mean_squared_error(y_test, y_pred))"
   ]
  },
  {
   "cell_type": "markdown",
   "metadata": {},
   "source": [
    "### Poly Kernel"
   ]
  },
  {
   "cell_type": "code",
   "execution_count": 47,
   "metadata": {},
   "outputs": [
    {
     "name": "stdout",
     "output_type": "stream",
     "text": [
      "{'C': 1, 'kernel': 'poly'}\n",
      "Validation score: -0.08156676713386866\n"
     ]
    }
   ],
   "source": [
    "from sklearn.model_selection import GridSearchCV\n",
    "from sklearn import svm\n",
    "\n",
    "tuning_parameters = {'C':[0.1,1], 'kernel':['poly']}\n",
    "\n",
    "svm_grid = GridSearchCV(svm.SVR(), param_grid=tuning_parameters,cv=3)\n",
    "svm_model_poly=svm_grid.fit(X_train,y_train) \n",
    "print(svm_model_poly.best_params_)\n",
    "print('Validation score:', svm_model_poly.best_score_) "
   ]
  },
  {
   "cell_type": "code",
   "execution_count": 48,
   "metadata": {},
   "outputs": [
    {
     "name": "stdout",
     "output_type": "stream",
     "text": [
      "-0.0810139814901849\n",
      "-0.08777105997498902\n",
      "0.6447303889051156\n"
     ]
    }
   ],
   "source": [
    "y_pred = svm_model_poly.predict(X_test)\n",
    "print(svm_model_poly.score(X_train,y_train))\n",
    "print(svm_model_poly.score(X_test,y_test))\n",
    "print(mean_squared_error(y_test, y_pred))"
   ]
  },
  {
   "cell_type": "markdown",
   "metadata": {},
   "source": [
    "## Decision Tree Regressor"
   ]
  },
  {
   "cell_type": "code",
   "execution_count": 21,
   "metadata": {},
   "outputs": [
    {
     "name": "stdout",
     "output_type": "stream",
     "text": [
      "0.011276235821413771 {'max_depth': 3}\n"
     ]
    }
   ],
   "source": [
    "from sklearn.tree import DecisionTreeRegressor\n",
    "\n",
    "parameters = {'max_depth':range(3,20)}\n",
    "clf = GridSearchCV(DecisionTreeRegressor(random_state= 0), parameters, n_jobs=4)\n",
    "clf.fit(X=X_train, y=y_train)\n",
    "tree_model = clf.best_estimator_\n",
    "print (clf.best_score_, clf.best_params_) "
   ]
  },
  {
   "cell_type": "code",
   "execution_count": 23,
   "metadata": {},
   "outputs": [
    {
     "data": {
      "text/plain": [
       "'Decision Regressor PCA.pdf'"
      ]
     },
     "execution_count": 23,
     "metadata": {},
     "output_type": "execute_result"
    }
   ],
   "source": [
    "import graphviz \n",
    "from sklearn import tree\n",
    "reg=DecisionTreeRegressor(max_depth=5,random_state= 0)\n",
    "reg.fit(X=X_train, y=y_train)\n",
    "dot_data = tree.export_graphviz(reg, out_file=None)\n",
    "graph = graphviz.Source(dot_data) \n",
    "graph.render(\"Decision Regressor PCA\") "
   ]
  },
  {
   "cell_type": "code",
   "execution_count": 51,
   "metadata": {},
   "outputs": [
    {
     "name": "stdout",
     "output_type": "stream",
     "text": [
      "0.03056719323015178\n",
      "0.020591291736263728\n",
      "0.5805031781140182\n"
     ]
    }
   ],
   "source": [
    "reg=DecisionTreeRegressor(max_depth=5,random_state= 0)\n",
    "reg.fit(X=X_train, y=y_train)\n",
    "y_pred = clf.predict(X_test)\n",
    "print(clf.score(X_train,y_train))\n",
    "print(clf.score(X_test,y_test))\n",
    "print(mean_squared_error(y_test, y_pred))"
   ]
  },
  {
   "cell_type": "markdown",
   "metadata": {},
   "source": [
    "# Deep Learning Model"
   ]
  },
  {
   "cell_type": "code",
   "execution_count": 23,
   "metadata": {},
   "outputs": [],
   "source": [
    "X_train1 = np.asarray(X_train_without_PCA) \n",
    "X_test1 = np.asarray(X_test_without_PCA) \n",
    "y_train1 = np.asarray(y_train) \n",
    "y_test1 = np.asarray(y_test) "
   ]
  },
  {
   "cell_type": "code",
   "execution_count": 24,
   "metadata": {},
   "outputs": [
    {
     "name": "stderr",
     "output_type": "stream",
     "text": [
      "Using TensorFlow backend.\n"
     ]
    },
    {
     "name": "stdout",
     "output_type": "stream",
     "text": [
      "Epoch 1/20\n",
      "95629/95629 [==============================] - 3s 34us/step - loss: 0.7036 - mse: 0.7036 - mae: 0.5294\n",
      "Epoch 2/20\n",
      "95629/95629 [==============================] - 1s 11us/step - loss: 0.6032 - mse: 0.6032 - mae: 0.4810\n",
      "Epoch 3/20\n",
      "95629/95629 [==============================] - 1s 11us/step - loss: 0.5935 - mse: 0.5935 - mae: 0.4745\n",
      "Epoch 4/20\n",
      "95629/95629 [==============================] - 1s 9us/step - loss: 0.5842 - mse: 0.5842 - mae: 0.4669\n",
      "Epoch 5/20\n",
      "95629/95629 [==============================] - 1s 9us/step - loss: 0.5797 - mse: 0.5797 - mae: 0.4628\n",
      "Epoch 6/20\n",
      "95629/95629 [==============================] - 1s 10us/step - loss: 0.5766 - mse: 0.5766 - mae: 0.4594\n",
      "Epoch 7/20\n",
      "95629/95629 [==============================] - ETA: 0s - loss: 0.5774 - mse: 0.5775 - mae: 0.457 - 1s 10us/step - loss: 0.5751 - mse: 0.5751 - mae: 0.4580\n",
      "Epoch 8/20\n",
      "95629/95629 [==============================] - 1s 9us/step - loss: 0.5733 - mse: 0.5733 - mae: 0.4564\n",
      "Epoch 9/20\n",
      "95629/95629 [==============================] - 1s 9us/step - loss: 0.5725 - mse: 0.5725 - mae: 0.4553\n",
      "Epoch 10/20\n",
      "95629/95629 [==============================] - 1s 10us/step - loss: 0.5715 - mse: 0.5715 - mae: 0.4543\n",
      "Epoch 11/20\n",
      "95629/95629 [==============================] - 1s 12us/step - loss: 0.5703 - mse: 0.5703 - mae: 0.4537\n",
      "Epoch 12/20\n",
      "95629/95629 [==============================] - 1s 11us/step - loss: 0.5698 - mse: 0.5698 - mae: 0.4536\n",
      "Epoch 13/20\n",
      "95629/95629 [==============================] - 1s 12us/step - loss: 0.5692 - mse: 0.5692 - mae: 0.4526\n",
      "Epoch 14/20\n",
      "95629/95629 [==============================] - 1s 11us/step - loss: 0.5689 - mse: 0.5689 - mae: 0.4535\n",
      "Epoch 15/20\n",
      "95629/95629 [==============================] - 1s 12us/step - loss: 0.5681 - mse: 0.5681 - mae: 0.4524\n",
      "Epoch 16/20\n",
      "95629/95629 [==============================] - 1s 12us/step - loss: 0.5673 - mse: 0.5673 - mae: 0.4519\n",
      "Epoch 17/20\n",
      "95629/95629 [==============================] - 1s 11us/step - loss: 0.5673 - mse: 0.5673 - mae: 0.4520\n",
      "Epoch 18/20\n",
      "95629/95629 [==============================] - 1s 11us/step - loss: 0.5668 - mse: 0.5668 - mae: 0.4518\n",
      "Epoch 19/20\n",
      "95629/95629 [==============================] - 1s 11us/step - loss: 0.5663 - mse: 0.5663 - mae: 0.4513\n",
      "Epoch 20/20\n",
      "95629/95629 [==============================] - 1s 11us/step - loss: 0.5664 - mse: 0.5664 - mae: 0.4515\n",
      "95629/95629 [==============================] - 1s 15us/step\n",
      "[0.5635070170410196, 0.5635066032409668, 0.4625282883644104]\n",
      "40985/40985 [==============================] - 1s 13us/step\n",
      "[0.5343165443003781, 0.5343167185783386, 0.4673609733581543]\n",
      "0.5343165436726312\n"
     ]
    }
   ],
   "source": [
    "from keras.models import Sequential\n",
    "from keras.layers import Dense\n",
    "\n",
    "model = Sequential()\n",
    "model.add(Dense(13, input_dim=123, kernel_initializer='normal', activation='relu'))\n",
    "model.add(Dense(1, kernel_initializer='normal'))\n",
    "model.compile(loss = 'mse', optimizer = 'adam', metrics = ['mse', 'mae'])\n",
    "\n",
    "model.fit(X_train1, y_train1, epochs= 20, batch_size=128)\n",
    "\n",
    "y_pred1 = model.predict(X_test1)\n",
    "print(model.evaluate(X_train1,y_train1))\n",
    "print(model.evaluate(X_test1,y_test1))\n",
    "print(mean_squared_error(y_test1, y_pred1))"
   ]
  },
  {
   "cell_type": "code",
   "execution_count": null,
   "metadata": {},
   "outputs": [],
   "source": []
  }
 ],
 "metadata": {
  "kernelspec": {
   "display_name": "Python 3",
   "language": "python",
   "name": "python3"
  },
  "language_info": {
   "codemirror_mode": {
    "name": "ipython",
    "version": 3
   },
   "file_extension": ".py",
   "mimetype": "text/x-python",
   "name": "python",
   "nbconvert_exporter": "python",
   "pygments_lexer": "ipython3",
   "version": "3.7.6"
  }
 },
 "nbformat": 4,
 "nbformat_minor": 2
}
